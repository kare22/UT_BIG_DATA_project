{
 "cells": [
  {
   "cell_type": "markdown",
   "id": "4b414625",
   "metadata": {},
   "source": [
    "## Task 1"
   ]
  },
  {
   "cell_type": "code",
   "execution_count": null,
   "id": "6c0018a7",
   "metadata": {},
   "outputs": [],
   "source": [
    "import pyspark\n",
    "from pyspark.sql import functions as F\n",
    "\n",
    "spark = pyspark.sql.SparkSession.builder \\\n",
    "    .appName(\"Project 4\") \\\n",
    "    .config(\"spark.driver.memory\", \"4g\") \\\n",
    "    .config(\"spark.executor.memory\", \"4g\") \\\n",
    "    .config(\"spark.sql.shuffle.partitions\", \"100\") \\\n",
    "    .getOrCreate()"
   ]
  },
  {
   "cell_type": "code",
   "execution_count": 46,
   "id": "f96245fe",
   "metadata": {},
   "outputs": [],
   "source": [
    "df = spark.read.csv('./data/2009.csv', header=True, inferSchema=True)"
   ]
  },
  {
   "cell_type": "code",
   "execution_count": 47,
   "id": "b4739b67",
   "metadata": {},
   "outputs": [],
   "source": [
    "from pathlib import Path\n",
    "\n",
    "data_path = \"./output/2009.parquet\"\n",
    "data_file = Path(data_path)\n",
    "if not data_file.exists():\n",
    "\n",
    "    df = spark.read.csv('./data/2009.csv', header=True)\n",
    "    print(f\"Total flights: {df.count()}\")\n",
    "\n",
    "    df_2009 = df.filter(F.year(F.col(\"FL_DATE\")) == 2009)\n",
    "    print(f\"2009 flights: {df_2009.count()}\")\n",
    "\n",
    "    df_2009.write.partitionBy(\"FL_DATE\").mode(\"overwrite\").parquet(data_path)\n",
    "\n",
    "df_flights = spark.read.load(data_path)"
   ]
  },
  {
   "cell_type": "markdown",
   "id": "670fb039",
   "metadata": {},
   "source": [
    "## Task 2"
   ]
  },
  {
   "cell_type": "code",
   "execution_count": 48,
   "id": "4aa30d47",
   "metadata": {},
   "outputs": [
    {
     "name": "stdout",
     "output_type": "stream",
     "text": [
      "+-------------+---------+------+-----------+----------------------+-------------+--------------+-------+---------+--------+------+--------------------+-----------+------------+---------+----------------+--------+--------------------+-----------------+-------+--------+------------+------------+--------+-------------+-----------------+----------+\n",
      "|UniqueCarrier|FlightNum|Origin|Destination|ScheduledDepartureTime|DepartureTime|DepartureDelay|TaxiOut|WheelsOff|WheelsOn|TaxiIn|ScheduledArrivalTime|ArrivalTime|ArrivalDelay|Cancelled|CancellationCode|Diverted|ScheduledElapsedTime|ActualElapsedTime|AirTime|Distance|CarrierDelay|WeatherDelay|NASDelay|SecurityDelay|LateAircraftDelay|FlightDate|\n",
      "+-------------+---------+------+-----------+----------------------+-------------+--------------+-------+---------+--------+------+--------------------+-----------+------------+---------+----------------+--------+--------------------+-----------------+-------+--------+------------+------------+--------+-------------+-----------------+----------+\n",
      "|           WN|      328|   ABQ|        BWI|                  1600|       1559.0|          -1.0|    7.0|   1606.0|  2119.0|   4.0|                2150|     2123.0|       -27.0|      0.0|            NULL|     0.0|               230.0|            204.0|  193.0|  1670.0|        NULL|        NULL|    NULL|         NULL|             NULL|2009-07-31|\n",
      "|           WN|     2898|   ABQ|        BWI|                  1020|       1017.0|          -3.0|    5.0|   1022.0|  1608.0|   3.0|                1610|     1611.0|         1.0|      0.0|            NULL|     0.0|               230.0|            234.0|  226.0|  1670.0|        NULL|        NULL|    NULL|         NULL|             NULL|2009-07-31|\n",
      "|           WN|       29|   ABQ|        DAL|                  1745|       1753.0|           8.0|    6.0|   1759.0|  2018.0|   4.0|                2030|     2022.0|        -8.0|      0.0|            NULL|     0.0|               105.0|             89.0|   79.0|   580.0|        NULL|        NULL|    NULL|         NULL|             NULL|2009-07-31|\n",
      "|           WN|       87|   ABQ|        DAL|                   700|        658.0|          -2.0|    6.0|    704.0|   922.0|   2.0|                 940|      924.0|       -16.0|      0.0|            NULL|     0.0|               100.0|             86.0|   78.0|   580.0|        NULL|        NULL|    NULL|         NULL|             NULL|2009-07-31|\n",
      "|           WN|      391|   ABQ|        DAL|                  1230|       1233.0|           3.0|   13.0|   1246.0|  1504.0|   3.0|                1510|     1507.0|        -3.0|      0.0|            NULL|     0.0|               100.0|             94.0|   78.0|   580.0|        NULL|        NULL|    NULL|         NULL|             NULL|2009-07-31|\n",
      "|           WN|      595|   ABQ|        DAL|                   910|        904.0|          -6.0|    9.0|    913.0|  1130.0|   3.0|                1155|     1133.0|       -22.0|      0.0|            NULL|     0.0|               105.0|             89.0|   77.0|   580.0|        NULL|        NULL|    NULL|         NULL|             NULL|2009-07-31|\n",
      "|           WN|      787|   ABQ|        DAL|                  1915|       1958.0|          43.0|    7.0|   2005.0|  2221.0|   3.0|                2155|     2224.0|        29.0|      0.0|            NULL|     0.0|               100.0|             86.0|   76.0|   580.0|        29.0|         0.0|     0.0|          0.0|              0.0|2009-07-31|\n",
      "|           WN|      850|   ABQ|        DAL|                  1345|       1350.0|           5.0|    6.0|   1356.0|  1614.0|   4.0|                1630|     1618.0|       -12.0|      0.0|            NULL|     0.0|               105.0|             88.0|   78.0|   580.0|        NULL|        NULL|    NULL|         NULL|             NULL|2009-07-31|\n",
      "|           WN|     1749|   ABQ|        DAL|                  1815|       1806.0|          -9.0|    6.0|   1812.0|  2028.0|  19.0|                2100|     2047.0|       -13.0|      0.0|            NULL|     0.0|               105.0|            101.0|   76.0|   580.0|        NULL|        NULL|    NULL|         NULL|             NULL|2009-07-31|\n",
      "|           WN|     2232|   ABQ|        DAL|                  1500|       1452.0|          -8.0|    9.0|   1501.0|  1718.0|  12.0|                1745|     1730.0|       -15.0|      0.0|            NULL|     0.0|               105.0|             98.0|   77.0|   580.0|        NULL|        NULL|    NULL|         NULL|             NULL|2009-07-31|\n",
      "|           WN|      522|   ABQ|        DEN|                   710|        710.0|           0.0|   12.0|    722.0|   813.0|   6.0|                 825|      819.0|        -6.0|      0.0|            NULL|     0.0|                75.0|             69.0|   51.0|   349.0|        NULL|        NULL|    NULL|         NULL|             NULL|2009-07-31|\n",
      "|           WN|      822|   ABQ|        DEN|                  1200|       1205.0|           5.0|    7.0|   1212.0|  1303.0|  18.0|                1315|     1321.0|         6.0|      0.0|            NULL|     0.0|                75.0|             76.0|   51.0|   349.0|        NULL|        NULL|    NULL|         NULL|             NULL|2009-07-31|\n",
      "|           WN|     2373|   ABQ|        DEN|                  1700|       1720.0|          20.0|    8.0|   1728.0|  1832.0|   9.0|                1815|     1841.0|        26.0|      0.0|            NULL|     0.0|                75.0|             81.0|   64.0|   349.0|         0.0|        12.0|     6.0|          0.0|              8.0|2009-07-31|\n",
      "|           WN|      334|   ABQ|        ELP|                  1955|       2023.0|          28.0|    9.0|   2032.0|  2110.0|   5.0|                2050|     2115.0|        25.0|      0.0|            NULL|     0.0|                55.0|             52.0|   38.0|   223.0|         0.0|         0.0|     0.0|          0.0|             25.0|2009-07-31|\n",
      "|           WN|     1488|   ABQ|        ELP|                   935|        953.0|          18.0|    6.0|    959.0|  1038.0|   2.0|                1030|     1040.0|        10.0|      0.0|            NULL|     0.0|                55.0|             47.0|   39.0|   223.0|        NULL|        NULL|    NULL|         NULL|             NULL|2009-07-31|\n",
      "|           WN|      870|   ABQ|        HOU|                   625|        626.0|           1.0|    6.0|    632.0|   912.0|   6.0|                 925|      918.0|        -7.0|      0.0|            NULL|     0.0|               120.0|            112.0|  100.0|   759.0|        NULL|        NULL|    NULL|         NULL|             NULL|2009-07-31|\n",
      "|           WN|     1306|   ABQ|        HOU|                  1235|       1232.0|          -3.0|   12.0|   1244.0|  1526.0|   6.0|                1545|     1532.0|       -13.0|      0.0|            NULL|     0.0|               130.0|            120.0|  102.0|   759.0|        NULL|        NULL|    NULL|         NULL|             NULL|2009-07-31|\n",
      "|           WN|     2104|   ABQ|        HOU|                  2045|       2044.0|          -1.0|    7.0|   2051.0|  2332.0|   4.0|                2345|     2336.0|        -9.0|      0.0|            NULL|     0.0|               120.0|            112.0|  101.0|   759.0|        NULL|        NULL|    NULL|         NULL|             NULL|2009-07-31|\n",
      "|           WN|      240|   ABQ|        LAS|                  1715|       1738.0|          23.0|    6.0|   1744.0|  1804.0|   4.0|                1750|     1808.0|        18.0|      0.0|            NULL|     0.0|                95.0|             90.0|   80.0|   487.0|         4.0|         0.0|     0.0|          0.0|             14.0|2009-07-31|\n",
      "|           WN|      241|   ABQ|        LAS|                   820|        825.0|           5.0|    5.0|    830.0|   847.0|   3.0|                 850|      850.0|         0.0|      0.0|            NULL|     0.0|                90.0|             85.0|   77.0|   487.0|        NULL|        NULL|    NULL|         NULL|             NULL|2009-07-31|\n",
      "+-------------+---------+------+-----------+----------------------+-------------+--------------+-------+---------+--------+------+--------------------+-----------+------------+---------+----------------+--------+--------------------+-----------------+-------+--------+------------+------------+--------+-------------+-----------------+----------+\n",
      "only showing top 20 rows\n",
      "\n"
     ]
    }
   ],
   "source": [
    "\n",
    "df_renamed = df_flights \\\n",
    "    .withColumnRenamed(\"FL_DATE\", \"FlightDate\") \\\n",
    "    .withColumnRenamed(\"OP_CARRIER\", \"UniqueCarrier\") \\\n",
    "    .withColumnRenamed(\"OP_CARRIER_FL_NUM\", \"FlightNum\") \\\n",
    "    .withColumnRenamed(\"ORIGIN\", \"Origin\") \\\n",
    "    .withColumnRenamed(\"DEST\", \"Destination\") \\\n",
    "    .withColumnRenamed(\"CRS_DEP_TIME\", \"ScheduledDepartureTime\") \\\n",
    "    .withColumnRenamed(\"DEP_TIME\", \"DepartureTime\") \\\n",
    "    .withColumnRenamed(\"DEP_DELAY\", \"DepartureDelay\") \\\n",
    "    .withColumnRenamed(\"TAXI_OUT\", \"TaxiOut\") \\\n",
    "    .withColumnRenamed(\"WHEELS_OFF\", \"WheelsOff\") \\\n",
    "    .withColumnRenamed(\"WHEELS_ON\", \"WheelsOn\") \\\n",
    "    .withColumnRenamed(\"TAXI_IN\", \"TaxiIn\") \\\n",
    "    .withColumnRenamed(\"CRS_ARR_TIME\", \"ScheduledArrivalTime\") \\\n",
    "    .withColumnRenamed(\"ARR_TIME\", \"ArrivalTime\") \\\n",
    "    .withColumnRenamed(\"ARR_DELAY\", \"ArrivalDelay\") \\\n",
    "    .withColumnRenamed(\"CANCELLED\", \"Cancelled\") \\\n",
    "    .withColumnRenamed(\"CANCELLATION_CODE\", \"CancellationCode\") \\\n",
    "    .withColumnRenamed(\"DIVERTED\", \"Diverted\") \\\n",
    "    .withColumnRenamed(\"CRS_ELAPSED_TIME\", \"ScheduledElapsedTime\") \\\n",
    "    .withColumnRenamed(\"ACTUAL_ELAPSED_TIME\", \"ActualElapsedTime\") \\\n",
    "    .withColumnRenamed(\"AIR_TIME\", \"AirTime\") \\\n",
    "    .withColumnRenamed(\"DISTANCE\", \"Distance\") \\\n",
    "    .withColumnRenamed(\"CARRIER_DELAY\", \"CarrierDelay\") \\\n",
    "    .withColumnRenamed(\"WEATHER_DELAY\", \"WeatherDelay\") \\\n",
    "    .withColumnRenamed(\"NAS_DELAY\", \"NASDelay\") \\\n",
    "    .withColumnRenamed(\"SECURITY_DELAY\", \"SecurityDelay\") \\\n",
    "    .withColumnRenamed(\"LATE_AIRCRAFT_DELAY\", \"LateAircraftDelay\") \\\n",
    "    .drop(\"Unnamed: 27\")\n",
    "\n",
    "df_renamed.show()"
   ]
  },
  {
   "cell_type": "code",
   "execution_count": 49,
   "id": "d7b662e8",
   "metadata": {},
   "outputs": [],
   "source": [
    "df_with_features = df_renamed \\\n",
    "    .withColumn(\"DayOfWeek\", F.dayofweek(F.col(\"FlightDate\"))) \\\n",
    "    .withColumn(\"Month\", F.month(F.col(\"FlightDate\")))"
   ]
  },
  {
   "cell_type": "code",
   "execution_count": 50,
   "id": "d4793880",
   "metadata": {},
   "outputs": [],
   "source": [
    "# null_columns = [c for c in df_with_features.columns if df_with_features.filter(F.col(c).isNull()).count() > 0]\n",
    "# null_columns"
   ]
  },
  {
   "cell_type": "code",
   "execution_count": 51,
   "id": "b0a1b0b5",
   "metadata": {},
   "outputs": [],
   "source": [
    "delays = [\n",
    "    'DepartureDelay',\n",
    "    'ArrivalDelay',\n",
    "    'CarrierDelay',\n",
    "    'WeatherDelay',\n",
    "    'NASDelay',\n",
    "    'SecurityDelay',\n",
    "    'LateAircraftDelay']\n",
    "times = [\n",
    "    'DepartureTime',\n",
    "    'TaxiOut',\n",
    "    'WheelsOff',\n",
    "    'WheelsOn',\n",
    "    'TaxiIn',\n",
    "    'ArrivalTime',\n",
    "    'ActualElapsedTime',\n",
    "    'AirTime']\n",
    "cancellation = [\n",
    "    'CancellationCode'\n",
    "]\n",
    "\n",
    "df_cleaned = df_with_features \\\n",
    "    .fillna(\"0\", subset=delays) \\\n",
    "    .fillna(\"\", subset=cancellation)\n",
    "\n",
    "for col_name in times:\n",
    "    df_cleaned = df_cleaned.withColumn(col_name, F.when((F.col(\"Cancelled\") == 1) | (F.col(\"Diverted\") == 1.0), 0).otherwise(F.col(col_name)))\n",
    "\n",
    "df_cleaned = df_cleaned.filter(F.col(\"Diverted\") == 0.0)"
   ]
  },
  {
   "cell_type": "code",
   "execution_count": 52,
   "id": "509adbc5",
   "metadata": {},
   "outputs": [
    {
     "name": "stdout",
     "output_type": "stream",
     "text": [
      "Found 1 rows with unjustified NULL values. Removing them.\n"
     ]
    }
   ],
   "source": [
    "from functools import reduce\n",
    "\n",
    "all_rows_count = df_cleaned.count()\n",
    "\n",
    "not_null_condition = reduce(lambda x, y: x & y, [F.col(c).isNotNull() for c in df_cleaned.columns])\n",
    "df_cleaned = df_cleaned.filter(not_null_condition)\n",
    "cleaned_rows_count = df_cleaned.count()\n",
    "\n",
    "print(f\"Found {all_rows_count - cleaned_rows_count} rows with unjustified NULL values. Removing them.\")"
   ]
  },
  {
   "cell_type": "code",
   "execution_count": 53,
   "id": "f20484c2",
   "metadata": {},
   "outputs": [],
   "source": [
    "# null_condition = [(F.col(c).isNull()) for c in df_cleaned.columns]\n",
    "# df_with_nulls = df_cleaned.filter(reduce(lambda x, y: x | y, null_condition))\n",
    "# df_with_nulls.show()"
   ]
  },
  {
   "cell_type": "markdown",
   "id": "0fd85756",
   "metadata": {},
   "source": [
    "## Task 3"
   ]
  },
  {
   "cell_type": "code",
   "execution_count": 54,
   "id": "9656ac86",
   "metadata": {},
   "outputs": [
    {
     "name": "stdout",
     "output_type": "stream",
     "text": [
      "Top 10 carriers by flight count:\n",
      "+-------------+-------+\n",
      "|UniqueCarrier|  count|\n",
      "+-------------+-------+\n",
      "|           WN|1127045|\n",
      "|           AA| 548194|\n",
      "|           OO| 544843|\n",
      "|           MQ| 434577|\n",
      "|           DL| 424982|\n",
      "|           US| 411273|\n",
      "|           UA| 375501|\n",
      "|           XE| 308340|\n",
      "|           EV| 297874|\n",
      "|           NW| 291856|\n",
      "+-------------+-------+\n",
      "\n"
     ]
    },
    {
     "data": {
      "image/png": "[encoded data removed]",
      "text/plain": [
       "<Figure size 640x480 with 1 Axes>"
      ]
     },
     "metadata": {},
     "output_type": "display_data"
    }
   ],
   "source": [
    "top_carriers = df_cleaned.groupBy(\"UniqueCarrier\").count().orderBy(F.desc(\"count\")).limit(10)\n",
    "print(\"Top 10 carriers by flight count:\")\n",
    "top_carriers.show()\n",
    "\n",
    "import matplotlib.pyplot as plt\n",
    "\n",
    "pdf = top_carriers.toPandas()\n",
    "plt.figure()\n",
    "plt.bar(pdf['UniqueCarrier'], pdf['count'])\n",
    "plt.title('Top 10 Carriers by Flight Count')\n",
    "plt.xlabel('Carrier')\n",
    "plt.ylabel('Flight Count')\n",
    "plt.show()"
   ]
  },
  {
   "cell_type": "code",
   "execution_count": 55,
   "id": "8c416544",
   "metadata": {},
   "outputs": [
    {
     "name": "stdout",
     "output_type": "stream",
     "text": [
      "Cancellation reasons\n",
      "+----------------+-----+\n",
      "|CancellationCode|count|\n",
      "+----------------+-----+\n",
      "|               B|36651|\n",
      "|               A|35568|\n",
      "|               C|14799|\n",
      "|               D|   20|\n",
      "+----------------+-----+\n",
      "\n"
     ]
    },
    {
     "data": {
      "image/png": "[encoded data removed]",
      "text/plain": [
       "<Figure size 640x480 with 1 Axes>"
      ]
     },
     "metadata": {},
     "output_type": "display_data"
    }
   ],
   "source": [
    "cancellation_counts = df_cleaned.filter(F.col(\"Cancelled\") == 1.0) \\\n",
    "                        .groupBy(\"CancellationCode\").count().orderBy(F.desc(\"count\")).limit(10)\n",
    "\n",
    "print(\"Cancellation reasons\")\n",
    "cancellation_counts.show()\n",
    "\n",
    "pdf = cancellation_counts.toPandas()\n",
    "plt.figure()\n",
    "plt.bar(pdf['CancellationCode'], pdf['count'])\n",
    "plt.title('Cancellation reasons by code')\n",
    "plt.xlabel('Cancellation code')\n",
    "plt.ylabel('Flight Count')\n",
    "plt.show()"
   ]
  },
  {
   "cell_type": "code",
   "execution_count": null,
   "id": "f1a38669",
   "metadata": {},
   "outputs": [
    {
     "name": "stdout",
     "output_type": "stream",
     "text": [
      "Class distribution\n"
     ]
    }
   ],
   "source": [
    "total_count = cancellation_counts.agg(F.sum(\"count\")).collect()[0][0]\n",
    "\n",
    "df = cancellation_counts.withColumn(\"distribution\", (F.col(\"count\") / total_count) * 100)\n",
    "\n",
    "max_count = df.agg(F.max(\"count\")).collect()[0][0]\n",
    "min_count = df.agg(F.min(\"count\")).collect()[0][0]\n",
    "imbalance_ratio = max_count / min_count\n",
    "\n",
    "print(\"Class distribution\")\n",
    "df.show()\n",
    "print(f\"Imbalance Ratio: {imbalance_ratio:.2f}\")\n"
   ]
  }
 ],
 "metadata": {
  "kernelspec": {
   "display_name": "Python 3 (ipykernel)",
   "language": "python",
   "name": "python3"
  },
  "language_info": {
   "codemirror_mode": {
    "name": "ipython",
    "version": 3
   },
   "file_extension": ".py",
   "mimetype": "text/x-python",
   "name": "python",
   "nbconvert_exporter": "python",
   "pygments_lexer": "ipython3",
   "version": "3.11.10"
  }
 },
 "nbformat": 4,
 "nbformat_minor": 5
}
