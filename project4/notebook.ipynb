{
 "cells": [
  {
   "cell_type": "markdown",
   "id": "4b414625",
   "metadata": {},
   "source": [
    "## Task 1"
   ]
  },
  {
   "cell_type": "code",
   "execution_count": 1,
   "id": "6c0018a7",
   "metadata": {},
   "outputs": [],
   "source": [
    "import pyspark\n",
    "from pyspark.sql import functions as F\n",
    "\n",
    "spark = pyspark.sql.SparkSession.builder \\\n",
    "    .appName(\"Project 4\") \\\n",
    "    .config(\"spark.driver.memory\", \"4g\") \\\n",
    "    .config(\"spark.executor.memory\", \"4g\") \\\n",
    "    .config(\"spark.sql.shuffle.partitions\", \"100\") \\\n",
    "    .getOrCreate()"
   ]
  },
  {
   "cell_type": "code",
   "execution_count": 2,
   "id": "f96245fe",
   "metadata": {},
   "outputs": [],
   "source": [
    "df = spark.read.csv('./data/2009.csv', header=True, inferSchema=True)"
   ]
  },
  {
   "cell_type": "code",
   "execution_count": 3,
   "id": "b4739b67",
   "metadata": {},
   "outputs": [],
   "source": [
    "from pathlib import Path\n",
    "\n",
    "data_path = \"./output/2009.parquet\"\n",
    "data_file = Path(data_path)\n",
    "if not data_file.exists():\n",
    "\n",
    "    df = spark.read.csv('./data/2009.csv', header=True)\n",
    "    print(f\"Total flights: {df.count()}\")\n",
    "\n",
    "    df_2009 = df.filter(F.year(F.col(\"FL_DATE\")) == 2009)\n",
    "    print(f\"2009 flights: {df_2009.count()}\")\n",
    "\n",
    "    df_2009.write.partitionBy(\"FL_DATE\").mode(\"overwrite\").parquet(data_path)\n",
    "\n",
    "df_flights = spark.read.load(data_path)"
   ]
  },
  {
   "cell_type": "markdown",
   "id": "670fb039",
   "metadata": {},
   "source": [
    "## Task 2"
   ]
  },
  {
   "cell_type": "code",
   "execution_count": 4,
   "id": "4aa30d47",
   "metadata": {},
   "outputs": [
    {
     "name": "stdout",
     "output_type": "stream",
     "text": [
      "+-------------+---------+------+-----------+----------------------+-------------+--------------+-------+---------+--------+------+--------------------+-----------+------------+---------+----------------+--------+--------------------+-----------------+-------+--------+------------+------------+--------+-------------+-----------------+----------+\n",
      "|UniqueCarrier|FlightNum|Origin|Destination|ScheduledDepartureTime|DepartureTime|DepartureDelay|TaxiOut|WheelsOff|WheelsOn|TaxiIn|ScheduledArrivalTime|ArrivalTime|ArrivalDelay|Cancelled|CancellationCode|Diverted|ScheduledElapsedTime|ActualElapsedTime|AirTime|Distance|CarrierDelay|WeatherDelay|NASDelay|SecurityDelay|LateAircraftDelay|FlightDate|\n",
      "+-------------+---------+------+-----------+----------------------+-------------+--------------+-------+---------+--------+------+--------------------+-----------+------------+---------+----------------+--------+--------------------+-----------------+-------+--------+------------+------------+--------+-------------+-----------------+----------+\n",
      "|           9E|      850|   ATL|        GSP|                  2242|       2240.0|          -2.0|   16.0|   2256.0|  2326.0|   4.0|                2340|     2330.0|       -10.0|      0.0|            NULL|     0.0|                58.0|             50.0|   30.0|   153.0|        NULL|        NULL|    NULL|         NULL|             NULL|2009-07-02|\n",
      "|           9E|      850|   MCI|        ATL|                  1845|       1840.0|          -5.0|   13.0|   1853.0|  2121.0|  22.0|                2149|     2143.0|        -6.0|      0.0|            NULL|     0.0|               124.0|            123.0|   88.0|   692.0|        NULL|        NULL|    NULL|         NULL|             NULL|2009-07-02|\n",
      "|           9E|      851|   ATL|        MSY|                   736|        733.0|          -3.0|   16.0|    749.0|   752.0|   8.0|                 812|      800.0|       -12.0|      0.0|            NULL|     0.0|                96.0|             87.0|   63.0|   425.0|        NULL|        NULL|    NULL|         NULL|             NULL|2009-07-02|\n",
      "|           9E|      852|   MSY|        ATL|                   842|        839.0|          -3.0|   14.0|    853.0|  1054.0|  10.0|                1115|     1104.0|       -11.0|      0.0|            NULL|     0.0|                93.0|             85.0|   61.0|   425.0|        NULL|        NULL|    NULL|         NULL|             NULL|2009-07-02|\n",
      "|           9E|      853|   GSP|        ATL|                   540|        535.0|          -5.0|   16.0|    551.0|   619.0|   7.0|                 640|      626.0|       -14.0|      0.0|            NULL|     0.0|                60.0|             51.0|   28.0|   153.0|        NULL|        NULL|    NULL|         NULL|             NULL|2009-07-02|\n",
      "|           9E|      854|   ATL|        MKE|                  1536|       1542.0|           6.0|   42.0|   1624.0|  1655.0|   3.0|                1645|     1658.0|        13.0|      0.0|            NULL|     0.0|               129.0|            136.0|   91.0|   669.0|        NULL|        NULL|    NULL|         NULL|             NULL|2009-07-02|\n",
      "|           9E|      855|   ATL|        MEM|                  1150|       1147.0|          -3.0|   16.0|   1203.0|  1156.0|   4.0|                1210|     1200.0|       -10.0|      0.0|            NULL|     0.0|                80.0|             73.0|   53.0|   332.0|        NULL|        NULL|    NULL|         NULL|             NULL|2009-07-02|\n",
      "|           9E|      855|   MEM|        ATL|                  1240|       1237.0|          -3.0|   14.0|   1251.0|  1443.0|  18.0|                1501|     1501.0|         0.0|      0.0|            NULL|     0.0|                81.0|             84.0|   52.0|   332.0|        NULL|        NULL|    NULL|         NULL|             NULL|2009-07-02|\n",
      "|           9E|      856|   MEM|        ATL|                   826|        823.0|          -3.0|   12.0|    835.0|  1027.0|  10.0|                1053|     1037.0|       -16.0|      0.0|            NULL|     0.0|                87.0|             74.0|   52.0|   332.0|        NULL|        NULL|    NULL|         NULL|             NULL|2009-07-02|\n",
      "|           9E|      857|   MKE|        ATL|                  1715|       1718.0|           3.0|   18.0|   1736.0|  2006.0|  19.0|                2029|     2025.0|        -4.0|      0.0|            NULL|     0.0|               134.0|            127.0|   90.0|   669.0|        NULL|        NULL|    NULL|         NULL|             NULL|2009-07-02|\n",
      "|           9E|      858|   ATL|        MEM|                  1835|       1855.0|          20.0|   30.0|   1925.0|  1916.0|   5.0|                1900|     1921.0|        21.0|      0.0|            NULL|     0.0|                85.0|             86.0|   51.0|   332.0|         0.0|         0.0|     1.0|          0.0|             20.0|2009-07-02|\n",
      "|           9E|      858|   MEM|        ATL|                  1940|       1952.0|          12.0|   11.0|   2003.0|  2152.0|   8.0|                2207|     2200.0|        -7.0|      0.0|            NULL|     0.0|                87.0|             68.0|   49.0|   332.0|        NULL|        NULL|    NULL|         NULL|             NULL|2009-07-02|\n",
      "|           9E|      859|   ATL|        MEM|                   728|        728.0|           0.0|   18.0|    746.0|   740.0|   6.0|                 755|      746.0|        -9.0|      0.0|            NULL|     0.0|                87.0|             78.0|   54.0|   332.0|        NULL|        NULL|    NULL|         NULL|             NULL|2009-07-02|\n",
      "|           9E|      860|   ATL|        MEM|                  2015|       2012.0|          -3.0|   22.0|   2034.0|  2024.0|   6.0|                2039|     2030.0|        -9.0|      0.0|            NULL|     0.0|                84.0|             78.0|   50.0|   332.0|        NULL|        NULL|    NULL|         NULL|             NULL|2009-07-02|\n",
      "|           9E|      861|   ATL|        MEM|                  1243|       1240.0|          -3.0|   22.0|   1302.0|  1257.0|   6.0|                1305|     1303.0|        -2.0|      0.0|            NULL|     0.0|                82.0|             83.0|   55.0|   332.0|        NULL|        NULL|    NULL|         NULL|             NULL|2009-07-02|\n",
      "|           9E|      862|   MEM|        ATL|                   715|        741.0|          26.0|   17.0|    758.0|   948.0|   7.0|                 943|      955.0|        12.0|      0.0|            NULL|     0.0|                88.0|             74.0|   50.0|   332.0|        NULL|        NULL|    NULL|         NULL|             NULL|2009-07-02|\n",
      "|           9E|      863|   ATL|        RIC|                  1705|       1703.0|          -2.0|   30.0|   1733.0|  1838.0|   6.0|                1850|     1844.0|        -6.0|      0.0|            NULL|     0.0|               105.0|            101.0|   65.0|   481.0|        NULL|        NULL|    NULL|         NULL|             NULL|2009-07-02|\n",
      "|           9E|      863|   MEM|        ATL|                  1345|       1344.0|          -1.0|   22.0|   1406.0|  1600.0|  18.0|                1609|     1618.0|         9.0|      0.0|            NULL|     0.0|                84.0|             94.0|   54.0|   332.0|        NULL|        NULL|    NULL|         NULL|             NULL|2009-07-02|\n",
      "|           9E|      864|   HSV|        ATL|                   630|        628.0|          -2.0|   11.0|    639.0|   810.0|   6.0|                 833|      816.0|       -17.0|      0.0|            NULL|     0.0|                63.0|             48.0|   31.0|   151.0|        NULL|        NULL|    NULL|         NULL|             NULL|2009-07-02|\n",
      "|           9E|      865|   GSP|        ATL|                   745|        737.0|          -8.0|   40.0|    817.0|   848.0|   8.0|                 843|      856.0|        13.0|      0.0|            NULL|     0.0|                58.0|             79.0|   31.0|   153.0|        NULL|        NULL|    NULL|         NULL|             NULL|2009-07-02|\n",
      "+-------------+---------+------+-----------+----------------------+-------------+--------------+-------+---------+--------+------+--------------------+-----------+------------+---------+----------------+--------+--------------------+-----------------+-------+--------+------------+------------+--------+-------------+-----------------+----------+\n",
      "only showing top 20 rows\n",
      "\n"
     ]
    }
   ],
   "source": [
    "\n",
    "df_renamed = df_flights \\\n",
    "    .withColumnRenamed(\"FL_DATE\", \"FlightDate\") \\\n",
    "    .withColumnRenamed(\"OP_CARRIER\", \"UniqueCarrier\") \\\n",
    "    .withColumnRenamed(\"OP_CARRIER_FL_NUM\", \"FlightNum\") \\\n",
    "    .withColumnRenamed(\"ORIGIN\", \"Origin\") \\\n",
    "    .withColumnRenamed(\"DEST\", \"Destination\") \\\n",
    "    .withColumnRenamed(\"CRS_DEP_TIME\", \"ScheduledDepartureTime\") \\\n",
    "    .withColumnRenamed(\"DEP_TIME\", \"DepartureTime\") \\\n",
    "    .withColumnRenamed(\"DEP_DELAY\", \"DepartureDelay\") \\\n",
    "    .withColumnRenamed(\"TAXI_OUT\", \"TaxiOut\") \\\n",
    "    .withColumnRenamed(\"WHEELS_OFF\", \"WheelsOff\") \\\n",
    "    .withColumnRenamed(\"WHEELS_ON\", \"WheelsOn\") \\\n",
    "    .withColumnRenamed(\"TAXI_IN\", \"TaxiIn\") \\\n",
    "    .withColumnRenamed(\"CRS_ARR_TIME\", \"ScheduledArrivalTime\") \\\n",
    "    .withColumnRenamed(\"ARR_TIME\", \"ArrivalTime\") \\\n",
    "    .withColumnRenamed(\"ARR_DELAY\", \"ArrivalDelay\") \\\n",
    "    .withColumnRenamed(\"CANCELLED\", \"Cancelled\") \\\n",
    "    .withColumnRenamed(\"CANCELLATION_CODE\", \"CancellationCode\") \\\n",
    "    .withColumnRenamed(\"DIVERTED\", \"Diverted\") \\\n",
    "    .withColumnRenamed(\"CRS_ELAPSED_TIME\", \"ScheduledElapsedTime\") \\\n",
    "    .withColumnRenamed(\"ACTUAL_ELAPSED_TIME\", \"ActualElapsedTime\") \\\n",
    "    .withColumnRenamed(\"AIR_TIME\", \"AirTime\") \\\n",
    "    .withColumnRenamed(\"DISTANCE\", \"Distance\") \\\n",
    "    .withColumnRenamed(\"CARRIER_DELAY\", \"CarrierDelay\") \\\n",
    "    .withColumnRenamed(\"WEATHER_DELAY\", \"WeatherDelay\") \\\n",
    "    .withColumnRenamed(\"NAS_DELAY\", \"NASDelay\") \\\n",
    "    .withColumnRenamed(\"SECURITY_DELAY\", \"SecurityDelay\") \\\n",
    "    .withColumnRenamed(\"LATE_AIRCRAFT_DELAY\", \"LateAircraftDelay\") \\\n",
    "    .drop(\"Unnamed: 27\")\n",
    "\n",
    "df_renamed.show()"
   ]
  },
  {
   "cell_type": "code",
   "execution_count": 5,
   "id": "d7b662e8",
   "metadata": {},
   "outputs": [],
   "source": [
    "df_with_features = df_renamed \\\n",
    "    .withColumn(\"DayOfWeek\", F.dayofweek(F.col(\"FlightDate\"))) \\\n",
    "    .withColumn(\"Month\", F.month(F.col(\"FlightDate\")))"
   ]
  },
  {
   "cell_type": "code",
   "execution_count": 6,
   "id": "d4793880",
   "metadata": {},
   "outputs": [],
   "source": [
    "# null_columns = [c for c in df_with_features.columns if df_with_features.filter(F.col(c).isNull()).count() > 0]\n",
    "# null_columns"
   ]
  },
  {
   "cell_type": "code",
   "execution_count": 7,
   "id": "b0a1b0b5",
   "metadata": {},
   "outputs": [],
   "source": [
    "delays = [\n",
    "    'DepartureDelay',\n",
    "    'ArrivalDelay',\n",
    "    'CarrierDelay',\n",
    "    'WeatherDelay',\n",
    "    'NASDelay',\n",
    "    'SecurityDelay',\n",
    "    'LateAircraftDelay']\n",
    "times = [\n",
    "    'DepartureTime',\n",
    "    'TaxiOut',\n",
    "    'WheelsOff',\n",
    "    'WheelsOn',\n",
    "    'TaxiIn',\n",
    "    'ArrivalTime',\n",
    "    'ActualElapsedTime',\n",
    "    'AirTime']\n",
    "cancellation = [\n",
    "    'CancellationCode'\n",
    "]\n",
    "\n",
    "df_cleaned = df_with_features \\\n",
    "    .fillna(\"0\", subset=delays) \\\n",
    "    .fillna(\"\", subset=cancellation)\n",
    "\n",
    "for col_name in times:\n",
    "    df_cleaned = df_cleaned.withColumn(col_name, F.when((F.col(\"Cancelled\") == 1) | (F.col(\"Diverted\") == 1.0), 0).otherwise(F.col(col_name)))\n",
    "\n",
    "df_cleaned = df_cleaned.filter(F.col(\"Diverted\") == 0.0)"
   ]
  },
  {
   "cell_type": "code",
   "execution_count": 8,
   "id": "509adbc5",
   "metadata": {},
   "outputs": [
    {
     "name": "stdout",
     "output_type": "stream",
     "text": [
      "Found 1 rows with unjustified NULL values. Removing them.\n"
     ]
    }
   ],
   "source": [
    "from functools import reduce\n",
    "\n",
    "all_rows_count = df_cleaned.count()\n",
    "\n",
    "not_null_condition = reduce(lambda x, y: x & y, [F.col(c).isNotNull() for c in df_cleaned.columns])\n",
    "df_cleaned = df_cleaned.filter(not_null_condition)\n",
    "cleaned_rows_count = df_cleaned.count()\n",
    "\n",
    "print(f\"Found {all_rows_count - cleaned_rows_count} rows with unjustified NULL values. Removing them.\")"
   ]
  },
  {
   "cell_type": "code",
   "execution_count": 9,
   "id": "f20484c2",
   "metadata": {},
   "outputs": [],
   "source": [
    "# null_condition = [(F.col(c).isNull()) for c in df_cleaned.columns]\n",
    "# df_with_nulls = df_cleaned.filter(reduce(lambda x, y: x | y, null_condition))\n",
    "# df_with_nulls.show()"
   ]
  },
  {
   "cell_type": "markdown",
   "id": "0fd85756",
   "metadata": {},
   "source": [
    "## Task 3"
   ]
  },
  {
   "cell_type": "code",
   "execution_count": 10,
   "id": "9656ac86",
   "metadata": {},
   "outputs": [
    {
     "name": "stdout",
     "output_type": "stream",
     "text": [
      "Top 10 carriers by flight count:\n",
      "+-------------+------+\n",
      "|UniqueCarrier| count|\n",
      "+-------------+------+\n",
      "|           WN|590134|\n",
      "|           AA|283873|\n",
      "|           OO|275787|\n",
      "|           MQ|218038|\n",
      "|           DL|216475|\n",
      "|           US|214620|\n",
      "|           UA|196626|\n",
      "|           XE|153122|\n",
      "|           NW|152226|\n",
      "|           EV|151956|\n",
      "+-------------+------+\n",
      "\n"
     ]
    },
    {
     "data": {
      "image/png": "[encoded data removed]",
      "text/plain": [
       "<Figure size 640x480 with 1 Axes>"
      ]
     },
     "metadata": {},
     "output_type": "display_data"
    }
   ],
   "source": [
    "top_carriers = df_cleaned.groupBy(\"UniqueCarrier\").count().orderBy(F.desc(\"count\")).limit(10)\n",
    "print(\"Top 10 carriers by flight count:\")\n",
    "top_carriers.show()\n",
    "\n",
    "import matplotlib.pyplot as plt\n",
    "\n",
    "pdf = top_carriers.toPandas()\n",
    "plt.figure()\n",
    "plt.bar(pdf['UniqueCarrier'], pdf['count'])\n",
    "plt.title('Top 10 Carriers by Flight Count')\n",
    "plt.xlabel('Carrier')\n",
    "plt.ylabel('Flight Count')\n",
    "plt.show()"
   ]
  },
  {
   "cell_type": "code",
   "execution_count": 11,
   "id": "8c416544",
   "metadata": {},
   "outputs": [
    {
     "name": "stdout",
     "output_type": "stream",
     "text": [
      "Cancellation reasons\n",
      "+----------------+-----+\n",
      "|CancellationCode|count|\n",
      "+----------------+-----+\n",
      "|               B|21928|\n",
      "|               A|20942|\n",
      "|               C| 9404|\n",
      "|               D|    1|\n",
      "+----------------+-----+\n",
      "\n"
     ]
    },
    {
     "data": {
      "image/png": "[encoded data removed]",
      "text/plain": [
       "<Figure size 640x480 with 1 Axes>"
      ]
     },
     "metadata": {},
     "output_type": "display_data"
    }
   ],
   "source": [
    "cancellation_counts = df_cleaned.filter(F.col(\"Cancelled\") == 1.0) \\\n",
    "                        .groupBy(\"CancellationCode\").count().orderBy(F.desc(\"count\")).limit(10)\n",
    "\n",
    "print(\"Cancellation reasons\")\n",
    "cancellation_counts.show()\n",
    "\n",
    "pdf = cancellation_counts.toPandas()\n",
    "plt.figure()\n",
    "plt.bar(pdf['CancellationCode'], pdf['count'])\n",
    "plt.title('Cancellation reasons by code')\n",
    "plt.xlabel('Cancellation code')\n",
    "plt.ylabel('Flight Count')\n",
    "plt.show()"
   ]
  },
  {
   "cell_type": "code",
   "execution_count": 12,
   "id": "f1a38669",
   "metadata": {},
   "outputs": [
    {
     "name": "stdout",
     "output_type": "stream",
     "text": [
      "Class distribution\n",
      "+----------------+-----+--------------------+\n",
      "|CancellationCode|count|        distribution|\n",
      "+----------------+-----+--------------------+\n",
      "|               B|21928|   41.94739359158298|\n",
      "|               A|20942|   40.06121472979436|\n",
      "|               C| 9404|  17.989478718316594|\n",
      "|               D|    1|0.001912960306073...|\n",
      "+----------------+-----+--------------------+\n",
      "\n",
      "Imbalance Ratio: 21928.00\n"
     ]
    }
   ],
   "source": [
    "total_count = cancellation_counts.agg(F.sum(\"count\")).collect()[0][0]\n",
    "\n",
    "df = cancellation_counts.withColumn(\"distribution\", (F.col(\"count\") / total_count) * 100)\n",
    "\n",
    "max_count = df.agg(F.max(\"count\")).collect()[0][0]\n",
    "min_count = df.agg(F.min(\"count\")).collect()[0][0]\n",
    "imbalance_ratio = max_count / min_count\n",
    "\n",
    "print(\"Class distribution\")\n",
    "df.show()\n",
    "print(f\"Imbalance Ratio: {imbalance_ratio:.2f}\")\n"
   ]
  },
  {
   "cell_type": "markdown",
   "id": "d2494b13-f84a-4f7b-b362-ff33fb747699",
   "metadata": {},
   "source": [
    "## Task 4"
   ]
  },
  {
   "cell_type": "code",
   "execution_count": 13,
   "id": "6cce3263-d082-40c9-a00e-8644cedd2759",
   "metadata": {},
   "outputs": [],
   "source": [
    "from pyspark.ml.feature import StringIndexer, OneHotEncoder, VectorAssembler\n",
    "from pyspark.ml import Pipeline\n",
    "from pyspark.sql.types import DoubleType\n",
    "import pyspark.sql.functions as F"
   ]
  },
  {
   "cell_type": "code",
   "execution_count": 14,
   "id": "98b71fc8-32b0-4b8b-9176-1b408b2ae92d",
   "metadata": {},
   "outputs": [],
   "source": [
    "def preprocess_dataframe(df):\n",
    "    numeric_columns = [\n",
    "        \"Distance\", \"TaxiOut\", \"TaxiIn\", \"ScheduledElapsedTime\", \n",
    "        \"ActualElapsedTime\", \"AirTime\", \"DepartureDelay\", \"ArrivalDelay\"\n",
    "    ]\n",
    "    \n",
    "    for col_name in numeric_columns:\n",
    "        df = df.withColumn(col_name, F.col(col_name).cast(DoubleType()))\n",
    "    \n",
    "    return df"
   ]
  },
  {
   "cell_type": "code",
   "execution_count": 15,
   "id": "0bc79fe1-12bf-4233-9aad-ea71c0d8fc8f",
   "metadata": {},
   "outputs": [],
   "source": [
    "categorical_features = [\"UniqueCarrier\", \"Origin\", \"Destination\", \"FlightNum\"]\n",
    "\n",
    "temporal_features = [\"DayOfWeek\", \"Month\"]\n",
    "\n",
    "numerical_features = [\n",
    "    \"Distance\",\n",
    "    \"TaxiOut\",\n",
    "    \"TaxiIn\",\n",
    "    \"ScheduledElapsedTime\",\n",
    "    \"AirTime\",\n",
    "    \"DepartureDelay\"\n",
    "]\n",
    "\n",
    "indexers = [\n",
    "    StringIndexer(\n",
    "        inputCol=col, \n",
    "        outputCol=f\"{col}Index\",\n",
    "        handleInvalid=\"keep\"\n",
    "    ) for col in categorical_features\n",
    "]\n",
    "\n",
    "encoder_inputs = [f\"{col}Index\" for col in categorical_features]\n",
    "encoder_outputs = [f\"{col}Vec\" for col in categorical_features]\n",
    "encoder = OneHotEncoder(\n",
    "    inputCols=encoder_inputs,\n",
    "    outputCols=encoder_outputs,\n",
    "    dropLast=True\n",
    ")"
   ]
  },
  {
   "cell_type": "code",
   "execution_count": 16,
   "id": "3e5da327-3c6f-48a1-8bea-567367a4f249",
   "metadata": {},
   "outputs": [],
   "source": [
    "assembler_inputs = encoder_outputs + temporal_features + numerical_features\n",
    "assembler = VectorAssembler(\n",
    "    inputCols=assembler_inputs,\n",
    "    outputCol=\"features\",\n",
    "    handleInvalid=\"keep\"\n",
    ")\n"
   ]
  },
  {
   "cell_type": "code",
   "execution_count": 17,
   "id": "9cedbeb6-7ec8-4565-91c4-1036a7f66524",
   "metadata": {},
   "outputs": [],
   "source": [
    "pipeline = Pipeline(stages=indexers + [encoder, assembler])\n",
    "\n",
    "df_preprocessed = preprocess_dataframe(df_cleaned)\n",
    "\n",
    "pipeline_model = pipeline.fit(df_preprocessed)\n",
    "\n",
    "df_features = pipeline_model.transform(df_preprocessed)"
   ]
  },
  {
   "cell_type": "code",
   "execution_count": 18,
   "id": "b27ba131-6061-415f-bcd4-989ff13d0396",
   "metadata": {},
   "outputs": [
    {
     "name": "stdout",
     "output_type": "stream",
     "text": [
      "+-------------+------+-----------+------------+-------------------------------------------------------------------------------------------------------------------------+\n",
      "|UniqueCarrier|Origin|Destination|ArrivalDelay|features                                                                                                                 |\n",
      "+-------------+------+-----------+------------+-------------------------------------------------------------------------------------------------------------------------+\n",
      "|9E           |ATL   |GSP        |-10.0       |(7867,[10,19,411,2375,7859,7860,7861,7862,7863,7864,7865,7866],[1.0,1.0,1.0,1.0,5.0,7.0,153.0,16.0,4.0,58.0,30.0,-2.0])  |\n",
      "|9E           |MCI   |ATL        |-6.0        |(7867,[10,57,313,2375,7859,7860,7861,7862,7863,7864,7865,7866],[1.0,1.0,1.0,1.0,5.0,7.0,692.0,13.0,22.0,124.0,88.0,-5.0])|\n",
      "|9E           |ATL   |MSY        |-12.0       |(7867,[10,19,360,883,7859,7860,7861,7862,7863,7864,7865,7866],[1.0,1.0,1.0,1.0,5.0,7.0,425.0,16.0,8.0,96.0,63.0,-3.0])   |\n",
      "+-------------+------+-----------+------------+-------------------------------------------------------------------------------------------------------------------------+\n",
      "only showing top 3 rows\n",
      "\n",
      "Features included in the vector: ['UniqueCarrierVec', 'OriginVec', 'DestinationVec', 'FlightNumVec', 'DayOfWeek', 'Month', 'Distance', 'TaxiOut', 'TaxiIn', 'ScheduledElapsedTime', 'AirTime', 'DepartureDelay']\n",
      "\n",
      "Breakdown of feature vector contents:\n",
      "- Categorical features (one-hot encoded): ['UniqueCarrierVec', 'OriginVec', 'DestinationVec', 'FlightNumVec']\n",
      "- Temporal features: ['DayOfWeek', 'Month']\n",
      "- Numerical features: ['Distance', 'TaxiOut', 'TaxiIn', 'ScheduledElapsedTime', 'AirTime', 'DepartureDelay']\n"
     ]
    }
   ],
   "source": [
    "df_features.select(\"UniqueCarrier\", \"Origin\", \"Destination\", \"ArrivalDelay\", \"features\").show(3, truncate=False)\n",
    "\n",
    "feature_cols = encoder_outputs + temporal_features + numerical_features\n",
    "print(f\"Features included in the vector: {feature_cols}\")\n",
    "\n",
    "print(\"\\nBreakdown of feature vector contents:\")\n",
    "print(f\"- Categorical features (one-hot encoded): {encoder_outputs}\")\n",
    "print(f\"- Temporal features: {temporal_features}\")\n",
    "print(f\"- Numerical features: {numerical_features}\")"
   ]
  },
  {
   "cell_type": "markdown",
   "id": "be4a4fb1-85e9-4aa7-bfb9-54e5ee110464",
   "metadata": {},
   "source": [
    "Feature Selection Decisions:\n",
    "\n",
    "1. Categorical Features:\n",
    "   - UniqueCarrier: Different airlines have different performance metrics\n",
    "   - Origin/Destination: Airports have different weather patterns\n",
    "   - FlightNum: Flight numbers may correlate with specific routes or aircraft types\n",
    "\n",
    "2. Temporal Features:\n",
    "   - DayOfWeek: Flight patterns vary by day of the week\n",
    "   - Month: Seasonal variations in flight performance\n",
    "\n",
    "3. Numerical Features:\n",
    "   - Distance: Directly impacts flight time and potential for delays\n",
    "   - TaxiOut/TaxiIn: Airport ground operations time\n",
    "   - ScheduledElapsedTime: Baseline for expected flight duration\n",
    "   - AirTime: Actual time in the air\n",
    "   - DepartureDelay: Delays at departure often impact arrival time\n",
    "\n",
    "4. Features Not Selected:\n",
    "   - FlightDate: Redundant with DayOfWeek and Month\n",
    "   - ScheduledDepartureTime/ArrivalTime: Could be useful but would need \n",
    "     time-of-day extraction first (e.g., morning vs. evening flights)\n",
    "   - Cancelled and Diverted: Records are already filtered for these\n",
    "   - WheelsOff/WheelsOn: Redundant with other time metrics\n",
    "   - CarrierDelay, WeatherDelay, NASDelay, SecurityDelay, LateAircraftDelay: \n",
    "     These would cause data leakage if predicting arrival delays as they're only \n",
    "     known after a flight is completed\n",
    "\n",
    "5. Data Type Handling:\n",
    "   - Most numerical columns are stored as strings in the dataset\n",
    "   - Added preprocessing step to convert string columns to proper numeric types\n",
    "\n",
    "6. Preprocessing Pipeline:\n",
    "   - Preprocessing: Convert string columns to appropriate numeric types\n",
    "   - StringIndexer: Converts categorical strings to numerical indices\n",
    "   - OneHotEncoder: Creates binary vectors to properly represent categorical data\n",
    "   - VectorAssembler: Combines all features into a single feature vector for modeling"
   ]
  },
  {
   "cell_type": "code",
   "execution_count": null,
   "id": "a28b44ad-aae7-49a7-84e9-17e88540fd0a",
   "metadata": {},
   "outputs": [],
   "source": []
  }
 ],
 "metadata": {
  "kernelspec": {
   "display_name": "Python 3 (ipykernel)",
   "language": "python",
   "name": "python3"
  },
  "language_info": {
   "codemirror_mode": {
    "name": "ipython",
    "version": 3
   },
   "file_extension": ".py",
   "mimetype": "text/x-python",
   "name": "python",
   "nbconvert_exporter": "python",
   "pygments_lexer": "ipython3",
   "version": "3.11.10"
  }
 },
 "nbformat": 4,
 "nbformat_minor": 5
}
