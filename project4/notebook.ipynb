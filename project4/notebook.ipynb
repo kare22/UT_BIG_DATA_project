{
 "cells": [
  {
   "cell_type": "markdown",
   "id": "4b414625",
   "metadata": {},
   "source": [
    "## Task 1"
   ]
  },
  {
   "cell_type": "code",
   "execution_count": 1,
   "id": "6c0018a7",
   "metadata": {},
   "outputs": [],
   "source": [
    "import pyspark\n",
    "from pyspark.sql import functions as F\n",
    "\n",
    "spark = pyspark.sql.SparkSession.builder \\\n",
    "    .appName(\"Project 4\") \\\n",
    "    .config(\"spark.driver.memory\", \"4g\") \\\n",
    "    .config(\"spark.executor.memory\", \"4g\") \\\n",
    "    .config(\"spark.sql.shuffle.partitions\", \"100\") \\\n",
    "    .getOrCreate()"
   ]
  },
  {
   "cell_type": "code",
   "execution_count": 2,
   "id": "f96245fe",
   "metadata": {},
   "outputs": [],
   "source": [
    "df = spark.read.csv('./data/2009.csv', header=True, inferSchema=True)"
   ]
  },
  {
   "cell_type": "code",
   "execution_count": 3,
   "id": "b4739b67",
   "metadata": {},
   "outputs": [],
   "source": [
    "from pathlib import Path\n",
    "\n",
    "data_path = \"./output/2009.parquet\"\n",
    "data_file = Path(data_path)\n",
    "if not data_file.exists():\n",
    "\n",
    "    df = spark.read.csv('./data/2009.csv', header=True)\n",
    "    print(f\"Total flights: {df.count()}\")\n",
    "\n",
    "    df_2009 = df.filter(F.year(F.col(\"FL_DATE\")) == 2009)\n",
    "    print(f\"2009 flights: {df_2009.count()}\")\n",
    "\n",
    "    df_2009.write.partitionBy(\"FL_DATE\").mode(\"overwrite\").parquet(data_path)\n",
    "\n",
    "df_flights = spark.read.load(data_path)\n",
    "\n",
    "#test with smaller sample, since full dataset takes very long time with models\n",
    "#df_flights = df_flights.sample(withReplacement=False, fraction=0.01, seed=42)\n"
   ]
  },
  {
   "cell_type": "markdown",
   "id": "670fb039",
   "metadata": {},
   "source": [
    "## Task 2"
   ]
  },
  {
   "cell_type": "code",
   "execution_count": 4,
   "id": "4aa30d47",
   "metadata": {},
   "outputs": [
    {
     "name": "stdout",
     "output_type": "stream",
     "text": [
      "+-------------+---------+------+-----------+----------------------+-------------+--------------+-------+---------+--------+------+--------------------+-----------+------------+---------+----------------+--------+--------------------+-----------------+-------+--------+------------+------------+--------+-------------+-----------------+----------+\n",
      "|UniqueCarrier|FlightNum|Origin|Destination|ScheduledDepartureTime|DepartureTime|DepartureDelay|TaxiOut|WheelsOff|WheelsOn|TaxiIn|ScheduledArrivalTime|ArrivalTime|ArrivalDelay|Cancelled|CancellationCode|Diverted|ScheduledElapsedTime|ActualElapsedTime|AirTime|Distance|CarrierDelay|WeatherDelay|NASDelay|SecurityDelay|LateAircraftDelay|FlightDate|\n",
      "+-------------+---------+------+-----------+----------------------+-------------+--------------+-------+---------+--------+------+--------------------+-----------+------------+---------+----------------+--------+--------------------+-----------------+-------+--------+------------+------------+--------+-------------+-----------------+----------+\n",
      "|           WN|     3680|   BNA|        TPA|                  1620|       1618.0|          -2.0|    9.0|   1627.0|  1850.0|   3.0|                1905|     1853.0|       -12.0|      0.0|            NULL|     0.0|               105.0|             95.0|   83.0|   612.0|        NULL|        NULL|    NULL|         NULL|             NULL|2009-07-31|\n",
      "|           WN|      807|   BUR|        OAK|                   935|        931.0|          -4.0|    7.0|    938.0|  1027.0|   3.0|                1050|     1030.0|       -20.0|      0.0|            NULL|     0.0|                75.0|             59.0|   49.0|   325.0|        NULL|        NULL|    NULL|         NULL|             NULL|2009-07-31|\n",
      "|           WN|     3658|   BWI|        DEN|                   740|        743.0|           3.0|   10.0|    753.0|   935.0|   4.0|                 935|      939.0|         4.0|      0.0|            NULL|     0.0|               235.0|            236.0|  222.0|  1491.0|        NULL|        NULL|    NULL|         NULL|             NULL|2009-07-31|\n",
      "|           WN|      217|   DEN|        LAS|                  1730|       1808.0|          38.0|   10.0|   1818.0|  1845.0|   4.0|                1830|     1849.0|        19.0|      0.0|            NULL|     0.0|               120.0|            101.0|   87.0|   629.0|         4.0|         0.0|     0.0|          0.0|             15.0|2009-07-31|\n",
      "|           WN|      776|   LAS|        BUR|                  1145|       1154.0|           9.0|   12.0|   1206.0|  1253.0|   3.0|                1250|     1256.0|         6.0|      0.0|            NULL|     0.0|                65.0|             62.0|   47.0|   223.0|        NULL|        NULL|    NULL|         NULL|             NULL|2009-07-31|\n",
      "|           WN|     1145|   LAS|        DEN|                   620|        618.0|          -2.0|   11.0|    629.0|   850.0|   6.0|                 915|      856.0|       -19.0|      0.0|            NULL|     0.0|               115.0|             98.0|   81.0|   629.0|        NULL|        NULL|    NULL|         NULL|             NULL|2009-07-31|\n",
      "|           WN|      190|   LAS|        HOU|                   800|        807.0|           7.0|    8.0|    815.0|  1249.0|   6.0|                1305|     1255.0|       -10.0|      0.0|            NULL|     0.0|               185.0|            168.0|  154.0|  1235.0|        NULL|        NULL|    NULL|         NULL|             NULL|2009-07-31|\n",
      "|           WN|      234|   LAS|        SJC|                  2125|       2314.0|         109.0|    8.0|   2322.0|    19.0|   4.0|                2245|       23.0|        98.0|      0.0|            NULL|     0.0|                80.0|             69.0|   57.0|   387.0|         0.0|         0.0|     0.0|          7.0|             91.0|2009-07-31|\n",
      "|           WN|      424|   LAX|        HOU|                  1155|       1216.0|          21.0|   10.0|   1226.0|  1717.0|   3.0|                1720|     1720.0|         0.0|      0.0|            NULL|     0.0|               205.0|            184.0|  171.0|  1390.0|        NULL|        NULL|    NULL|         NULL|             NULL|2009-07-31|\n",
      "|           WN|      853|   LAX|        OAK|                  1200|       1214.0|          14.0|    8.0|   1222.0|  1315.0|   4.0|                1315|     1319.0|         4.0|      0.0|            NULL|     0.0|                75.0|             65.0|   53.0|   337.0|        NULL|        NULL|    NULL|         NULL|             NULL|2009-07-31|\n",
      "|           WN|      165|   LAX|        PHX|                  1925|       1946.0|          21.0|    6.0|   1952.0|  2050.0|  13.0|                2045|     2103.0|        18.0|      0.0|            NULL|     0.0|                80.0|             77.0|   58.0|   370.0|         0.0|         0.0|     0.0|          0.0|             18.0|2009-07-31|\n",
      "|           WN|     3166|   LAX|        SLC|                  1910|       1915.0|           5.0|    7.0|   1922.0|  2145.0|   3.0|                2155|     2148.0|        -7.0|      0.0|            NULL|     0.0|               105.0|             93.0|   83.0|   590.0|        NULL|        NULL|    NULL|         NULL|             NULL|2009-07-31|\n",
      "|           WN|     3753|   LGA|        MDW|                   610|        619.0|           9.0|   16.0|    635.0|   729.0|   6.0|                 730|      735.0|         5.0|      0.0|            NULL|     0.0|               140.0|            136.0|  114.0|   725.0|        NULL|        NULL|    NULL|         NULL|             NULL|2009-07-31|\n",
      "|           WN|       66|   MCI|        LAX|                  1425|       1444.0|          19.0|   16.0|   1500.0|  1605.0|   7.0|                1550|     1612.0|        22.0|      0.0|            NULL|     0.0|               205.0|            208.0|  185.0|  1363.0|         6.0|         0.0|     3.0|          0.0|             13.0|2009-07-31|\n",
      "|           WN|      300|   MCO|        DEN|                   740|        747.0|           7.0|   10.0|    757.0|   929.0|   6.0|                 930|      935.0|         5.0|      0.0|            NULL|     0.0|               230.0|            228.0|  212.0|  1546.0|        NULL|        NULL|    NULL|         NULL|             NULL|2009-07-31|\n",
      "|           WN|     2498|   MCO|        PHL|                  1950|       2057.0|          67.0|   12.0|   2109.0|  2302.0|  11.0|                2220|     2313.0|        53.0|      0.0|            NULL|     0.0|               150.0|            136.0|  113.0|   861.0|         5.0|         0.0|     0.0|          0.0|             48.0|2009-07-31|\n",
      "|           WN|     1543|   MCO|        PHX|                  1525|       1552.0|          27.0|   22.0|   1614.0|  1720.0|   7.0|                1650|     1727.0|        37.0|      0.0|            NULL|     0.0|               265.0|            275.0|  246.0|  1848.0|         7.0|         0.0|    10.0|          0.0|             20.0|2009-07-31|\n",
      "|           WN|     3219|   MCO|        STL|                  2010|       2049.0|          39.0|    8.0|   2057.0|  2202.0|   5.0|                2135|     2207.0|        32.0|      0.0|            NULL|     0.0|               145.0|            138.0|  125.0|   880.0|        32.0|         0.0|     0.0|          0.0|              0.0|2009-07-31|\n",
      "|           WN|       51|   MDW|        MCI|                  1525|       1529.0|           4.0|   11.0|   1540.0|  1643.0|   9.0|                1645|     1652.0|         7.0|      0.0|            NULL|     0.0|                80.0|             83.0|   63.0|   405.0|        NULL|        NULL|    NULL|         NULL|             NULL|2009-07-31|\n",
      "|           WN|      510|   MDW|        STL|                  1615|       1622.0|           7.0|    5.0|   1627.0|  1710.0|   4.0|                1725|     1714.0|       -11.0|      0.0|            NULL|     0.0|                70.0|             52.0|   43.0|   251.0|        NULL|        NULL|    NULL|         NULL|             NULL|2009-07-31|\n",
      "+-------------+---------+------+-----------+----------------------+-------------+--------------+-------+---------+--------+------+--------------------+-----------+------------+---------+----------------+--------+--------------------+-----------------+-------+--------+------------+------------+--------+-------------+-----------------+----------+\n",
      "only showing top 20 rows\n",
      "\n"
     ]
    }
   ],
   "source": [
    "\n",
    "df_renamed = df_flights \\\n",
    "    .withColumnRenamed(\"FL_DATE\", \"FlightDate\") \\\n",
    "    .withColumnRenamed(\"OP_CARRIER\", \"UniqueCarrier\") \\\n",
    "    .withColumnRenamed(\"OP_CARRIER_FL_NUM\", \"FlightNum\") \\\n",
    "    .withColumnRenamed(\"ORIGIN\", \"Origin\") \\\n",
    "    .withColumnRenamed(\"DEST\", \"Destination\") \\\n",
    "    .withColumnRenamed(\"CRS_DEP_TIME\", \"ScheduledDepartureTime\") \\\n",
    "    .withColumnRenamed(\"DEP_TIME\", \"DepartureTime\") \\\n",
    "    .withColumnRenamed(\"DEP_DELAY\", \"DepartureDelay\") \\\n",
    "    .withColumnRenamed(\"TAXI_OUT\", \"TaxiOut\") \\\n",
    "    .withColumnRenamed(\"WHEELS_OFF\", \"WheelsOff\") \\\n",
    "    .withColumnRenamed(\"WHEELS_ON\", \"WheelsOn\") \\\n",
    "    .withColumnRenamed(\"TAXI_IN\", \"TaxiIn\") \\\n",
    "    .withColumnRenamed(\"CRS_ARR_TIME\", \"ScheduledArrivalTime\") \\\n",
    "    .withColumnRenamed(\"ARR_TIME\", \"ArrivalTime\") \\\n",
    "    .withColumnRenamed(\"ARR_DELAY\", \"ArrivalDelay\") \\\n",
    "    .withColumnRenamed(\"CANCELLED\", \"Cancelled\") \\\n",
    "    .withColumnRenamed(\"CANCELLATION_CODE\", \"CancellationCode\") \\\n",
    "    .withColumnRenamed(\"DIVERTED\", \"Diverted\") \\\n",
    "    .withColumnRenamed(\"CRS_ELAPSED_TIME\", \"ScheduledElapsedTime\") \\\n",
    "    .withColumnRenamed(\"ACTUAL_ELAPSED_TIME\", \"ActualElapsedTime\") \\\n",
    "    .withColumnRenamed(\"AIR_TIME\", \"AirTime\") \\\n",
    "    .withColumnRenamed(\"DISTANCE\", \"Distance\") \\\n",
    "    .withColumnRenamed(\"CARRIER_DELAY\", \"CarrierDelay\") \\\n",
    "    .withColumnRenamed(\"WEATHER_DELAY\", \"WeatherDelay\") \\\n",
    "    .withColumnRenamed(\"NAS_DELAY\", \"NASDelay\") \\\n",
    "    .withColumnRenamed(\"SECURITY_DELAY\", \"SecurityDelay\") \\\n",
    "    .withColumnRenamed(\"LATE_AIRCRAFT_DELAY\", \"LateAircraftDelay\") \\\n",
    "    .drop(\"Unnamed: 27\")\n",
    "\n",
    "df_renamed.show()"
   ]
  },
  {
   "cell_type": "code",
   "execution_count": 5,
   "id": "d7b662e8",
   "metadata": {},
   "outputs": [],
   "source": [
    "df_with_features = df_renamed \\\n",
    "    .withColumn(\"DayOfWeek\", F.dayofweek(F.col(\"FlightDate\"))) \\\n",
    "    .withColumn(\"Month\", F.month(F.col(\"FlightDate\")))"
   ]
  },
  {
   "cell_type": "code",
   "execution_count": 6,
   "id": "d4793880",
   "metadata": {},
   "outputs": [],
   "source": [
    "# null_columns = [c for c in df_with_features.columns if df_with_features.filter(F.col(c).isNull()).count() > 0]\n",
    "# null_columns"
   ]
  },
  {
   "cell_type": "code",
   "execution_count": 7,
   "id": "b0a1b0b5",
   "metadata": {},
   "outputs": [],
   "source": [
    "delays = [\n",
    "    'DepartureDelay',\n",
    "    'ArrivalDelay',\n",
    "    'CarrierDelay',\n",
    "    'WeatherDelay',\n",
    "    'NASDelay',\n",
    "    'SecurityDelay',\n",
    "    'LateAircraftDelay']\n",
    "times = [\n",
    "    'DepartureTime',\n",
    "    'TaxiOut',\n",
    "    'WheelsOff',\n",
    "    'WheelsOn',\n",
    "    'TaxiIn',\n",
    "    'ArrivalTime',\n",
    "    'ActualElapsedTime',\n",
    "    'AirTime']\n",
    "cancellation = [\n",
    "    'CancellationCode'\n",
    "]\n",
    "\n",
    "df_cleaned = df_with_features \\\n",
    "    .fillna(\"0\", subset=delays) \\\n",
    "    .fillna(\"\", subset=cancellation)\n",
    "\n",
    "for col_name in times:\n",
    "    df_cleaned = df_cleaned.withColumn(col_name, F.when((F.col(\"Cancelled\") == 1) | (F.col(\"Diverted\") == 1.0), 0).otherwise(F.col(col_name)))\n",
    "\n",
    "df_cleaned = df_cleaned.filter(F.col(\"Diverted\") == 0.0)"
   ]
  },
  {
   "cell_type": "code",
   "execution_count": 8,
   "id": "509adbc5",
   "metadata": {},
   "outputs": [
    {
     "name": "stdout",
     "output_type": "stream",
     "text": [
      "Found 0 rows with unjustified NULL values. Removing them.\n"
     ]
    }
   ],
   "source": [
    "from functools import reduce\n",
    "\n",
    "all_rows_count = df_cleaned.count()\n",
    "\n",
    "not_null_condition = reduce(lambda x, y: x & y, [F.col(c).isNotNull() for c in df_cleaned.columns])\n",
    "df_cleaned = df_cleaned.filter(not_null_condition)\n",
    "cleaned_rows_count = df_cleaned.count()\n",
    "\n",
    "print(f\"Found {all_rows_count - cleaned_rows_count} rows with unjustified NULL values. Removing them.\")"
   ]
  },
  {
   "cell_type": "code",
   "execution_count": 9,
   "id": "f20484c2",
   "metadata": {},
   "outputs": [],
   "source": [
    "# null_condition = [(F.col(c).isNull()) for c in df_cleaned.columns]\n",
    "# df_with_nulls = df_cleaned.filter(reduce(lambda x, y: x | y, null_condition))\n",
    "# df_with_nulls.show()"
   ]
  },
  {
   "cell_type": "markdown",
   "id": "0fd85756",
   "metadata": {},
   "source": [
    "## Task 3"
   ]
  },
  {
   "cell_type": "code",
   "execution_count": 10,
   "id": "9656ac86",
   "metadata": {},
   "outputs": [
    {
     "name": "stdout",
     "output_type": "stream",
     "text": [
      "Top 10 carriers by flight count:\n",
      "+-------------+-----+\n",
      "|UniqueCarrier|count|\n",
      "+-------------+-----+\n",
      "|           WN|11150|\n",
      "|           AA| 5590|\n",
      "|           OO| 5466|\n",
      "|           MQ| 4404|\n",
      "|           DL| 4321|\n",
      "|           US| 4026|\n",
      "|           UA| 3795|\n",
      "|           EV| 3134|\n",
      "|           XE| 3000|\n",
      "|           NW| 2838|\n",
      "+-------------+-----+\n",
      "\n"
     ]
    },
    {
     "data": {
      "image/png": "[encoded data removed]",
      "text/plain": [
       "<Figure size 640x480 with 1 Axes>"
      ]
     },
     "metadata": {},
     "output_type": "display_data"
    }
   ],
   "source": [
    "top_carriers = df_cleaned.groupBy(\"UniqueCarrier\").count().orderBy(F.desc(\"count\")).limit(10)\n",
    "print(\"Top 10 carriers by flight count:\")\n",
    "top_carriers.show()\n",
    "\n",
    "import matplotlib.pyplot as plt\n",
    "\n",
    "pdf = top_carriers.toPandas()\n",
    "plt.figure()\n",
    "plt.bar(pdf['UniqueCarrier'], pdf['count'])\n",
    "plt.title('Top 10 Carriers by Flight Count')\n",
    "plt.xlabel('Carrier')\n",
    "plt.ylabel('Flight Count')\n",
    "plt.show()"
   ]
  },
  {
   "cell_type": "code",
   "execution_count": 11,
   "id": "8c416544",
   "metadata": {},
   "outputs": [
    {
     "name": "stdout",
     "output_type": "stream",
     "text": [
      "Cancellation reasons\n",
      "+----------------+-----+\n",
      "|CancellationCode|count|\n",
      "+----------------+-----+\n",
      "|               B|  372|\n",
      "|               A|  316|\n",
      "|               C|  161|\n",
      "|               D|    1|\n",
      "+----------------+-----+\n",
      "\n"
     ]
    },
    {
     "data": {
      "image/png": "[encoded data removed]",
      "text/plain": [
       "<Figure size 640x480 with 1 Axes>"
      ]
     },
     "metadata": {},
     "output_type": "display_data"
    }
   ],
   "source": [
    "cancellation_counts = df_cleaned.filter(F.col(\"Cancelled\") == 1.0) \\\n",
    "                        .groupBy(\"CancellationCode\").count().orderBy(F.desc(\"count\")).limit(10)\n",
    "\n",
    "print(\"Cancellation reasons\")\n",
    "cancellation_counts.show()\n",
    "\n",
    "pdf = cancellation_counts.toPandas()\n",
    "plt.figure()\n",
    "plt.bar(pdf['CancellationCode'], pdf['count'])\n",
    "plt.title('Cancellation reasons by code')\n",
    "plt.xlabel('Cancellation code')\n",
    "plt.ylabel('Flight Count')\n",
    "plt.show()"
   ]
  },
  {
   "cell_type": "code",
   "execution_count": 12,
   "id": "f1a38669",
   "metadata": {},
   "outputs": [
    {
     "name": "stdout",
     "output_type": "stream",
     "text": [
      "Class distribution\n",
      "+----------------+-----+------------------+\n",
      "|CancellationCode|count|      distribution|\n",
      "+----------------+-----+------------------+\n",
      "|               B|  372| 43.76470588235294|\n",
      "|               A|  316|  37.1764705882353|\n",
      "|               C|  161|18.941176470588236|\n",
      "|               D|    1|0.1176470588235294|\n",
      "+----------------+-----+------------------+\n",
      "\n",
      "Imbalance Ratio: 372.00\n"
     ]
    }
   ],
   "source": [
    "total_count = cancellation_counts.agg(F.sum(\"count\")).collect()[0][0]\n",
    "\n",
    "df = cancellation_counts.withColumn(\"distribution\", (F.col(\"count\") / total_count) * 100)\n",
    "\n",
    "max_count = df.agg(F.max(\"count\")).collect()[0][0]\n",
    "min_count = df.agg(F.min(\"count\")).collect()[0][0]\n",
    "imbalance_ratio = max_count / min_count\n",
    "\n",
    "print(\"Class distribution\")\n",
    "df.show()\n",
    "print(f\"Imbalance Ratio: {imbalance_ratio:.2f}\")\n"
   ]
  },
  {
   "cell_type": "markdown",
   "id": "d2494b13-f84a-4f7b-b362-ff33fb747699",
   "metadata": {},
   "source": [
    "## Task 4"
   ]
  },
  {
   "cell_type": "code",
   "execution_count": 13,
   "id": "6cce3263-d082-40c9-a00e-8644cedd2759",
   "metadata": {},
   "outputs": [],
   "source": [
    "from pyspark.ml.feature import StringIndexer, OneHotEncoder, VectorAssembler\n",
    "from pyspark.ml import Pipeline\n",
    "from pyspark.sql.types import DoubleType\n",
    "import pyspark.sql.functions as F"
   ]
  },
  {
   "cell_type": "code",
   "execution_count": 14,
   "id": "98b71fc8-32b0-4b8b-9176-1b408b2ae92d",
   "metadata": {},
   "outputs": [],
   "source": [
    "def preprocess_dataframe(df):\n",
    "    numeric_columns = [\n",
    "        \"Distance\", \"TaxiOut\", \"TaxiIn\", \"ScheduledElapsedTime\", \n",
    "        \"ActualElapsedTime\", \"AirTime\", \"DepartureDelay\", \"ArrivalDelay\"\n",
    "    ]\n",
    "    \n",
    "    for col_name in numeric_columns:\n",
    "        df = df.withColumn(col_name, F.col(col_name).cast(DoubleType()))\n",
    "    \n",
    "    return df"
   ]
  },
  {
   "cell_type": "code",
   "execution_count": 15,
   "id": "0bc79fe1-12bf-4233-9aad-ea71c0d8fc8f",
   "metadata": {},
   "outputs": [],
   "source": [
    "categorical_features = [\"UniqueCarrier\", \"Origin\", \"Destination\", \"FlightNum\"]\n",
    "\n",
    "temporal_features = [\"DayOfWeek\", \"Month\"]\n",
    "\n",
    "numerical_features = [\n",
    "    \"Distance\",\n",
    "    \"TaxiOut\",\n",
    "    \"TaxiIn\",\n",
    "    \"ScheduledElapsedTime\",\n",
    "    \"AirTime\",\n",
    "    \"DepartureDelay\"\n",
    "]\n",
    "\n",
    "indexers = [\n",
    "    StringIndexer(\n",
    "        inputCol=col, \n",
    "        outputCol=f\"{col}Index\",\n",
    "        handleInvalid=\"keep\"\n",
    "    ) for col in categorical_features\n",
    "]\n",
    "\n",
    "encoder_inputs = [f\"{col}Index\" for col in categorical_features]\n",
    "encoder_outputs = [f\"{col}Vec\" for col in categorical_features]\n",
    "encoder = OneHotEncoder(\n",
    "    inputCols=encoder_inputs,\n",
    "    outputCols=encoder_outputs,\n",
    "    dropLast=True\n",
    ")"
   ]
  },
  {
   "cell_type": "code",
   "execution_count": 16,
   "id": "3e5da327-3c6f-48a1-8bea-567367a4f249",
   "metadata": {},
   "outputs": [],
   "source": [
    "assembler_inputs = encoder_outputs + temporal_features + numerical_features\n",
    "assembler = VectorAssembler(\n",
    "    inputCols=assembler_inputs,\n",
    "    outputCol=\"features\",\n",
    "    handleInvalid=\"keep\"\n",
    ")\n"
   ]
  },
  {
   "cell_type": "code",
   "execution_count": 17,
   "id": "9cedbeb6-7ec8-4565-91c4-1036a7f66524",
   "metadata": {},
   "outputs": [],
   "source": [
    "pipeline = Pipeline(stages=indexers + [encoder, assembler])\n",
    "\n",
    "df_preprocessed = preprocess_dataframe(df_cleaned)\n",
    "\n",
    "pipeline_model = pipeline.fit(df_preprocessed)\n",
    "\n",
    "df_features = pipeline_model.transform(df_preprocessed)"
   ]
  },
  {
   "cell_type": "code",
   "execution_count": 18,
   "id": "b27ba131-6061-415f-bcd4-989ff13d0396",
   "metadata": {},
   "outputs": [
    {
     "name": "stdout",
     "output_type": "stream",
     "text": [
      "+-------------+------+-----------+------------+------------------------------------------------------------------------------------------------------------------------+\n",
      "|UniqueCarrier|Origin|Destination|ArrivalDelay|features                                                                                                                |\n",
      "+-------------+------+-----------+------------+------------------------------------------------------------------------------------------------------------------------+\n",
      "|WN           |BNA   |TPA        |-12.0       |(7638,[0,54,336,3740,7630,7631,7632,7633,7634,7635,7636,7637],[1.0,1.0,1.0,1.0,6.0,7.0,612.0,9.0,3.0,105.0,83.0,-2.0])  |\n",
      "|WN           |BUR   |OAK        |-20.0       |(7638,[0,71,348,2461,7630,7631,7632,7633,7634,7635,7636,7637],[1.0,1.0,1.0,1.0,6.0,7.0,325.0,7.0,3.0,75.0,49.0,-4.0])   |\n",
      "|WN           |BWI   |DEN        |4.0         |(7638,[0,36,315,4738,7630,7631,7632,7633,7634,7635,7636,7637],[1.0,1.0,1.0,1.0,6.0,7.0,1491.0,10.0,4.0,235.0,222.0,3.0])|\n",
      "+-------------+------+-----------+------------+------------------------------------------------------------------------------------------------------------------------+\n",
      "only showing top 3 rows\n",
      "\n",
      "Features included in the vector: ['UniqueCarrierVec', 'OriginVec', 'DestinationVec', 'FlightNumVec', 'DayOfWeek', 'Month', 'Distance', 'TaxiOut', 'TaxiIn', 'ScheduledElapsedTime', 'AirTime', 'DepartureDelay']\n",
      "\n",
      "Breakdown of feature vector contents:\n",
      "- Categorical features (one-hot encoded): ['UniqueCarrierVec', 'OriginVec', 'DestinationVec', 'FlightNumVec']\n",
      "- Temporal features: ['DayOfWeek', 'Month']\n",
      "- Numerical features: ['Distance', 'TaxiOut', 'TaxiIn', 'ScheduledElapsedTime', 'AirTime', 'DepartureDelay']\n"
     ]
    }
   ],
   "source": [
    "df_features.select(\"UniqueCarrier\", \"Origin\", \"Destination\", \"ArrivalDelay\", \"features\").show(3, truncate=False)\n",
    "\n",
    "feature_cols = encoder_outputs + temporal_features + numerical_features\n",
    "print(f\"Features included in the vector: {feature_cols}\")\n",
    "\n",
    "print(\"\\nBreakdown of feature vector contents:\")\n",
    "print(f\"- Categorical features (one-hot encoded): {encoder_outputs}\")\n",
    "print(f\"- Temporal features: {temporal_features}\")\n",
    "print(f\"- Numerical features: {numerical_features}\")"
   ]
  },
  {
   "cell_type": "markdown",
   "id": "be4a4fb1-85e9-4aa7-bfb9-54e5ee110464",
   "metadata": {},
   "source": [
    "Feature Selection Decisions:\n",
    "\n",
    "1. Categorical Features:\n",
    "   - UniqueCarrier: Different airlines have different performance metrics\n",
    "   - Origin/Destination: Airports have different weather patterns\n",
    "   - FlightNum: Flight numbers may correlate with specific routes or aircraft types\n",
    "\n",
    "2. Temporal Features:\n",
    "   - DayOfWeek: Flight patterns vary by day of the week\n",
    "   - Month: Seasonal variations in flight performance\n",
    "\n",
    "3. Numerical Features:\n",
    "   - Distance: Directly impacts flight time and potential for delays\n",
    "   - TaxiOut/TaxiIn: Airport ground operations time\n",
    "   - ScheduledElapsedTime: Baseline for expected flight duration\n",
    "   - AirTime: Actual time in the air\n",
    "   - DepartureDelay: Delays at departure often impact arrival time\n",
    "\n",
    "4. Features Not Selected:\n",
    "   - FlightDate: Redundant with DayOfWeek and Month\n",
    "   - ScheduledDepartureTime/ArrivalTime: Could be useful but would need \n",
    "     time-of-day extraction first (e.g., morning vs. evening flights)\n",
    "   - Cancelled and Diverted: Records are already filtered for these\n",
    "   - WheelsOff/WheelsOn: Redundant with other time metrics\n",
    "   - CarrierDelay, WeatherDelay, NASDelay, SecurityDelay, LateAircraftDelay: \n",
    "     These would cause data leakage if predicting arrival delays as they're only \n",
    "     known after a flight is completed\n",
    "\n",
    "5. Data Type Handling:\n",
    "   - Most numerical columns are stored as strings in the dataset\n",
    "   - Added preprocessing step to convert string columns to proper numeric types\n",
    "\n",
    "6. Preprocessing Pipeline:\n",
    "   - Preprocessing: Convert string columns to appropriate numeric types\n",
    "   - StringIndexer: Converts categorical strings to numerical indices\n",
    "   - OneHotEncoder: Creates binary vectors to properly represent categorical data\n",
    "   - VectorAssembler: Combines all features into a single feature vector for modeling"
   ]
  },
  {
   "cell_type": "markdown",
   "id": "e80e2216-ab3f-462a-ba3b-5e659b89e5a4",
   "metadata": {},
   "source": [
    "## Task 5"
   ]
  },
  {
   "cell_type": "code",
   "execution_count": 19,
   "id": "fcc29998-eee4-42da-ab5b-c5b342693db2",
   "metadata": {},
   "outputs": [],
   "source": [
    "# Split data 70/30 train/test (seed 42)\n",
    "df_model = df_features.withColumn(\"label\", F.col(\"Cancelled\").cast(\"double\"))\n",
    "split_ratio = [0.7, 0.3]\n",
    "seed = 42 \n",
    "train_data, test_data = df_model.randomSplit(split_ratio, seed=seed)\n",
    "\n",
    "# Cache the splits for performance during training and evaluation\n",
    "# train_data.cache()\n",
    "# test_data.cache()\n",
    "\n",
    "# print(f\"Training data count: {train_data.count()} ({(train_data.count() / df_model.count())*100:.1f}%)\")\n",
    "# print(f\"Test data count: {test_data.count()} ({(test_data.count() / df_model.count())*100:.1f}%)\")\n"
   ]
  },
  {
   "cell_type": "code",
   "execution_count": 20,
   "id": "ffbfe866-21aa-46e9-b6e9-353c52e543dd",
   "metadata": {},
   "outputs": [],
   "source": [
    "from pyspark.ml.evaluation import BinaryClassificationEvaluator\n",
    "from pyspark.ml.tuning import ParamGridBuilder, CrossValidator\n",
    "import pyspark.sql.functions as F\n",
    "\n",
    "# Evaluator for binary classification, typically uses rawPrediction for AUC by default\n",
    "evaluator = BinaryClassificationEvaluator(labelCol=\"label\", metricName=\"areaUnderROC\")\n",
    "\n",
    "# Define a reusable training and evaluation function for model\n",
    "def train_and_evaluate(model, param_grid, name):\n",
    "    print(f\"\\nTraining {name}...\")\n",
    "    cv = CrossValidator(\n",
    "        estimator=model,\n",
    "        estimatorParamMaps=param_grid,\n",
    "        evaluator=evaluator,\n",
    "        numFolds=3, #3-fold cross-validation\n",
    "        seed=42,\n",
    "        parallelism=4 # train 4 models in parallel (if allows)\n",
    "    )\n",
    "    best_model = cv.fit(train_data) # fit the model on the training data\n",
    "    predictions = best_model.transform(test_data) #Use the best model to make predictions on the test data\n",
    "\n",
    "    # Evaluate Area Under ROC (AUC) and compute accuracy manually\n",
    "    auc = evaluator.evaluate(predictions)\n",
    "    accuracy = predictions.filter(F.col(\"label\") == F.col(\"prediction\")).count() / predictions.count()\n",
    "    print(f\"{name} - AUC: {auc:.4f}, Accuracy: {accuracy:.4f}\")\n",
    "    return name, auc, accuracy"
   ]
  },
  {
   "cell_type": "code",
   "execution_count": 21,
   "id": "1f4c3f89-9ed7-408d-ae9d-d96a3cd24241",
   "metadata": {},
   "outputs": [
    {
     "name": "stdout",
     "output_type": "stream",
     "text": [
      "\n",
      "Training Logistic Regression...\n",
      "Logistic Regression - AUC: 0.9509, Accuracy: 0.9884\n"
     ]
    }
   ],
   "source": [
    "from pyspark.ml.classification import LogisticRegression, DecisionTreeClassifier, RandomForestClassifier, GBTClassifier\n",
    "# choose one hyperparameter for each model since data is very big\n",
    "# put models to separate cells to run separately\n",
    "# add results here\n",
    "results = []\n",
    "\n",
    "# Logistic Regression\n",
    "lr = LogisticRegression(labelCol=\"label\", featuresCol=\"features\")\n",
    "lr_grid = ParamGridBuilder().addGrid(lr.regParam, [0.1]).build() # prevent overfitting\n",
    "results.append(train_and_evaluate(lr, lr_grid, \"Logistic Regression\"))"
   ]
  },
  {
   "cell_type": "code",
   "execution_count": 22,
   "id": "7b5d8072-7e2f-4367-87b6-d9ce328ef25c",
   "metadata": {},
   "outputs": [
    {
     "name": "stdout",
     "output_type": "stream",
     "text": [
      "\n",
      "Training Decision Tree...\n",
      "Decision Tree - AUC: 0.9999, Accuracy: 0.9999\n"
     ]
    }
   ],
   "source": [
    "# Decision Tree\n",
    "dt = DecisionTreeClassifier(labelCol=\"label\", featuresCol=\"features\")\n",
    "dt_grid = ParamGridBuilder().addGrid(dt.maxDepth, [5]).build() # limit how deep tree grows\n",
    "results.append(train_and_evaluate(dt, dt_grid, \"Decision Tree\"))"
   ]
  },
  {
   "cell_type": "code",
   "execution_count": 23,
   "id": "88db3452-d0ab-4e59-9798-219f7c5f7042",
   "metadata": {},
   "outputs": [
    {
     "name": "stdout",
     "output_type": "stream",
     "text": [
      "\n",
      "Training Random Forest...\n",
      "Random Forest - AUC: 0.9876, Accuracy: 0.9887\n"
     ]
    }
   ],
   "source": [
    "# Random Forest\n",
    "rf = RandomForestClassifier(labelCol=\"label\", featuresCol=\"features\")\n",
    "rf_grid = ParamGridBuilder().addGrid(rf.numTrees, [20]).build() #. how many trees to build\n",
    "results.append(train_and_evaluate(rf, rf_grid, \"Random Forest\"))"
   ]
  },
  {
   "cell_type": "code",
   "execution_count": 24,
   "id": "2b9e7a6f-58c8-4ccb-af77-75592ead8005",
   "metadata": {},
   "outputs": [
    {
     "name": "stdout",
     "output_type": "stream",
     "text": [
      "\n",
      "Training GBT...\n",
      "GBT - AUC: 0.9999, Accuracy: 0.9998\n"
     ]
    }
   ],
   "source": [
    "# GBT\n",
    "gbt = GBTClassifier(labelCol=\"label\", featuresCol=\"features\")\n",
    "gbt_grid = ParamGridBuilder().addGrid(gbt.maxIter, [10]).build() # maximum number of iterations for the optimization algorithm\n",
    "results.append(train_and_evaluate(gbt, gbt_grid, \"GBT\"))"
   ]
  },
  {
   "cell_type": "code",
   "execution_count": 25,
   "id": "bc2001d9-9246-4a53-bfc5-df039e1ebceb",
   "metadata": {},
   "outputs": [],
   "source": [
    "spark.stop()"
   ]
  }
 ],
 "metadata": {
  "kernelspec": {
   "display_name": "Python 3 (ipykernel)",
   "language": "python",
   "name": "python3"
  },
  "language_info": {
   "codemirror_mode": {
    "name": "ipython",
    "version": 3
   },
   "file_extension": ".py",
   "mimetype": "text/x-python",
   "name": "python",
   "nbconvert_exporter": "python",
   "pygments_lexer": "ipython3",
   "version": "3.11.10"
  }
 },
 "nbformat": 4,
 "nbformat_minor": 5
}
