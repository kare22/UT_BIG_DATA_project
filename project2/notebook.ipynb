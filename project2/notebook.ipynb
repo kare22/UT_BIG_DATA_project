{
 "cells": [
  {
   "cell_type": "markdown",
   "id": "63ac151b-3b3a-4238-9a5b-3e5dca122326",
   "metadata": {},
   "source": [
    "# Project 2"
   ]
  },
  {
   "cell_type": "markdown",
   "id": "e2bdea92-a01b-4f20-baa7-e5495f1f63c3",
   "metadata": {},
   "source": [
    "## Setup"
   ]
  },
  {
   "cell_type": "code",
   "execution_count": 1,
   "id": "cab86fdf-de40-4796-b00c-d4da3e65bc7f",
   "metadata": {},
   "outputs": [],
   "source": [
    "from pyspark.sql import SparkSession\n",
    "from pyspark.sql.functions import from_json, col, floor, window, concat_ws\n",
    "from pyspark.sql.types import StructType, StringType, DoubleType, TimestampType"
   ]
  },
  {
   "cell_type": "code",
   "execution_count": 2,
   "id": "6c90f46d-8d4f-4609-b662-2d9ed30574af",
   "metadata": {},
   "outputs": [
    {
     "name": "stdout",
     "output_type": "stream",
     "text": [
      "✅ Spark Session created successfully!\n"
     ]
    }
   ],
   "source": [
    "# Initialize SparkSession with the Kafka JAR\n",
    "spark = SparkSession.builder \\\n",
    "    .appName(\"KafkaTaxiStream\") \\\n",
    "    .getOrCreate()\n",
    "\n",
    "print(\"✅ Spark Session created successfully!\")"
   ]
  },
  {
   "cell_type": "code",
   "execution_count": 3,
   "id": "a407f2b8-4c63-412c-9c90-8a25f05655e2",
   "metadata": {},
   "outputs": [],
   "source": [
    "# Define Schema for Incoming Data\n",
    "schema = StructType() \\\n",
    "    .add(\"medallion\", StringType()) \\\n",
    "    .add(\"hack_license\", StringType()) \\\n",
    "    .add(\"pickup_datetime\", TimestampType()) \\\n",
    "    .add(\"dropoff_datetime\", TimestampType()) \\\n",
    "    .add(\"trip_time_in_secs\", DoubleType()) \\\n",
    "    .add(\"trip_distance\", DoubleType()) \\\n",
    "    .add(\"pickup_longitude\", DoubleType()) \\\n",
    "    .add(\"pickup_latitude\", DoubleType()) \\\n",
    "    .add(\"dropoff_longitude\", DoubleType()) \\\n",
    "    .add(\"dropoff_latitude\", DoubleType()) \\\n",
    "    .add(\"payment_type\", StringType()) \\\n",
    "    .add(\"fare_amount\", DoubleType()) \\\n",
    "    .add(\"surcharge\", DoubleType()) \\\n",
    "    .add(\"mta_tax\", DoubleType()) \\\n",
    "    .add(\"tip_amount\", DoubleType()) \\\n",
    "    .add(\"tolls_amount\", DoubleType())"
   ]
  },
  {
   "cell_type": "code",
   "execution_count": 4,
   "id": "initial_id",
   "metadata": {},
   "outputs": [],
   "source": [
    "# Read Kafka stream\n",
    "taxi_stream = spark \\\n",
    "    .readStream \\\n",
    "    .format(\"kafka\") \\\n",
    "    .option(\"kafka.bootstrap.servers\", \"kafka:9092\") \\\n",
    "    .option(\"subscribe\", \"taxi-trips\") \\\n",
    "    .option(\"startingOffsets\", \"earliest\") \\\n",
    "    .load()\n",
    "\n",
    "# Parse JSON\n",
    "parsed_taxi_stream = taxi_stream.selectExpr(\"CAST(value AS STRING) as json_str\") \\\n",
    "    .select(from_json(col(\"json_str\"), schema).alias(\"data\")) \\\n",
    "    .select(\"data.*\")"
   ]
  },
  {
   "cell_type": "markdown",
   "id": "6c2bc510-4ddc-45ed-aaf1-8a33fd614d03",
   "metadata": {},
   "source": [
    "# Query 0: Data Cleansing and setup"
   ]
  },
  {
   "cell_type": "code",
   "execution_count": 5,
   "id": "2a1dd0a5-68d2-45c0-8842-1768f91c9431",
   "metadata": {},
   "outputs": [],
   "source": [
    "# remove malformed and invalid data\n",
    "cleaned_taxi_stream = parsed_taxi_stream \\\n",
    "    .filter(\"medallion IS NOT NULL AND hack_license IS NOT NULL\") \\\n",
    "    .filter(\"pickup_longitude != 0.0 AND pickup_latitude != 0.0\") \\\n",
    "    .filter(\"dropoff_longitude != 0.0 AND dropoff_latitude != 0.0\")"
   ]
  },
  {
   "cell_type": "code",
   "execution_count": 6,
   "id": "5968d8ef-d0e3-420d-9f67-256e35d05ee4",
   "metadata": {},
   "outputs": [],
   "source": [
    "query = cleaned_taxi_stream.writeStream \\\n",
    "    .outputMode(\"append\") \\\n",
    "    .format(\"memory\") \\\n",
    "    .queryName(\"taxi_trips_cleaned\") \\\n",
    "    .start()"
   ]
  },
  {
   "cell_type": "code",
   "execution_count": 20,
   "id": "3e4abc85-cefc-40c3-a1d6-95f6ba11ad9f",
   "metadata": {},
   "outputs": [
    {
     "name": "stdout",
     "output_type": "stream",
     "text": [
      "+--------------------------------+--------------------------------+-------------------+-------------------+-----------------+-------------+----------------+---------------+-----------------+----------------+------------+-----------+---------+-------+----------+------------+\n",
      "|medallion                       |hack_license                    |pickup_datetime    |dropoff_datetime   |trip_time_in_secs|trip_distance|pickup_longitude|pickup_latitude|dropoff_longitude|dropoff_latitude|payment_type|fare_amount|surcharge|mta_tax|tip_amount|tolls_amount|\n",
      "+--------------------------------+--------------------------------+-------------------+-------------------+-----------------+-------------+----------------+---------------+-----------------+----------------+------------+-----------+---------+-------+----------+------------+\n",
      "|07290D3599E7A0D62097A346EFCC1FB5|E7750A37CAB07D0DFF0AF7E3573AC141|2013-01-01 00:00:00|2013-01-01 00:02:00|120.0            |0.44         |-73.956528      |40.716976      |-73.96244        |40.715008       |CSH         |3.5        |0.5      |0.5    |0.0       |4.5         |\n",
      "|FD39403FDE46B6C753DDD6518A4365D7|2B36D07A27BB35D7DF7170C83EEAA196|2013-01-01 00:01:00|2013-01-01 00:02:00|60.0             |0.34         |-74.003197      |40.708313      |-74.005608       |40.706551       |CRD         |3.5        |0.5      |0.5    |0.8       |5.3         |\n",
      "|08E54F4C460720DDE43460E354486FBC|33276CA24A915CBD668AF96873D07883|2013-01-01 00:00:00|2013-01-01 00:02:44|163.0            |0.5          |-73.999878      |40.743343      |-74.003708       |40.74828        |CRD         |4.0        |0.5      |0.5    |1.0       |6.0         |\n",
      "|0CEBE42EAF42C338052FAE8D61612C58|CC7A4176549BA819E07D4A0463F87D2E|2013-01-01 00:00:00|2013-01-01 00:03:00|180.0            |1.56         |-74.00975       |40.706432      |-73.971985       |40.794716       |CSH         |6.5        |0.5      |0.5    |0.0       |7.5         |\n",
      "|5CC9B3C9725FCD7FAE490B4C614D57EE|9F4A98FA581907FC25B5C1A9A5361365|2013-01-01 00:00:00|2013-01-01 00:03:00|180.0            |0.64         |-74.001404      |40.72261       |-73.998177       |40.729485       |CSH         |4.5        |0.5      |0.5    |0.0       |5.5         |\n",
      "|BE4A6F08A4E9CA26DEBBD511A15E5D89|B6B300DB052529A0A9A238DE3C5C29E4|2013-01-01 00:00:00|2013-01-01 00:03:00|180.0            |0.9          |-73.946136      |40.781349      |-73.944977       |40.790836       |CSH         |4.5        |0.5      |0.5    |0.0       |5.5         |\n",
      "|DFBFA82ECA8F7059B89C3E8B93DAA377|CF8604E72D83840FBA1978C2D2FC9CDB|2013-01-01 00:02:00|2013-01-01 00:03:00|60.0             |0.39         |-73.981544      |40.781475      |-73.979439       |40.784386       |CRD         |3.0        |0.5      |0.5    |0.7       |4.7         |\n",
      "|1920DC2DE67BFC92C700DAE5A0C80E21|6728CFBAFBF5F724562E68EF62D2AE52|2013-01-01 00:00:02|2013-01-01 00:03:18|195.0            |0.7          |-73.9785        |40.741291      |-73.976997       |40.732452       |CSH         |4.5        |0.5      |0.5    |0.0       |5.5         |\n",
      "|02B072BC2EE4ECC6960A29B645B3B448|F5DA86FBBA8D8C5627CA54CC9EC356F4|2013-01-01 00:01:40|2013-01-01 00:03:30|110.0            |0.5          |-73.994308      |40.74612       |-74.002373       |40.748615       |CSH         |4.0        |0.5      |0.5    |0.0       |5.0         |\n",
      "|DD467ED2E7DDB5C8B9B918469604E54F|1D7876BD692018A5BE422C420A5148EA|2013-01-01 00:01:00|2013-01-01 00:04:00|180.0            |0.95         |-73.976753      |40.750706      |-73.990089       |40.750729       |CSH         |5.0        |0.5      |0.5    |0.0       |6.0         |\n",
      "|D242F08982116B6C6EBEF33FBCC14513|014FCFEF7DD164992FCD8492DF7A6133|2013-01-01 00:00:46|2013-01-01 00:04:06|199.0            |0.5          |-73.994049      |40.718227      |-73.987206       |40.720482       |CSH         |4.0        |0.5      |0.5    |0.0       |5.0         |\n",
      "|784131EEAAFACD3B839E9B48C051FC2C|DB805A7306FBF4874053E9BD200B85D9|2013-01-01 00:00:16|2013-01-01 00:04:11|234.0            |0.8          |-73.957649      |40.717785      |-73.966522       |40.714657       |CSH         |4.5        |0.5      |0.5    |0.0       |5.5         |\n",
      "|5191086622F86A17B025EDBD077E8BB0|B4D0A14D777E4284466C886C1C2A55C4|2013-01-01 00:04:06|2013-01-01 00:04:14|8.0              |0.0          |-73.984787      |40.764076      |-73.984749       |40.764126       |NOC         |2.5        |0.5      |0.5    |0.0       |3.5         |\n",
      "|8402CBED165898F314C50BC57314CDFF|0DB1416B58D5527FD168A981F8048C05|2013-01-01 00:02:12|2013-01-01 00:04:29|137.0            |0.3          |-73.99939       |40.739437      |-74.000252       |40.74268        |CSH         |3.5        |0.5      |0.5    |0.0       |4.5         |\n",
      "|15162141EA7436635C696F5BC023D2D6|CDCB7729DE07243726FF7BB0BD5D06BF|2013-01-01 00:00:14|2013-01-01 00:01:37|83.0             |0.2          |-73.975441      |40.749657      |-73.977333       |40.751991       |CSH         |3.0        |0.5      |0.5    |0.0       |4.0         |\n",
      "|025B98A22ED771118FC0EB44A0D3BD9D|7D89374F8E98F30A19F2381EC71A16BA|2013-01-01 00:00:40|2013-01-01 00:01:40|60.0             |0.3          |-74.005165      |40.720531      |-74.003929       |40.725655       |CSH         |3.0        |0.5      |0.5    |0.0       |4.0         |\n",
      "|B3BDE5D1263CF981544F3E0BD6530FCF|EDB2DE00B2C4087FE570AF794D62F87B|2013-01-01 00:00:43|2013-01-01 00:04:36|232.0            |1.5          |-73.979073      |40.74432       |-73.976311       |40.728676       |CSH         |6.5        |0.5      |0.5    |0.0       |7.5         |\n",
      "|558A89AF05E85098911A9B3D97B03956|430CD41965CB25FACD5E33986FEA6034|2013-01-01 00:00:25|2013-01-01 00:04:40|255.0            |0.2          |-73.989082      |40.74831       |-73.990425       |40.749916       |CSH         |4.5        |0.5      |0.5    |0.0       |5.5         |\n",
      "|E79E74C15D90CD93B1564E91E3D64765|145038A0CC99D6982D8001BE668154CA|2013-01-01 00:01:00|2013-01-01 00:02:00|60.0             |0.45         |-73.95208       |40.790169      |-73.948921       |40.794323       |CSH         |3.5        |0.5      |0.5    |0.0       |4.5         |\n",
      "|FD39403FDE46B6C753DDD6518A4365D7|2B36D07A27BB35D7DF7170C83EEAA196|2013-01-01 00:01:00|2013-01-01 00:02:00|60.0             |0.34         |-74.003197      |40.708313      |-74.005608       |40.706551       |CRD         |3.5        |0.5      |0.5    |0.8       |5.3         |\n",
      "+--------------------------------+--------------------------------+-------------------+-------------------+-----------------+-------------+----------------+---------------+-----------------+----------------+------------+-----------+---------+-------+----------+------------+\n",
      "only showing top 20 rows\n",
      "\n"
     ]
    }
   ],
   "source": [
    "# View cleansed stream in notebook\n",
    "spark.sql(\"SELECT * FROM taxi_trips_cleaned\").show(truncate=False)"
   ]
  },
  {
   "cell_type": "markdown",
   "id": "4555b6a1-5a5c-4d2c-b392-79977f2b3c89",
   "metadata": {},
   "source": [
    "# Query 1: Frequent Routes"
   ]
  },
  {
   "cell_type": "markdown",
   "id": "11f88189-8394-463e-9114-c6aad07b6c75",
   "metadata": {},
   "source": [
    "## Part 1"
   ]
  },
  {
   "cell_type": "code",
   "execution_count": 8,
   "id": "d37e0f61-17e8-4e07-a543-fec9aa875975",
   "metadata": {},
   "outputs": [],
   "source": [
    "from pyspark.sql.functions import udf"
   ]
  },
  {
   "cell_type": "code",
   "execution_count": 9,
   "id": "e2ba2a62-05a0-46d4-9617-a9876b8e08da",
   "metadata": {},
   "outputs": [],
   "source": [
    "reference_lat = 41.474937\n",
    "reference_lon = -74.913585\n",
    "total_cells = 300\n",
    "\n",
    "# Cell sizes from http://www.debs2015.org/call-grand-challenge.html\n",
    "cell_size_lat_deg = 0.004491556  # 500m south\n",
    "cell_size_lon_deg = 0.005986     # 500m east"
   ]
  },
  {
   "cell_type": "code",
   "execution_count": 10,
   "id": "80cc6b1a-4ad4-4e4d-a7c8-caf0d2c6a450",
   "metadata": {},
   "outputs": [],
   "source": [
    "# Main function to calculate how far the cell location is from the origin\n",
    "def get_cell_id(lat, lon):\n",
    "    if lat is None or lon is None:\n",
    "        return None\n",
    "    try:\n",
    "        dx = int((lon - reference_lon) / cell_size_lon_deg) + 1 # how many cells east\n",
    "        dy = int((reference_lat - lat) / cell_size_lat_deg) + 1 # how many cells south\n",
    "        if 1 <= dx <= total_cells and 1 <= dy <= total_cells: # validate\n",
    "            return f\"{dx}.{dy}\"\n",
    "        else:\n",
    "            return None\n",
    "    except:\n",
    "        return None\n",
    "\n",
    "# create spark udf\n",
    "get_cell_udf = udf(get_cell_id, StringType())"
   ]
  },
  {
   "cell_type": "code",
   "execution_count": 11,
   "id": "c843e763-11a8-4e28-80b7-9da7334fcd36",
   "metadata": {},
   "outputs": [],
   "source": [
    "# Take cleaned taxi stream data and convert pickup and dropoff locations into start and end cell IDs\n",
    "stream_with_cells = cleaned_taxi_stream \\\n",
    "    .withColumn(\"start_cell_id\", get_cell_udf(\"pickup_latitude\", \"pickup_longitude\")) \\\n",
    "    .withColumn(\"end_cell_id\", get_cell_udf(\"dropoff_latitude\", \"dropoff_longitude\")) \\\n",
    "    .filter(\"start_cell_id IS NOT NULL AND end_cell_id IS NOT NULL\")"
   ]
  },
  {
   "cell_type": "code",
   "execution_count": 12,
   "id": "21ea44ef-8517-4a7f-842b-266c1768f25e",
   "metadata": {},
   "outputs": [],
   "source": [
    "# Count the number of rides for each route in the last 30 minutes \n",
    "frequent_routes = stream_with_cells \\\n",
    "    .withWatermark(\"dropoff_datetime\", \"30 minutes\") \\\n",
    "    .groupBy(\n",
    "        window(col(\"dropoff_datetime\"), \"30 minutes\"),\n",
    "        col(\"start_cell_id\"),\n",
    "        col(\"end_cell_id\")\n",
    "    ) \\\n",
    "    .count() \\\n",
    "    .select(\"start_cell_id\", \"end_cell_id\", \"count\") \\\n",
    "    .orderBy(col(\"count\").desc())"
   ]
  },
  {
   "cell_type": "code",
   "execution_count": 13,
   "id": "ad3219b4-8d30-4041-83df-2e24cb3df4b3",
   "metadata": {},
   "outputs": [
    {
     "data": {
      "text/plain": [
       "<pyspark.sql.streaming.query.StreamingQuery at 0x7f96602f7250>"
      ]
     },
     "execution_count": 13,
     "metadata": {},
     "output_type": "execute_result"
    }
   ],
   "source": [
    "# store results\n",
    "frequent_routes.writeStream \\\n",
    "    .outputMode(\"complete\") \\\n",
    "    .format(\"memory\") \\\n",
    "    .queryName(\"top_routes\") \\\n",
    "    .start()"
   ]
  },
  {
   "cell_type": "code",
   "execution_count": 21,
   "id": "01aa8050-4b84-42e4-ba22-467f860def02",
   "metadata": {},
   "outputs": [
    {
     "name": "stdout",
     "output_type": "stream",
     "text": [
      "+-------------+-----------+-----+\n",
      "|start_cell_id|end_cell_id|count|\n",
      "+-------------+-----------+-----+\n",
      "|155.161      |155.161    |13   |\n",
      "|156.161      |156.161    |9    |\n",
      "|158.159      |157.161    |9    |\n",
      "|156.163      |155.162    |8    |\n",
      "|156.158      |156.158    |8    |\n",
      "|156.163      |157.162    |8    |\n",
      "|158.159      |157.162    |8    |\n",
      "|156.163      |156.163    |8    |\n",
      "|155.162      |155.162    |7    |\n",
      "|154.160      |152.164    |7    |\n",
      "+-------------+-----------+-----+\n",
      "\n"
     ]
    }
   ],
   "source": [
    "spark.sql(\"SELECT * FROM top_routes LIMIT 10\").show(truncate=False)"
   ]
  },
{
   "cell_type": "markdown",
   "id": "22d9299a-ce45-455c-a4a6-311f47ac8c48",
   "metadata": {},
   "source": [
    "## Part 2"
   ]
  },
  {
   "cell_type": "code",
   "execution_count": 23,
   "id": "95fb52de-45d9-4fe8-a4b4-fd2825e3b21a",
   "metadata": {},
   "outputs": [],
   "source": [
    "from pyspark.sql.functions import *\n",
    "from pyspark.sql.types import *"
   ]
  },
  {
   "cell_type": "code",
   "execution_count": 27,
   "id": "b2f26ad3-33f8-453d-8883-cbee723e229f",
   "metadata": {},
   "outputs": [],
   "source": [
    "from pyspark.sql.functions import *\n",
    "from pyspark.sql.types import *\n",
    "import time\n",
    "\n",
    "reference_lat = 41.474937\n",
    "reference_lon = -74.913585\n",
    "total_cells = 300\n",
    "cell_size_lat_deg = 0.004491556  # 500m south\n",
    "cell_size_lon_deg = 0.005986     # 500m east\n",
    "\n",
    "# Cell ID calculation function\n",
    "def get_cell_id(lat, lon):\n",
    "    if lat is None or lon is None:\n",
    "        return None\n",
    "    try:\n",
    "        dx = int((lon - reference_lon) / cell_size_lon_deg) + 1  # how many cells east\n",
    "        dy = int((reference_lat - lat) / cell_size_lat_deg) + 1  # how many cells south\n",
    "        if 1 <= dx <= total_cells and 1 <= dy <= total_cells:  # validate\n",
    "            return f\"{dx}.{dy}\"\n",
    "        else:\n",
    "            return None\n",
    "    except:\n",
    "        return None\n",
    "\n",
    "# Create UDF\n",
    "get_cell_udf = udf(get_cell_id, StringType())\n",
    "\n",
    "# Function to calculate delay\n",
    "def process_batch(df, epoch_id):\n",
    "    # Current time for delay calculation\n",
    "    output_time = time.time() * 1000  # Convert to milliseconds\n",
    "    \n",
    "    if df.isEmpty():\n",
    "        return\n",
    "    \n",
    "    # Get the latest event that triggered the update\n",
    "    latest_event = df.orderBy(col(\"processing_time\").desc()).first()\n",
    "    \n",
    "    # Calculate delay\n",
    "    delay = output_time - latest_event[\"processing_time\"]\n",
    "    \n",
    "    # Get current top 10 routes\n",
    "    top_routes = spark.sql(\"\"\"\n",
    "        SELECT start_cell_id, end_cell_id, count\n",
    "        FROM frequent_routes\n",
    "        ORDER BY count DESC\n",
    "        LIMIT 10\n",
    "    \"\"\").collect()\n",
    "    \n",
    "    # Prepare the result with the 10 most frequent routes\n",
    "    result = {\n",
    "        \"pickup_datetime\": latest_event[\"pickup_datetime\"],\n",
    "        \"dropoff_datetime\": latest_event[\"dropoff_datetime\"],\n",
    "        \"delay\": delay\n",
    "    }\n",
    "    \n",
    "    # Add all 10 routes (or NULL if fewer than 10 available)\n",
    "    for i in range(10):\n",
    "        if i < len(top_routes):\n",
    "            result[f\"start_cell_id_{i+1}\"] = top_routes[i][\"start_cell_id\"]\n",
    "            result[f\"end_cell_id_{i+1}\"] = top_routes[i][\"end_cell_id\"]\n",
    "        else:\n",
    "            result[f\"start_cell_id_{i+1}\"] = None\n",
    "            result[f\"end_cell_id_{i+1}\"] = None\n",
    "    \n",
    "    # Create a DataFrame with the result\n",
    "    result_df = spark.createDataFrame([result])\n",
    "    \n",
    "    # Append to results table\n",
    "    result_df.write.mode(\"append\").saveAsTable(\"top_routes_results\")\n",
    "\n",
    "# Add processing time column for delay calculation - fixed syntax\n",
    "cleaned_taxi_stream = cleaned_taxi_stream.withColumn(\n",
    "    \"processing_time\", unix_timestamp() * 1000\n",
    ")\n",
    "\n",
    "# Process stream with cell IDs\n",
    "stream_with_cells = cleaned_taxi_stream \\\n",
    "    .withColumn(\"start_cell_id\", get_cell_udf(\"pickup_latitude\", \"pickup_longitude\")) \\\n",
    "    .withColumn(\"end_cell_id\", get_cell_udf(\"dropoff_latitude\", \"dropoff_longitude\")) \\\n",
    "    .filter(\"start_cell_id IS NOT NULL AND end_cell_id IS NOT NULL\")\n",
    "\n",
    "# Calculate frequent routes - store in memory table\n",
    "frequent_routes_query = stream_with_cells \\\n",
    "    .withWatermark(\"dropoff_datetime\", \"30 minutes\") \\\n",
    "    .groupBy(\n",
    "        window(col(\"dropoff_datetime\"), \"30 minutes\"),\n",
    "        col(\"start_cell_id\"),\n",
    "        col(\"end_cell_id\")\n",
    "    ) \\\n",
    "    .count() \\\n",
    "    .select(\n",
    "        col(\"start_cell_id\"),\n",
    "        col(\"end_cell_id\"),\n",
    "        col(\"count\")\n",
    "    ) \\\n",
    "    .writeStream \\\n",
    "    .outputMode(\"complete\") \\\n",
    "    .format(\"memory\") \\\n",
    "    .queryName(\"frequent_routes_new\") \\\n",
    "    .start()\n",
    "\n",
    "# Create a trigger to monitor changes in the stream\n",
    "# This will trigger the output whenever any new data comes in that could affect the top 10\n",
    "change_monitor = stream_with_cells \\\n",
    "    .withWatermark(\"dropoff_datetime\", \"30 minutes\") \\\n",
    "    .writeStream \\\n",
    "    .foreachBatch(process_batch) \\\n",
    "    .outputMode(\"update\") \\\n",
    "    .trigger(processingTime=\"1 second\") \\\n",
    "    .start()\n"
   ]
  },
  {
   "cell_type": "code",
   "execution_count": 28,
   "id": "c568a612-63fa-4333-9ba8-fa80ef095407",
   "metadata": {},
   "outputs": [
    {
     "name": "stdout",
     "output_type": "stream",
     "text": [
      "+-------------------+-------------------+---------------+-------------+---------------+-------------+---------------+-------------+---------------+-------------+---------------+-------------+---------------+-------------+---------------+-------------+---------------+-------------+---------------+-------------+----------------+--------------+----------------+\n",
      "|pickup_datetime    |dropoff_datetime   |start_cell_id_1|end_cell_id_1|start_cell_id_2|end_cell_id_2|start_cell_id_3|end_cell_id_3|start_cell_id_4|end_cell_id_4|start_cell_id_5|end_cell_id_5|start_cell_id_6|end_cell_id_6|start_cell_id_7|end_cell_id_7|start_cell_id_8|end_cell_id_8|start_cell_id_9|end_cell_id_9|start_cell_id_10|end_cell_id_10|delay           |\n",
      "+-------------------+-------------------+---------------+-------------+---------------+-------------+---------------+-------------+---------------+-------------+---------------+-------------+---------------+-------------+---------------+-------------+---------------+-------------+---------------+-------------+----------------+--------------+----------------+\n",
      "|2013-01-01 00:04:52|2013-01-01 00:10:35|155.161        |155.161      |156.161        |156.161      |156.163        |155.162      |156.163        |156.163      |158.159        |157.161      |156.158        |156.158      |158.159        |157.162      |155.162        |155.162      |160.157        |161.156      |157.161         |157.161       |635.7138671875  |\n",
      "|2013-01-01 00:00:00|2013-01-01 00:02:00|155.161        |155.161      |156.161        |156.161      |156.163        |155.162      |156.163        |156.163      |158.159        |157.161      |156.158        |156.158      |158.159        |157.162      |160.157        |161.156      |155.162        |155.162      |157.161         |157.161       |953.974853515625|\n",
      "+-------------------+-------------------+---------------+-------------+---------------+-------------+---------------+-------------+---------------+-------------+---------------+-------------+---------------+-------------+---------------+-------------+---------------+-------------+---------------+-------------+----------------+--------------+----------------+\n",
      "\n"
     ]
    }
   ],
   "source": [
    "# Query to view the results\n",
    "spark.sql(\"\"\"\n",
    "    SELECT \n",
    "        pickup_datetime, dropoff_datetime,\n",
    "        start_cell_id_1, end_cell_id_1,\n",
    "        start_cell_id_2, end_cell_id_2,\n",
    "        start_cell_id_3, end_cell_id_3,\n",
    "        start_cell_id_4, end_cell_id_4,\n",
    "        start_cell_id_5, end_cell_id_5,\n",
    "        start_cell_id_6, end_cell_id_6,\n",
    "        start_cell_id_7, end_cell_id_7,\n",
    "        start_cell_id_8, end_cell_id_8,\n",
    "        start_cell_id_9, end_cell_id_9,\n",
    "        start_cell_id_10, end_cell_id_10,\n",
    "        delay\n",
    "    FROM top_routes_results\n",
    "    ORDER BY dropoff_datetime DESC\n",
    "    LIMIT 10\n",
    "\"\"\").show(truncate=False)"
   ]
  },
  {
   "cell_type": "markdown",
   "id": "22d9299a-ce45-455c-a4a6-311f47ac8c48",
   "metadata": {},
   "source": [
    "## Part 2"
   ]
  },
  {
   "cell_type": "markdown",
   "id": "1138b680-2314-4517-8694-9e2013bf7205",
   "metadata": {},
   "source": [
    "# Query 2: Profitable Areas"
   ]
  },
  {
   "cell_type": "markdown",
   "id": "71532313-5144-4e9f-b28d-8c55da28057d",
   "metadata": {},
   "source": [
    "## Part 1"
   ]
  },
  {
   "cell_type": "code",
   "execution_count": 15,
   "id": "52959a9c-7791-4604-a655-bcf5cc28e2b4",
   "metadata": {},
   "outputs": [],
   "source": [
    "from pyspark.sql import functions as F\n",
    "from pyspark.sql.functions import when\n",
    "from pyspark.sql.functions import col, expr\n",
    "from pyspark.sql.functions import current_timestamp\n",
    "from pyspark.sql.functions import window, max as max_"
   ]
  },
  {
   "cell_type": "code",
   "execution_count": 16,
   "id": "cc3425dc-2fc8-4b67-977f-3d5816f61051",
   "metadata": {},
   "outputs": [],
   "source": [
    "# divide query 1 degrees by 2\n",
    "cell_size_lat_deg = 0.002245778   # 250m south\n",
    "cell_size_lon_deg = 0.002993      # 250m east\n",
    "total_cells = 600\n",
    "\n",
    "get_cell_udf = udf(get_cell_id, StringType())"
   ]
  },
  {
   "cell_type": "code",
   "execution_count": 17,
   "id": "c6d0e03b-c21a-4b3f-888d-0276a873cce6",
   "metadata": {},
   "outputs": [
    {
     "data": {
      "text/plain": [
       "<pyspark.sql.streaming.query.StreamingQuery at 0x7f96603099d0>"
      ]
     },
     "execution_count": 17,
     "metadata": {},
     "output_type": "execute_result"
    }
   ],
   "source": [
    "# Create profit stream steps by calculating start cell, profit, apply 15-min watermark and compute median profit.\n",
    "profit_stream = cleaned_taxi_stream \\\n",
    "    .withColumn(\"start_cell_id\", get_cell_udf(\"pickup_latitude\", \"pickup_longitude\")) \\\n",
    "    .filter(\"start_cell_id IS NOT NULL\") \\\n",
    "    .withColumn(\"profit\", when((col(\"fare_amount\") >= 0) & (col(\"tip_amount\") >= 0), col(\"fare_amount\") + col(\"tip_amount\"))) \\\n",
    "    .withWatermark(\"dropoff_datetime\", \"15 minutes\") \\\n",
    "    .groupBy(window(\"dropoff_datetime\", \"15 minutes\"), col(\"start_cell_id\")) \\\n",
    "    .agg(\n",
    "        expr(\"percentile_approx(profit, 0.5)\").alias(\"median_profit\"),\n",
    "        max_(\"pickup_datetime\").alias(\"pickup_datetime\"),\n",
    "        max_(\"dropoff_datetime\").alias(\"dropoff_datetime\")\n",
    "    ) \\\n",
    "    .selectExpr(\"start_cell_id as cell_id\", \"median_profit\", \"window.end as profit_window_end\", \"pickup_datetime\", \"dropoff_datetime\")\n",
    "\n",
    "profit_stream.writeStream \\\n",
    "    .format(\"memory\") \\\n",
    "    .queryName(\"profit_stream\") \\\n",
    "    .outputMode(\"complete\") \\\n",
    "    .trigger(processingTime=\"30 seconds\") \\\n",
    "    .start()"
   ]
  },
  {
   "cell_type": "code",
   "execution_count": 18,
   "id": "441c3a95-50a2-45bf-823c-ca598bc7f730",
   "metadata": {},
   "outputs": [
    {
     "data": {
      "text/plain": [
       "<pyspark.sql.streaming.query.StreamingQuery at 0x7f966031f7d0>"
      ]
     },
     "execution_count": 18,
     "metadata": {},
     "output_type": "execute_result"
    }
   ],
   "source": [
    "# Create empty_taxies_stream by saving pickup table \n",
    "cleaned_taxi_stream \\\n",
    "    .select(\"medallion\", \"pickup_datetime\") \\\n",
    "    .filter(\"medallion IS NOT NULL\") \\\n",
    "    .withWatermark(\"pickup_datetime\", \"30 minutes\") \\\n",
    "    .writeStream \\\n",
    "    .format(\"memory\") \\\n",
    "    .queryName(\"pickup_table\") \\\n",
    "    .outputMode(\"append\") \\\n",
    "    .start()\n",
    "\n",
    "pickup_static = spark.read.table(\"pickup_table\")\n",
    "\n",
    "# get all drop off in last 30 monites\n",
    "dropoffs = cleaned_taxi_stream \\\n",
    "    .withColumn(\"dropoff_cell_id\", get_cell_udf(\"dropoff_latitude\", \"dropoff_longitude\")) \\\n",
    "    .filter(\"dropoff_cell_id IS NOT NULL\") \\\n",
    "    .select(\"medallion\", \"dropoff_datetime\", \"dropoff_cell_id\") \\\n",
    "    .withWatermark(\"dropoff_datetime\", \"30 minutes\")\n",
    "\n",
    "# calculate empty taxies based on datetimes\n",
    "empty_taxis = dropoffs.alias(\"d\").join(\n",
    "    pickup_static.alias(\"p\"),\n",
    "    (col(\"d.medallion\") == col(\"p.medallion\")) & (col(\"p.pickup_datetime\") > col(\"d.dropoff_datetime\")),\n",
    "    how=\"left_anti\"\n",
    ")\n",
    "\n",
    "# calculate empty taxes per cell\n",
    "empty_taxis_per_cell = empty_taxis \\\n",
    "    .groupBy(window(\"dropoff_datetime\", \"30 minutes\"), col(\"dropoff_cell_id\")) \\\n",
    "    .agg(expr(\"approx_count_distinct(medallion)\").alias(\"empty_taxis\")) \\\n",
    "    .selectExpr(\"dropoff_cell_id as cell_id\", \"empty_taxis\", \"window.end as empty_window_end\")\n",
    "\n",
    "#read to memory\n",
    "empty_taxis_per_cell.writeStream \\\n",
    "    .format(\"memory\") \\\n",
    "    .queryName(\"empty_taxis_stream\") \\\n",
    "    .outputMode(\"complete\") \\\n",
    "    .trigger(processingTime=\"30 seconds\") \\\n",
    "    .start()"
   ]
  },
  {
   "cell_type": "code",
   "execution_count": 19,
   "id": "36648758-ecb5-4cdd-b147-d74cd842032e",
   "metadata": {},
   "outputs": [
    {
     "data": {
      "text/plain": [
       "<pyspark.sql.streaming.query.StreamingQuery at 0x7f966030a5d0>"
      ]
     },
     "execution_count": 19,
     "metadata": {},
     "output_type": "execute_result"
    },
    {
     "name": "stdout",
     "output_type": "stream",
     "text": [
      "+---------------+----------------+------------------+--------------------+---------------------+---------------------+\n",
      "|pickup_datetime|dropoff_datetime|profitable_cell_id|empty_taxies_in_cell|median_profit_in_cell|profitability_of_cell|\n",
      "+---------------+----------------+------------------+--------------------+---------------------+---------------------+\n",
      "+---------------+----------------+------------------+--------------------+---------------------+---------------------+\n",
      "\n",
      "+---------------+----------------+------------------+--------------------+---------------------+---------------------+\n",
      "|pickup_datetime|dropoff_datetime|profitable_cell_id|empty_taxies_in_cell|median_profit_in_cell|profitability_of_cell|\n",
      "+---------------+----------------+------------------+--------------------+---------------------+---------------------+\n",
      "+---------------+----------------+------------------+--------------------+---------------------+---------------------+\n",
      "\n",
      "+---------------+----------------+------------------+--------------------+---------------------+---------------------+\n",
      "|pickup_datetime|dropoff_datetime|profitable_cell_id|empty_taxies_in_cell|median_profit_in_cell|profitability_of_cell|\n",
      "+---------------+----------------+------------------+--------------------+---------------------+---------------------+\n",
      "+---------------+----------------+------------------+--------------------+---------------------+---------------------+\n",
      "\n",
      "+-------------------+-------------------+------------------+--------------------+---------------------+---------------------+\n",
      "|pickup_datetime    |dropoff_datetime   |profitable_cell_id|empty_taxies_in_cell|median_profit_in_cell|profitability_of_cell|\n",
      "+-------------------+-------------------+------------------+--------------------+---------------------+---------------------+\n",
      "|2013-01-01 00:24:00|2013-01-01 00:25:00|296.326           |1                   |72.0                 |72.0                 |\n",
      "|2013-01-01 00:11:00|2013-01-01 00:11:00|296.314           |1                   |63.0                 |63.0                 |\n",
      "|2013-01-01 00:11:30|2013-01-01 00:12:37|293.337           |1                   |49.65                |49.65                |\n",
      "|2013-01-01 00:10:46|2013-01-01 00:27:35|379.370           |1                   |41.5                 |41.5                 |\n",
      "|2013-01-01 00:06:17|2013-01-01 00:06:57|338.277           |1                   |37.5                 |37.5                 |\n",
      "|2013-01-01 00:08:17|2013-01-01 00:27:13|308.351           |1                   |32.0                 |32.0                 |\n",
      "|2013-01-01 00:07:06|2013-01-01 00:24:40|325.306           |1                   |30.0                 |30.0                 |\n",
      "|2013-01-01 00:03:00|2013-01-01 00:26:00|330.315           |1                   |28.3                 |28.3                 |\n",
      "|2013-01-01 00:05:00|2013-01-01 00:25:00|314.335           |1                   |25.5                 |25.5                 |\n",
      "|2013-01-01 00:08:19|2013-01-01 00:23:15|311.360           |1                   |25.4                 |25.4                 |\n",
      "+-------------------+-------------------+------------------+--------------------+---------------------+---------------------+\n",
      "\n",
      "+-------------------+-------------------+------------------+--------------------+---------------------+---------------------+\n",
      "|pickup_datetime    |dropoff_datetime   |profitable_cell_id|empty_taxies_in_cell|median_profit_in_cell|profitability_of_cell|\n",
      "+-------------------+-------------------+------------------+--------------------+---------------------+---------------------+\n",
      "|2013-01-01 00:24:00|2013-01-01 00:25:00|296.326           |1                   |72.0                 |72.0                 |\n",
      "|2013-01-01 00:11:00|2013-01-01 00:11:00|296.314           |1                   |63.0                 |63.0                 |\n",
      "|2013-01-01 00:11:30|2013-01-01 00:12:37|293.337           |1                   |49.65                |49.65                |\n",
      "|2013-01-01 00:10:46|2013-01-01 00:27:35|379.370           |1                   |41.5                 |41.5                 |\n",
      "|2013-01-01 00:06:17|2013-01-01 00:06:57|338.277           |1                   |37.5                 |37.5                 |\n",
      "|2013-01-01 00:08:17|2013-01-01 00:27:13|308.351           |1                   |32.0                 |32.0                 |\n",
      "|2013-01-01 00:07:06|2013-01-01 00:24:40|325.306           |1                   |30.0                 |30.0                 |\n",
      "|2013-01-01 00:03:00|2013-01-01 00:26:00|330.315           |1                   |28.3                 |28.3                 |\n",
      "|2013-01-01 00:05:00|2013-01-01 00:25:00|314.335           |1                   |25.5                 |25.5                 |\n",
      "|2013-01-01 00:08:19|2013-01-01 00:23:15|311.360           |1                   |25.4                 |25.4                 |\n",
      "+-------------------+-------------------+------------------+--------------------+---------------------+---------------------+\n",
      "\n",
      "+-------------------+-------------------+------------------+--------------------+---------------------+---------------------+\n",
      "|pickup_datetime    |dropoff_datetime   |profitable_cell_id|empty_taxies_in_cell|median_profit_in_cell|profitability_of_cell|\n",
      "+-------------------+-------------------+------------------+--------------------+---------------------+---------------------+\n",
      "|2013-01-01 00:24:00|2013-01-01 00:25:00|296.326           |1                   |72.0                 |72.0                 |\n",
      "|2013-01-01 00:11:00|2013-01-01 00:11:00|296.314           |1                   |63.0                 |63.0                 |\n",
      "|2013-01-01 00:11:30|2013-01-01 00:12:37|293.337           |1                   |49.65                |49.65                |\n",
      "|2013-01-01 00:10:46|2013-01-01 00:27:35|379.370           |1                   |41.5                 |41.5                 |\n",
      "|2013-01-01 00:06:17|2013-01-01 00:06:57|338.277           |1                   |37.5                 |37.5                 |\n",
      "|2013-01-01 00:08:17|2013-01-01 00:27:13|308.351           |1                   |32.0                 |32.0                 |\n",
      "|2013-01-01 00:07:06|2013-01-01 00:24:40|325.306           |1                   |30.0                 |30.0                 |\n",
      "|2013-01-01 00:03:00|2013-01-01 00:26:00|330.315           |1                   |28.3                 |28.3                 |\n",
      "|2013-01-01 00:05:00|2013-01-01 00:25:00|314.335           |1                   |25.5                 |25.5                 |\n",
      "|2013-01-01 00:08:19|2013-01-01 00:23:15|311.360           |1                   |25.4                 |25.4                 |\n",
      "+-------------------+-------------------+------------------+--------------------+---------------------+---------------------+\n",
      "\n",
      "+-------------------+-------------------+------------------+--------------------+---------------------+---------------------+\n",
      "|pickup_datetime    |dropoff_datetime   |profitable_cell_id|empty_taxies_in_cell|median_profit_in_cell|profitability_of_cell|\n",
      "+-------------------+-------------------+------------------+--------------------+---------------------+---------------------+\n",
      "|2013-01-01 00:24:00|2013-01-01 00:25:00|296.326           |1                   |72.0                 |72.0                 |\n",
      "|2013-01-01 00:11:00|2013-01-01 00:11:00|296.314           |1                   |63.0                 |63.0                 |\n",
      "|2013-01-01 00:11:30|2013-01-01 00:12:37|293.337           |1                   |49.65                |49.65                |\n",
      "|2013-01-01 00:10:46|2013-01-01 00:27:35|379.370           |1                   |41.5                 |41.5                 |\n",
      "|2013-01-01 00:06:17|2013-01-01 00:06:57|338.277           |1                   |37.5                 |37.5                 |\n",
      "|2013-01-01 00:08:17|2013-01-01 00:27:13|308.351           |1                   |32.0                 |32.0                 |\n",
      "|2013-01-01 00:07:06|2013-01-01 00:24:40|325.306           |1                   |30.0                 |30.0                 |\n",
      "|2013-01-01 00:03:00|2013-01-01 00:26:00|330.315           |1                   |28.3                 |28.3                 |\n",
      "|2013-01-01 00:05:00|2013-01-01 00:25:00|314.335           |1                   |25.5                 |25.5                 |\n",
      "|2013-01-01 00:08:19|2013-01-01 00:23:15|311.360           |1                   |25.4                 |25.4                 |\n",
      "+-------------------+-------------------+------------------+--------------------+---------------------+---------------------+\n",
      "\n"
     ]
    }
   ],
   "source": [
    "# join together\n",
    "def process_batch(_, __):\n",
    "    spark.sql(\"\"\"\n",
    "        SELECT \n",
    "            p.pickup_datetime, p.dropoff_datetime, p.cell_id AS profitable_cell_id,\n",
    "            e.empty_taxis AS empty_taxies_in_cell, \n",
    "            p.median_profit AS median_profit_in_cell,\n",
    "        CASE \n",
    "            WHEN e.empty_taxis = 0 THEN NULL \n",
    "            ELSE p.median_profit / e.empty_taxis \n",
    "            END AS profitability_of_cell\n",
    "        FROM profit_stream p\n",
    "        JOIN empty_taxis_stream e ON p.cell_id = e.cell_id\n",
    "        ORDER BY profitability_of_cell DESC\n",
    "        LIMIT 10\n",
    "\n",
    "    \"\"\").show(truncate=False, n=50)\n",
    "\n",
    "cleaned_taxi_stream.selectExpr(\"CAST(NULL AS STRING) as test\") \\\n",
    "    .writeStream \\\n",
    "    .foreachBatch(process_batch) \\\n",
    "    .outputMode(\"update\") \\\n",
    "    .trigger(processingTime=\"30 seconds\") \\\n",
    "    .start()\n"
   ]
  },
  {
   "cell_type": "code",
   "execution_count": null,
   "id": "581993ef-868c-4057-9628-ea4779986521",
   "metadata": {},
   "outputs": [],
   "source": []
  }
 ],
 "metadata": {
  "kernelspec": {
   "display_name": "Python 3 (ipykernel)",
   "language": "python",
   "name": "python3"
  },
  "language_info": {
   "codemirror_mode": {
    "name": "ipython",
    "version": 3
   },
   "file_extension": ".py",
   "mimetype": "text/x-python",
   "name": "python",
   "nbconvert_exporter": "python",
   "pygments_lexer": "ipython3",
   "version": "3.11.10"
  }
 },
 "nbformat": 4,
 "nbformat_minor": 5
}
