{
 "cells": [
  {
   "cell_type": "markdown",
   "id": "63ac151b-3b3a-4238-9a5b-3e5dca122326",
   "metadata": {},
   "source": [
    "# Project 2"
   ]
  },
  {
   "cell_type": "markdown",
   "id": "e2bdea92-a01b-4f20-baa7-e5495f1f63c3",
   "metadata": {},
   "source": [
    "## Setup"
   ]
  },
  {
   "cell_type": "code",
   "execution_count": 1,
   "id": "cab86fdf-de40-4796-b00c-d4da3e65bc7f",
   "metadata": {},
   "outputs": [],
   "source": [
    "from pyspark.sql import SparkSession\n",
    "from pyspark.sql.functions import from_json, col, floor, window, concat_ws\n",
    "from pyspark.sql.types import StructType, StringType, DoubleType, TimestampType"
   ]
  },
  {
   "cell_type": "code",
   "execution_count": 2,
   "id": "6c90f46d-8d4f-4609-b662-2d9ed30574af",
   "metadata": {},
   "outputs": [
    {
     "name": "stdout",
     "output_type": "stream",
     "text": [
      "✅ Spark Session created successfully!\n"
     ]
    }
   ],
   "source": [
    "# Initialize SparkSession with the Kafka JAR\n",
    "spark = SparkSession.builder \\\n",
    "    .appName(\"KafkaTaxiStream\") \\\n",
    "    .getOrCreate()\n",
    "\n",
    "print(\"✅ Spark Session created successfully!\")"
   ]
  },
  {
   "cell_type": "code",
   "execution_count": 3,
   "id": "a407f2b8-4c63-412c-9c90-8a25f05655e2",
   "metadata": {},
   "outputs": [],
   "source": [
    "# Define Schema for Incoming Data\n",
    "schema = StructType() \\\n",
    "    .add(\"medallion\", StringType()) \\\n",
    "    .add(\"hack_license\", StringType()) \\\n",
    "    .add(\"pickup_datetime\", TimestampType()) \\\n",
    "    .add(\"dropoff_datetime\", TimestampType()) \\\n",
    "    .add(\"trip_time_in_secs\", DoubleType()) \\\n",
    "    .add(\"trip_distance\", DoubleType()) \\\n",
    "    .add(\"pickup_longitude\", DoubleType()) \\\n",
    "    .add(\"pickup_latitude\", DoubleType()) \\\n",
    "    .add(\"dropoff_longitude\", DoubleType()) \\\n",
    "    .add(\"dropoff_latitude\", DoubleType()) \\\n",
    "    .add(\"payment_type\", StringType()) \\\n",
    "    .add(\"fare_amount\", DoubleType()) \\\n",
    "    .add(\"surcharge\", DoubleType()) \\\n",
    "    .add(\"mta_tax\", DoubleType()) \\\n",
    "    .add(\"tip_amount\", DoubleType()) \\\n",
    "    .add(\"tolls_amount\", DoubleType())"
   ]
  },
  {
   "cell_type": "code",
   "execution_count": 4,
   "id": "initial_id",
   "metadata": {},
   "outputs": [],
   "source": [
    "# Read Kafka stream\n",
    "taxi_stream = spark \\\n",
    "    .readStream \\\n",
    "    .format(\"kafka\") \\\n",
    "    .option(\"kafka.bootstrap.servers\", \"kafka:9092\") \\\n",
    "    .option(\"subscribe\", \"taxi-trips\") \\\n",
    "    .option(\"startingOffsets\", \"earliest\") \\\n",
    "    .load()\n",
    "\n",
    "# Parse JSON\n",
    "parsed_taxi_stream = taxi_stream.selectExpr(\"CAST(value AS STRING) as json_str\") \\\n",
    "    .select(from_json(col(\"json_str\"), schema).alias(\"data\")) \\\n",
    "    .select(\"data.*\")"
   ]
  },
  {
   "cell_type": "markdown",
   "id": "6c2bc510-4ddc-45ed-aaf1-8a33fd614d03",
   "metadata": {},
   "source": [
    "# Query 0: Data Cleansing and setup"
   ]
  },
  {
   "cell_type": "code",
   "execution_count": 5,
   "id": "2a1dd0a5-68d2-45c0-8842-1768f91c9431",
   "metadata": {},
   "outputs": [],
   "source": [
    "# remove malformed and invalid data\n",
    "cleaned_taxi_stream = parsed_taxi_stream \\\n",
    "    .filter(\"medallion IS NOT NULL AND hack_license IS NOT NULL\") \\\n",
    "    .filter(\"pickup_longitude != 0.0 AND pickup_latitude != 0.0\") \\\n",
    "    .filter(\"dropoff_longitude != 0.0 AND dropoff_latitude != 0.0\") \\\n",
    "    .filter(\"pickup_longitude BETWEEN -74.913585 AND -73.0\") \\\n",
    "    .filter(\"pickup_latitude BETWEEN 40.0 AND 41.474937\") \\\n",
    "    .filter(\"dropoff_longitude BETWEEN -74.913585 AND -73.0\") \\\n",
    "    .filter(\"dropoff_latitude BETWEEN 40.0 AND 41.474937\")"
   ]
  },
  {
   "cell_type": "code",
   "execution_count": 6,
   "id": "5968d8ef-d0e3-420d-9f67-256e35d05ee4",
   "metadata": {},
   "outputs": [],
   "source": [
    "query = cleaned_taxi_stream.writeStream \\\n",
    "    .outputMode(\"append\") \\\n",
    "    .format(\"memory\") \\\n",
    "    .queryName(\"taxi_trips_cleaned\") \\\n",
    "    .start()"
   ]
  },
  {
   "cell_type": "code",
   "execution_count": 15,
   "id": "3e4abc85-cefc-40c3-a1d6-95f6ba11ad9f",
   "metadata": {},
   "outputs": [
    {
     "name": "stdout",
     "output_type": "stream",
     "text": [
      "+--------------------------------+--------------------------------+-------------------+-------------------+-----------------+-------------+----------------+---------------+-----------------+----------------+------------+-----------+---------+-------+----------+------------+\n",
      "|medallion                       |hack_license                    |pickup_datetime    |dropoff_datetime   |trip_time_in_secs|trip_distance|pickup_longitude|pickup_latitude|dropoff_longitude|dropoff_latitude|payment_type|fare_amount|surcharge|mta_tax|tip_amount|tolls_amount|\n",
      "+--------------------------------+--------------------------------+-------------------+-------------------+-----------------+-------------+----------------+---------------+-----------------+----------------+------------+-----------+---------+-------+----------+------------+\n",
      "|07290D3599E7A0D62097A346EFCC1FB5|E7750A37CAB07D0DFF0AF7E3573AC141|2013-01-01 00:00:00|2013-01-01 00:02:00|120.0            |0.44         |-73.956528      |40.716976      |-73.96244        |40.715008       |CSH         |3.5        |0.5      |0.5    |0.0       |4.5         |\n",
      "|FD39403FDE46B6C753DDD6518A4365D7|2B36D07A27BB35D7DF7170C83EEAA196|2013-01-01 00:01:00|2013-01-01 00:02:00|60.0             |0.34         |-74.003197      |40.708313      |-74.005608       |40.706551       |CRD         |3.5        |0.5      |0.5    |0.8       |5.3         |\n",
      "|08E54F4C460720DDE43460E354486FBC|33276CA24A915CBD668AF96873D07883|2013-01-01 00:00:00|2013-01-01 00:02:44|163.0            |0.5          |-73.999878      |40.743343      |-74.003708       |40.74828        |CRD         |4.0        |0.5      |0.5    |1.0       |6.0         |\n",
      "|0CEBE42EAF42C338052FAE8D61612C58|CC7A4176549BA819E07D4A0463F87D2E|2013-01-01 00:00:00|2013-01-01 00:03:00|180.0            |1.56         |-74.00975       |40.706432      |-73.971985       |40.794716       |CSH         |6.5        |0.5      |0.5    |0.0       |7.5         |\n",
      "|5CC9B3C9725FCD7FAE490B4C614D57EE|9F4A98FA581907FC25B5C1A9A5361365|2013-01-01 00:00:00|2013-01-01 00:03:00|180.0            |0.64         |-74.001404      |40.72261       |-73.998177       |40.729485       |CSH         |4.5        |0.5      |0.5    |0.0       |5.5         |\n",
      "|BE4A6F08A4E9CA26DEBBD511A15E5D89|B6B300DB052529A0A9A238DE3C5C29E4|2013-01-01 00:00:00|2013-01-01 00:03:00|180.0            |0.9          |-73.946136      |40.781349      |-73.944977       |40.790836       |CSH         |4.5        |0.5      |0.5    |0.0       |5.5         |\n",
      "|DFBFA82ECA8F7059B89C3E8B93DAA377|CF8604E72D83840FBA1978C2D2FC9CDB|2013-01-01 00:02:00|2013-01-01 00:03:00|60.0             |0.39         |-73.981544      |40.781475      |-73.979439       |40.784386       |CRD         |3.0        |0.5      |0.5    |0.7       |4.7         |\n",
      "|1920DC2DE67BFC92C700DAE5A0C80E21|6728CFBAFBF5F724562E68EF62D2AE52|2013-01-01 00:00:02|2013-01-01 00:03:18|195.0            |0.7          |-73.9785        |40.741291      |-73.976997       |40.732452       |CSH         |4.5        |0.5      |0.5    |0.0       |5.5         |\n",
      "|02B072BC2EE4ECC6960A29B645B3B448|F5DA86FBBA8D8C5627CA54CC9EC356F4|2013-01-01 00:01:40|2013-01-01 00:03:30|110.0            |0.5          |-73.994308      |40.74612       |-74.002373       |40.748615       |CSH         |4.0        |0.5      |0.5    |0.0       |5.0         |\n",
      "|DD467ED2E7DDB5C8B9B918469604E54F|1D7876BD692018A5BE422C420A5148EA|2013-01-01 00:01:00|2013-01-01 00:04:00|180.0            |0.95         |-73.976753      |40.750706      |-73.990089       |40.750729       |CSH         |5.0        |0.5      |0.5    |0.0       |6.0         |\n",
      "|D242F08982116B6C6EBEF33FBCC14513|014FCFEF7DD164992FCD8492DF7A6133|2013-01-01 00:00:46|2013-01-01 00:04:06|199.0            |0.5          |-73.994049      |40.718227      |-73.987206       |40.720482       |CSH         |4.0        |0.5      |0.5    |0.0       |5.0         |\n",
      "|784131EEAAFACD3B839E9B48C051FC2C|DB805A7306FBF4874053E9BD200B85D9|2013-01-01 00:00:16|2013-01-01 00:04:11|234.0            |0.8          |-73.957649      |40.717785      |-73.966522       |40.714657       |CSH         |4.5        |0.5      |0.5    |0.0       |5.5         |\n",
      "|5191086622F86A17B025EDBD077E8BB0|B4D0A14D777E4284466C886C1C2A55C4|2013-01-01 00:04:06|2013-01-01 00:04:14|8.0              |0.0          |-73.984787      |40.764076      |-73.984749       |40.764126       |NOC         |2.5        |0.5      |0.5    |0.0       |3.5         |\n",
      "|8402CBED165898F314C50BC57314CDFF|0DB1416B58D5527FD168A981F8048C05|2013-01-01 00:02:12|2013-01-01 00:04:29|137.0            |0.3          |-73.99939       |40.739437      |-74.000252       |40.74268        |CSH         |3.5        |0.5      |0.5    |0.0       |4.5         |\n",
      "|15162141EA7436635C696F5BC023D2D6|CDCB7729DE07243726FF7BB0BD5D06BF|2013-01-01 00:00:14|2013-01-01 00:01:37|83.0             |0.2          |-73.975441      |40.749657      |-73.977333       |40.751991       |CSH         |3.0        |0.5      |0.5    |0.0       |4.0         |\n",
      "|025B98A22ED771118FC0EB44A0D3BD9D|7D89374F8E98F30A19F2381EC71A16BA|2013-01-01 00:00:40|2013-01-01 00:01:40|60.0             |0.3          |-74.005165      |40.720531      |-74.003929       |40.725655       |CSH         |3.0        |0.5      |0.5    |0.0       |4.0         |\n",
      "|B3BDE5D1263CF981544F3E0BD6530FCF|EDB2DE00B2C4087FE570AF794D62F87B|2013-01-01 00:00:43|2013-01-01 00:04:36|232.0            |1.5          |-73.979073      |40.74432       |-73.976311       |40.728676       |CSH         |6.5        |0.5      |0.5    |0.0       |7.5         |\n",
      "|558A89AF05E85098911A9B3D97B03956|430CD41965CB25FACD5E33986FEA6034|2013-01-01 00:00:25|2013-01-01 00:04:40|255.0            |0.2          |-73.989082      |40.74831       |-73.990425       |40.749916       |CSH         |4.5        |0.5      |0.5    |0.0       |5.5         |\n",
      "|E79E74C15D90CD93B1564E91E3D64765|145038A0CC99D6982D8001BE668154CA|2013-01-01 00:01:00|2013-01-01 00:02:00|60.0             |0.45         |-73.95208       |40.790169      |-73.948921       |40.794323       |CSH         |3.5        |0.5      |0.5    |0.0       |4.5         |\n",
      "|FD39403FDE46B6C753DDD6518A4365D7|2B36D07A27BB35D7DF7170C83EEAA196|2013-01-01 00:01:00|2013-01-01 00:02:00|60.0             |0.34         |-74.003197      |40.708313      |-74.005608       |40.706551       |CRD         |3.5        |0.5      |0.5    |0.8       |5.3         |\n",
      "+--------------------------------+--------------------------------+-------------------+-------------------+-----------------+-------------+----------------+---------------+-----------------+----------------+------------+-----------+---------+-------+----------+------------+\n",
      "only showing top 20 rows\n",
      "\n"
     ]
    }
   ],
   "source": [
    "# View cleansed stream in notebook\n",
    "spark.sql(\"SELECT * FROM taxi_trips_cleaned\").show(truncate=False)"
   ]
  },
  {
   "cell_type": "markdown",
   "id": "4555b6a1-5a5c-4d2c-b392-79977f2b3c89",
   "metadata": {},
   "source": [
    "# Query 2: Profitable Areas"
   ]
  },
  {
   "cell_type": "markdown",
   "id": "11f88189-8394-463e-9114-c6aad07b6c75",
   "metadata": {},
   "source": [
    "## Part 1"
   ]
  },
  {
   "cell_type": "code",
   "execution_count": 8,
   "id": "d37e0f61-17e8-4e07-a543-fec9aa875975",
   "metadata": {},
   "outputs": [],
   "source": [
    "from pyproj import Transformer\n",
    "from shapely.geometry import Point\n",
    "from pyspark.sql.functions import udf"
   ]
  },
  {
   "cell_type": "code",
   "execution_count": 9,
   "id": "e2ba2a62-05a0-46d4-9617-a9876b8e08da",
   "metadata": {},
   "outputs": [],
   "source": [
    "# transform latitude and longitude to UTM meters, accurate for NYC\n",
    "transformer = Transformer.from_crs(\"EPSG:4326\", \"EPSG:32618\", always_xy=True)\n",
    "\n",
    "reference_lat = 41.474937\n",
    "reference_lon = -74.913585\n",
    "\n",
    "# convert the centre of cell 1.1 to meters\n",
    "origin_x, origin_y = transformer.transform(reference_lon, reference_lat)\n",
    "cell_size_meters = 250"
   ]
  },
  {
   "cell_type": "code",
   "execution_count": 10,
   "id": "80cc6b1a-4ad4-4e4d-a7c8-caf0d2c6a450",
   "metadata": {},
   "outputs": [],
   "source": [
    "# Main function to calculate how far the location is from the origin\n",
    "def get_cell_id(lat, lon):\n",
    "    if lat is None or lon is None:\n",
    "        return None\n",
    "    try:\n",
    "        x, y = transformer.transform(lon, lat)\n",
    "        dx = int((x - origin_x) // cell_size_meters) + 1 # how many cells east\n",
    "        dy = int((origin_y - y) // cell_size_meters) + 1 # how many cells south\n",
    "        if 1 <= dx <= 600 and 1 <= dy <= 600: # validate\n",
    "            return f\"{dx}.{dy}\" # put together\n",
    "    except:\n",
    "        return None\n",
    "\n",
    "# create spark udf\n",
    "get_cell_udf = udf(get_cell_id, StringType())"
   ]
  },
  {
   "cell_type": "code",
   "execution_count": 11,
   "id": "c843e763-11a8-4e28-80b7-9da7334fcd36",
   "metadata": {},
   "outputs": [],
   "source": [
    "# Take cleaned taxi stream data and convert pickup and dropoff locations into start and end cell IDs\n",
    "stream_with_cells = cleaned_taxi_stream \\\n",
    "    .withColumn(\"start_cell_id\", get_cell_udf(\"pickup_latitude\", \"pickup_longitude\")) \\\n",
    "    .withColumn(\"end_cell_id\", get_cell_udf(\"dropoff_latitude\", \"dropoff_longitude\")) \\\n",
    "    .filter(\"start_cell_id IS NOT NULL AND end_cell_id IS NOT NULL\")"
   ]
  },
  {
   "cell_type": "code",
   "execution_count": 12,
   "id": "21ea44ef-8517-4a7f-842b-266c1768f25e",
   "metadata": {},
   "outputs": [],
   "source": [
    "# Count the number of rides for each route in the last 30 minutes \n",
    "frequent_routes = stream_with_cells \\\n",
    "    .withWatermark(\"dropoff_datetime\", \"30 minutes\") \\\n",
    "    .groupBy(\n",
    "        window(col(\"dropoff_datetime\"), \"30 minutes\"),\n",
    "        col(\"start_cell_id\"),\n",
    "        col(\"end_cell_id\")\n",
    "    ) \\\n",
    "    .count() \\\n",
    "    .select(\"window\", \"start_cell_id\", \"end_cell_id\", \"count\") \\\n",
    "    .orderBy(col(\"count\").desc())"
   ]
  },
  {
   "cell_type": "code",
   "execution_count": 13,
   "id": "ad3219b4-8d30-4041-83df-2e24cb3df4b3",
   "metadata": {},
   "outputs": [
    {
     "data": {
      "text/plain": [
       "<pyspark.sql.streaming.query.StreamingQuery at 0x7fe6a07fc990>"
      ]
     },
     "execution_count": 13,
     "metadata": {},
     "output_type": "execute_result"
    }
   ],
   "source": [
    "# store results in top_routes table\n",
    "frequent_routes.writeStream \\\n",
    "    .outputMode(\"complete\") \\\n",
    "    .format(\"memory\") \\\n",
    "    .queryName(\"top_routes\") \\\n",
    "    .start()"
   ]
  },
  {
   "cell_type": "code",
   "execution_count": 16,
   "id": "01aa8050-4b84-42e4-ba22-467f860def02",
   "metadata": {},
   "outputs": [
    {
     "name": "stdout",
     "output_type": "stream",
     "text": [
      "+------------------------------------------+-------------+-----------+-----+\n",
      "|window                                    |start_cell_id|end_cell_id|count|\n",
      "+------------------------------------------+-------------+-----------+-----+\n",
      "|{2013-01-01 00:00:00, 2013-01-01 00:30:00}|312.318      |312.318    |9    |\n",
      "|{2013-01-01 00:00:00, 2013-01-01 00:30:00}|325.305      |322.309    |5    |\n",
      "|{2013-01-01 00:00:00, 2013-01-01 00:30:00}|314.319      |314.319    |5    |\n",
      "|{2013-01-01 00:00:00, 2013-01-01 00:30:00}|311.316      |307.324    |4    |\n",
      "|{2013-01-01 00:00:00, 2013-01-01 00:30:00}|318.314      |319.320    |4    |\n",
      "|{2013-01-01 00:00:00, 2013-01-01 00:30:00}|315.324      |312.321    |4    |\n",
      "|{2013-01-01 00:00:00, 2013-01-01 00:30:00}|308.333      |308.331    |4    |\n",
      "|{2013-01-01 00:00:00, 2013-01-01 00:30:00}|313.320      |313.320    |3    |\n",
      "|{2013-01-01 00:00:00, 2013-01-01 00:30:00}|309.324      |309.320    |3    |\n",
      "|{2013-01-01 00:00:00, 2013-01-01 00:30:00}|319.314      |323.307    |3    |\n",
      "+------------------------------------------+-------------+-----------+-----+\n",
      "\n"
     ]
    }
   ],
   "source": [
    "spark.sql(\"SELECT * FROM top_routes LIMIT 10\").show(truncate=False)"
   ]
  },
  {
   "cell_type": "code",
   "execution_count": null,
   "id": "3606acfe-c410-4d22-80ab-8a09cd9129f8",
   "metadata": {},
   "outputs": [],
   "source": []
  }
 ],
 "metadata": {
  "kernelspec": {
   "display_name": "Python 3 (ipykernel)",
   "language": "python",
   "name": "python3"
  },
  "language_info": {
   "codemirror_mode": {
    "name": "ipython",
    "version": 3
   },
   "file_extension": ".py",
   "mimetype": "text/x-python",
   "name": "python",
   "nbconvert_exporter": "python",
   "pygments_lexer": "ipython3",
   "version": "3.11.10"
  }
 },
 "nbformat": 4,
 "nbformat_minor": 5
}
