{
 "cells": [
  {
   "cell_type": "markdown",
   "id": "63ac151b-3b3a-4238-9a5b-3e5dca122326",
   "metadata": {},
   "source": [
    "# Project 2"
   ]
  },
  {
   "cell_type": "markdown",
   "id": "e2bdea92-a01b-4f20-baa7-e5495f1f63c3",
   "metadata": {},
   "source": [
    "## Setup"
   ]
  },
  {
   "cell_type": "code",
   "execution_count": null,
   "id": "cab86fdf-de40-4796-b00c-d4da3e65bc7f",
   "metadata": {},
   "outputs": [],
   "source": [
    "from pyspark.sql import SparkSession\n",
    "from pyspark.sql.functions import from_json, col, floor, window, concat_ws\n",
    "from pyspark.sql.functions import from_json, col, to_timestamp\n",
    "from pyspark.sql.types import StructType, StructField, StringType, DoubleType, IntegerType, TimestampType"
   ]
  },
  {
   "cell_type": "code",
   "execution_count": 2,
   "id": "6c90f46d-8d4f-4609-b662-2d9ed30574af",
   "metadata": {},
   "outputs": [
    {
     "name": "stdout",
     "output_type": "stream",
     "text": [
      "✅ Spark Session created successfully!\n"
     ]
    }
   ],
   "source": [
    "# Initialize SparkSession with the Kafka JAR\n",
    "spark = SparkSession.builder \\\n",
    "    .appName(\"KafkaTaxiStream\") \\\n",
    "    .getOrCreate()\n",
    "\n",
    "print(\"✅ Spark Session created successfully!\")"
   ]
  },
  {
   "cell_type": "code",
   "execution_count": 3,
   "id": "a407f2b8-4c63-412c-9c90-8a25f05655e2",
   "metadata": {},
   "outputs": [],
   "source": [
    "json_schema = StructType() \\\n",
    "    .add(\"0\", StringType()) \\\n",
    "    .add(\"1\", StringType()) \\\n",
    "    .add(\"2\", TimestampType()) \\\n",
    "    .add(\"3\", TimestampType()) \\\n",
    "    .add(\"4\", DoubleType()) \\\n",
    "    .add(\"5\", DoubleType()) \\\n",
    "    .add(\"6\", DoubleType()) \\\n",
    "    .add(\"7\", DoubleType()) \\\n",
    "    .add(\"8\", DoubleType()) \\\n",
    "    .add(\"9\", DoubleType()) \\\n",
    "    .add(\"10\", StringType()) \\\n",
    "    .add(\"11\", DoubleType()) \\\n",
    "    .add(\"12\", DoubleType()) \\\n",
    "    .add(\"13\", DoubleType()) \\\n",
    "    .add(\"14\", DoubleType()) \\\n",
    "    .add(\"15\", DoubleType()) \\\n",
    "    .add(\"16\", DoubleType())\n",
    "\n",
    "# Define Schema for Incoming Data\n",
    "schema = StructType() \\\n",
    "    .add(\"medallion\", StringType()) \\\n",
    "    .add(\"hack_license\", StringType()) \\\n",
    "    .add(\"pickup_datetime\", TimestampType()) \\\n",
    "    .add(\"dropoff_datetime\", TimestampType()) \\\n",
    "    .add(\"trip_time_in_secs\", DoubleType()) \\\n",
    "    .add(\"trip_distance\", DoubleType()) \\\n",
    "    .add(\"pickup_longitude\", DoubleType()) \\\n",
    "    .add(\"pickup_latitude\", DoubleType()) \\\n",
    "    .add(\"dropoff_longitude\", DoubleType()) \\\n",
    "    .add(\"dropoff_latitude\", DoubleType()) \\\n",
    "    .add(\"payment_type\", StringType()) \\\n",
    "    .add(\"fare_amount\", DoubleType()) \\\n",
    "    .add(\"surcharge\", DoubleType()) \\\n",
    "    .add(\"mta_tax\", DoubleType()) \\\n",
    "    .add(\"tip_amount\", DoubleType()) \\\n",
    "    .add(\"tolls_amount\", DoubleType()) \\\n",
    "    .add(\"total_amount\", DoubleType())"
   ]
  },
  {
   "cell_type": "markdown",
   "id": "6c2bc510-4ddc-45ed-aaf1-8a33fd614d03",
   "metadata": {},
   "source": [
    "# Query 0: Data Cleansing and setup"
   ]
  },
  {
   "cell_type": "code",
   "execution_count": 4,
   "id": "6ea72701-75cc-4d3b-b088-89409153c4bc",
   "metadata": {},
   "outputs": [],
   "source": [
    "raw_df = spark.readStream \\\n",
    "    .format(\"kafka\") \\\n",
    "    .option(\"kafka.bootstrap.servers\", \"kafka:9092\") \\\n",
    "    .option(\"subscribe\", \"taxi-trips\") \\\n",
    "    .option(\"startingOffsets\", \"earliest\") \\\n",
    "    .load()\n",
    "\n",
    "\n",
    "parsed_taxi_stream = raw_df.selectExpr(\"CAST(value AS STRING) as json_data\") \\\n",
    "    .select(from_json(\"json_data\", json_schema).alias(\"data\")) \\\n",
    "    .select(\"data.*\") \\\n",
    "    .withColumnRenamed(\"0\", \"medallion\") \\\n",
    "    .withColumnRenamed(\"1\", \"hack_license\") \\\n",
    "    .withColumnRenamed(\"2\", \"pickup_datetime\") \\\n",
    "    .withColumnRenamed(\"3\", \"dropoff_datetime\") \\\n",
    "    .withColumnRenamed(\"4\", \"trip_time_in_secs\") \\\n",
    "    .withColumnRenamed(\"5\", \"trip_distance\") \\\n",
    "    .withColumnRenamed(\"6\", \"pickup_longitude\") \\\n",
    "    .withColumnRenamed(\"7\", \"pickup_latitude\") \\\n",
    "    .withColumnRenamed(\"8\", \"dropoff_longitude\") \\\n",
    "    .withColumnRenamed(\"9\", \"dropoff_latitude\") \\\n",
    "    .withColumnRenamed(\"10\", \"payment_type\") \\\n",
    "    .withColumnRenamed(\"11\", \"fare_amount\") \\\n",
    "    .withColumnRenamed(\"12\", \"surcharge\") \\\n",
    "    .withColumnRenamed(\"13\", \"mta_tax\") \\\n",
    "    .withColumnRenamed(\"14\", \"tip_amount\") \\\n",
    "    .withColumnRenamed(\"15\", \"tolls_amount\") \\\n",
    "    .withColumnRenamed(\"16\", \"total_amount\")"
   ]
  },
  {
   "cell_type": "code",
   "execution_count": 5,
   "id": "2a1dd0a5-68d2-45c0-8842-1768f91c9431",
   "metadata": {},
   "outputs": [],
   "source": [
    "\n",
    "# remove malformed and invalid data\n",
    "cleaned_taxi_stream = parsed_taxi_stream \\\n",
    "    .filter(\"medallion IS NOT NULL AND hack_license IS NOT NULL\") \\\n",
    "    .filter(\"pickup_longitude != 0.0 AND pickup_latitude != 0.0\") \\\n",
    "    .filter(\"dropoff_longitude != 0.0 AND dropoff_latitude != 0.0\")"
   ]
  },
  {
   "cell_type": "code",
   "execution_count": 6,
   "id": "5968d8ef-d0e3-420d-9f67-256e35d05ee4",
   "metadata": {},
   "outputs": [],
   "source": [
    "query = cleaned_taxi_stream.writeStream \\\n",
    "    .outputMode(\"append\") \\\n",
    "    .format(\"memory\") \\\n",
    "    .queryName(\"taxi_trips_cleaned\") \\\n",
    "    .start()"
   ]
  },
  {
   "cell_type": "code",
   "execution_count": 9,
   "id": "b99c687f-ff19-4aa4-8b3a-9972fb07e192",
   "metadata": {},
   "outputs": [
    {
     "name": "stdout",
     "output_type": "stream",
     "text": [
      "+--------------------------------+--------------------------------+-------------------+-------------------+-----------------+-------------+----------------+---------------+-----------------+----------------+------------+-----------+---------+-------+----------+------------+------------+\n",
      "|medallion                       |hack_license                    |pickup_datetime    |dropoff_datetime   |trip_time_in_secs|trip_distance|pickup_longitude|pickup_latitude|dropoff_longitude|dropoff_latitude|payment_type|fare_amount|surcharge|mta_tax|tip_amount|tolls_amount|total_amount|\n",
      "+--------------------------------+--------------------------------+-------------------+-------------------+-----------------+-------------+----------------+---------------+-----------------+----------------+------------+-----------+---------+-------+----------+------------+------------+\n",
      "|E79E74C15D90CD93B1564E91E3D64765|145038A0CC99D6982D8001BE668154CA|2013-01-01 00:01:00|2013-01-01 00:02:00|60.0             |0.45         |-73.95208       |40.790169      |-73.948921       |40.794323       |CSH         |3.5        |0.5      |0.5    |0.0       |0.0         |4.5         |\n",
      "|FD39403FDE46B6C753DDD6518A4365D7|2B36D07A27BB35D7DF7170C83EEAA196|2013-01-01 00:01:00|2013-01-01 00:02:00|60.0             |0.34         |-74.003197      |40.708313      |-74.005608       |40.706551       |CRD         |3.5        |0.5      |0.5    |0.8       |0.0         |5.3         |\n",
      "|E0F370CA508B7E8F639D7FAB3798F399|5AE4F2FB8B90CA06F9AA39FEF82DE2BB|2013-01-01 00:01:35|2013-01-01 00:02:23|48.0             |1.2          |-73.977898      |40.757912      |-73.97802        |40.757362       |DIS         |2.5        |0.5      |0.5    |0.0       |0.0         |3.5         |\n",
      "|08E54F4C460720DDE43460E354486FBC|33276CA24A915CBD668AF96873D07883|2013-01-01 00:00:00|2013-01-01 00:02:44|163.0            |0.5          |-73.999878      |40.743343      |-74.003708       |40.74828        |CRD         |4.0        |0.5      |0.5    |1.0       |0.0         |6.0         |\n",
      "|81124DBD6AB03F24B895D5CF04AAACA2|EFEDEB0551AA8916DE8F1997F0DE3647|2013-01-01 00:02:42|2013-01-01 00:02:50|8.0              |0.0          |-73.781586      |40.644794      |-73.781281       |40.644878       |NOC         |20.0       |0.5      |0.0    |0.0       |0.0         |20.5        |\n",
      "|8287BE67DA22E4ABB34A4E6709402BFF|B19151C3FB6D993FF43431B6A11E3367|2013-01-01 00:02:06|2013-01-01 00:02:54|48.0             |0.0          |-73.991959      |40.726269      |-73.992226       |40.72551        |NOC         |2.5        |0.5      |0.5    |0.0       |0.0         |3.5         |\n",
      "|3E7DB7D3DC9961BA3A304E5B4B419E5F|452B322CA3BB3132FF0F59FADAE615D6|2013-01-01 00:00:00|2013-01-01 00:03:00|180.0            |1.52         |-73.954117      |40.778343      |-73.941818       |40.795479       |CSH         |6.0        |0.5      |0.5    |0.0       |0.0         |7.0         |\n",
      "|557B02E4BC71B16C0EBC9CEE6F757822|10DEF6B15C01194B2D4933C638926EEF|2013-01-01 00:01:00|2013-01-01 00:03:00|120.0            |0.41         |-73.976173      |40.744942      |-73.980919       |40.747517       |CSH         |4.0        |0.5      |0.5    |0.0       |0.0         |5.0         |\n",
      "|F07E8A597F1DF9BB32803DC3D5CB0DC5|D0626B4EF37543B0157317572E7AB578|2013-01-01 00:02:00|2013-01-01 00:03:00|60.0             |0.77         |-73.944618      |40.783131      |-73.947418       |40.775574       |CSH         |4.5        |0.5      |0.5    |0.0       |0.0         |5.5         |\n",
      "|79E7DAB478510728043D760E44F8196B|922EFBE2E81AEDD70E4B212EE9AABC78|2013-01-01 00:00:55|2013-01-01 00:03:21|145.0            |0.8          |-73.962646      |40.767467      |-73.954063       |40.776943       |CRD         |4.5        |0.5      |0.5    |1.5       |0.0         |7.0         |\n",
      "|02B072BC2EE4ECC6960A29B645B3B448|F5DA86FBBA8D8C5627CA54CC9EC356F4|2013-01-01 00:01:40|2013-01-01 00:03:30|110.0            |0.5          |-73.994308      |40.74612       |-74.002373       |40.748615       |CSH         |4.0        |0.5      |0.5    |0.0       |0.0         |5.0         |\n",
      "|489ED3944E97C1A5C81EE39CE28D37E1|ED3B4A7E70A5C145C43BBD08E4BBD33E|2013-01-01 00:02:00|2013-01-01 00:04:00|120.0            |0.36         |-73.987907      |40.731907      |-73.983871       |40.730175       |CRD         |3.5        |0.5      |0.5    |0.8       |0.0         |5.3         |\n",
      "|5F78CC6D4ECD0541B765FECE17075B6F|B7567F5BFD558C665D23B18451FE1FD1|2013-01-01 00:00:00|2013-01-01 00:04:00|240.0            |1.21         |-73.973         |40.79314       |-73.981453       |40.778465       |CRD         |6.0        |0.5      |0.5    |1.3       |0.0         |8.3         |\n",
      "|DF474EED0424EB71E5641EE88B616751|A90F1E13FFFE433EC5D62CBD914DC9E0|2013-01-01 00:01:00|2013-01-01 00:04:00|180.0            |0.92         |-73.987762      |40.732464      |-73.980377       |40.742603       |CRD         |4.5        |0.5      |0.5    |1.25      |0.0         |6.75        |\n",
      "|D242F08982116B6C6EBEF33FBCC14513|014FCFEF7DD164992FCD8492DF7A6133|2013-01-01 00:00:46|2013-01-01 00:04:06|199.0            |0.5          |-73.994049      |40.718227      |-73.987206       |40.720482       |CSH         |4.0        |0.5      |0.5    |0.0       |0.0         |5.0         |\n",
      "|784131EEAAFACD3B839E9B48C051FC2C|DB805A7306FBF4874053E9BD200B85D9|2013-01-01 00:00:16|2013-01-01 00:04:11|234.0            |0.8          |-73.957649      |40.717785      |-73.966522       |40.714657       |CSH         |4.5        |0.5      |0.5    |0.0       |0.0         |5.5         |\n",
      "|5191086622F86A17B025EDBD077E8BB0|B4D0A14D777E4284466C886C1C2A55C4|2013-01-01 00:04:06|2013-01-01 00:04:14|8.0              |0.0          |-73.984787      |40.764076      |-73.984749       |40.764126       |NOC         |2.5        |0.5      |0.5    |0.0       |0.0         |3.5         |\n",
      "|8402CBED165898F314C50BC57314CDFF|0DB1416B58D5527FD168A981F8048C05|2013-01-01 00:02:12|2013-01-01 00:04:29|137.0            |0.3          |-73.99939       |40.739437      |-74.000252       |40.74268        |CSH         |3.5        |0.5      |0.5    |0.0       |0.0         |4.5         |\n",
      "|182AEEFB53A1EC846CE3A39734E07F15|968B835043E20F11EEB2104C3B7FA04C|2013-01-01 00:01:26|2013-01-01 00:04:40|193.0            |0.6          |-73.965012      |40.755863      |-73.973694       |40.755215       |CRD         |4.5        |0.5      |0.5    |1.1       |0.0         |6.6         |\n",
      "|BBC3E143398F546F06B964C6FA21BD07|32E7F03F79210B7D24C80699156D8D2C|2013-01-01 00:00:11|2013-01-01 00:04:56|285.0            |0.7          |-73.996643      |40.732185      |-74.001266       |40.725452       |CSH         |5.0        |0.5      |0.5    |0.0       |0.0         |6.0         |\n",
      "+--------------------------------+--------------------------------+-------------------+-------------------+-----------------+-------------+----------------+---------------+-----------------+----------------+------------+-----------+---------+-------+----------+------------+------------+\n",
      "only showing top 20 rows\n",
      "\n"
     ]
    }
   ],
   "source": [
    "spark.sql(\"SELECT * FROM taxi_trips_cleaned\").show(truncate=False)"
   ]
  }
 ],
 "metadata": {
  "kernelspec": {
   "display_name": "Python 3 (ipykernel)",
   "language": "python",
   "name": "python3"
  },
  "language_info": {
   "codemirror_mode": {
    "name": "ipython",
    "version": 3
   },
   "file_extension": ".py",
   "mimetype": "text/x-python",
   "name": "python",
   "nbconvert_exporter": "python",
   "pygments_lexer": "ipython3",
   "version": "3.11.10"
  }
 },
 "nbformat": 4,
 "nbformat_minor": 5
}
