{
 "cells": [
  {
   "cell_type": "markdown",
   "id": "8f48efcf-cc38-4f99-8427-6d9234a01562",
   "metadata": {},
   "source": [
    "# Data enrichment"
   ]
  },
  {
   "cell_type": "markdown",
   "id": "830b41fa-1f4c-450b-ae9f-3addfe014d14",
   "metadata": {},
   "source": [
    "* Join prickup and dropoff coordinates with location name\n",
    "* Convert datetimes to timestamps\n",
    "* Save the result in `../output/output.parquet`"
   ]
  },
  {
   "cell_type": "code",
   "execution_count": 1,
   "id": "28c6727ab8b783bf",
   "metadata": {
    "ExecuteTime": {
     "end_time": "2025-02-27T05:17:37.498548Z",
     "start_time": "2025-02-27T05:17:37.300599Z"
    }
   },
   "outputs": [],
   "source": [
    "from pyspark.sql import SparkSession\n",
    "from sedona.utils import SedonaKryoRegistrator\n",
    "from pyspark.sql.functions import col, udf, unix_timestamp, to_timestamp\n",
    "from pyspark.sql.functions import expr\n",
    "from pyspark.sql.types import StructType, StructField, StringType, DoubleType, IntegerType\n",
    "\n",
    "import geopandas as gpd\n",
    "from shapely import Point"
   ]
  },
  {
   "cell_type": "code",
   "execution_count": 2,
   "id": "0a3f0c5b-f3d0-49d7-89a8-45bd4a7fe5b6",
   "metadata": {},
   "outputs": [],
   "source": [
    "sedona_jar = '/home/jovyan/jars/sedona-spark-shaded-3.0_2.12-1.6.1.jar'\n",
    "geotools_jar = '/home/jovyan/jars/geotools-wrapper-1.7.0-28.5.jar'\n",
    "spark = (\n",
    "    SparkSession.builder\n",
    "        .config(\"spark.jars\", f\"{sedona_jar},{geotools_jar}\") \n",
    "        .config(\"spark.serializer\", \"org.apache.spark.serializer.KryoSerializer\")\n",
    "        .config(\"spark.kryo.registrator\", SedonaKryoRegistrator.getName)\n",
    "        .config(\"spark.sql.extensions\", \"org.apache.sedona.sql.SedonaSqlExtensions\")\n",
    "        .appName('NYC Taxi')    \n",
    "        .getOrCreate()\n",
    ")"
   ]
  },
  {
   "cell_type": "code",
   "execution_count": 3,
   "id": "5f8f404b-8a3f-4c66-8435-2330fc746910",
   "metadata": {},
   "outputs": [],
   "source": [
    "#medallion,hack_license,vendor_id,rate_code,store_and_fwd_flag,pickup_datetime,dropoff\t_datetime,passenger_\tcount,trip_time_in_secs,trip_distance,pickup_longitude,pickup_latitude,dropoff_longitude,dropoff_latitude\n",
    "\n",
    "schema = StructType([\n",
    "    StructField(\"medallion\", StringType(), True),\n",
    "    StructField(\"hack_license\", StringType(), True),\n",
    "    StructField(\"vendor_id\", StringType(), True),\n",
    "    StructField(\"rate_code\", IntegerType(), True),\n",
    "    StructField(\"store_and_fwd_flag\", StringType(), True),\n",
    "    StructField(\"pickup_datetime\", StringType(), True),\n",
    "    StructField(\"dropoff_datetime\", StringType(), True),\n",
    "    StructField(\"passenger_count\", IntegerType(), True),\n",
    "\n",
    "    StructField(\"trip_time_in_secs\", StringType(), True),\n",
    "    StructField(\"trip_distance\", StringType(), True),\n",
    "    \n",
    "    StructField(\"pickup_longitude\", StringType(), True),\n",
    "    StructField(\"pickup_latitude\", StringType(), True),\n",
    "    StructField(\"dropoff_longitude\", StringType(), True),\n",
    "    StructField(\"dropoff_latitude\", StringType(), True)\n",
    "])\n",
    "\n",
    "df_trip = spark.read.csv('../data/trip_data/*.csv', header=True, schema=schema)\n",
    "#\n"
   ]
  },
  {
   "cell_type": "code",
   "execution_count": 4,
   "id": "8e0ffe7a-c682-420f-a602-9637e20298cd",
   "metadata": {},
   "outputs": [],
   "source": [
    "cols = [\"medallion\", \"pickup_datetime\", \"dropoff_datetime\", \"pickup_longitude\", \"pickup_latitude\", \"dropoff_longitude\", \"dropoff_latitude\"]\n",
    "df_trip = df_trip.selectExpr(cols)"
   ]
  },
  {
   "cell_type": "code",
   "execution_count": 5,
   "id": "5af1d52b-506e-42aa-9416-8d73193bf6bd",
   "metadata": {},
   "outputs": [
    {
     "data": {
      "text/plain": [
       "[Row(medallion='89D227B655E5C82AECF13C3F540D4CF4', pickup_datetime='2013-01-01 15:11:48', dropoff_datetime='2013-01-01 15:18:10', pickup_longitude='-73.978165', pickup_latitude='40.757977', dropoff_longitude='-73.989838', dropoff_latitude='40.751171'),\n",
       " Row(medallion='0BD7C8F5BA12B88E0B67BED28BEA73D8', pickup_datetime='2013-01-06 00:18:35', dropoff_datetime='2013-01-06 00:22:54', pickup_longitude='-74.006683', pickup_latitude='40.731781', dropoff_longitude='-73.994499', dropoff_latitude='40.75066'),\n",
       " Row(medallion='0BD7C8F5BA12B88E0B67BED28BEA73D8', pickup_datetime='2013-01-05 18:49:41', dropoff_datetime='2013-01-05 18:54:23', pickup_longitude='-74.004707', pickup_latitude='40.73777', dropoff_longitude='-74.009834', dropoff_latitude='40.726002'),\n",
       " Row(medallion='DFD2202EE08F7A8DC9A57B02ACB81FE2', pickup_datetime='2013-01-07 23:54:15', dropoff_datetime='2013-01-07 23:58:20', pickup_longitude='-73.974602', pickup_latitude='40.759945', dropoff_longitude='-73.984734', dropoff_latitude='40.759388'),\n",
       " Row(medallion='DFD2202EE08F7A8DC9A57B02ACB81FE2', pickup_datetime='2013-01-07 23:25:03', dropoff_datetime='2013-01-07 23:34:24', pickup_longitude='-73.97625', pickup_latitude='40.748528', dropoff_longitude='-74.002586', dropoff_latitude='40.747868'),\n",
       " Row(medallion='20D9ECB2CA0767CF7A01564DF2844A3E', pickup_datetime='2013-01-07 15:27:48', dropoff_datetime='2013-01-07 15:38:37', pickup_longitude='-73.966743', pickup_latitude='40.764252', dropoff_longitude='-73.983322', dropoff_latitude='40.743763'),\n",
       " Row(medallion='496644932DF3932605C22C7926FF0FE0', pickup_datetime='2013-01-08 11:01:15', dropoff_datetime='2013-01-08 11:08:14', pickup_longitude='-73.995804', pickup_latitude='40.743977', dropoff_longitude='-74.007416', dropoff_latitude='40.744343'),\n",
       " Row(medallion='0B57B9633A2FECD3D3B1944AFC7471CF', pickup_datetime='2013-01-07 12:39:18', dropoff_datetime='2013-01-07 13:10:56', pickup_longitude='-73.989937', pickup_latitude='40.756775', dropoff_longitude='-73.86525', dropoff_latitude='40.77063'),\n",
       " Row(medallion='2C0E91FF20A856C891483ED63589F982', pickup_datetime='2013-01-07 18:15:47', dropoff_datetime='2013-01-07 18:20:47', pickup_longitude='-73.980072', pickup_latitude='40.743137', dropoff_longitude='-73.982712', dropoff_latitude='40.735336'),\n",
       " Row(medallion='2D4B95E2FA7B2E85118EC5CA4570FA58', pickup_datetime='2013-01-07 15:33:28', dropoff_datetime='2013-01-07 15:49:26', pickup_longitude='-73.977936', pickup_latitude='40.786983', dropoff_longitude='-73.952919', dropoff_latitude='40.80637'),\n",
       " Row(medallion='E12F6AF991172EAC3553144A0AF75A19', pickup_datetime='2013-01-08 13:11:52', dropoff_datetime='2013-01-08 13:19:50', pickup_longitude='-73.982452', pickup_latitude='40.773167', dropoff_longitude='-73.964134', dropoff_latitude='40.773815'),\n",
       " Row(medallion='E12F6AF991172EAC3553144A0AF75A19', pickup_datetime='2013-01-08 09:50:05', dropoff_datetime='2013-01-08 10:02:54', pickup_longitude='-73.99556', pickup_latitude='40.749294', dropoff_longitude='-73.988686', dropoff_latitude='40.759052'),\n",
       " Row(medallion='78FFD9CD0CDA541F335EF8B38FB494D6', pickup_datetime='2013-01-10 12:07:08', dropoff_datetime='2013-01-10 12:17:29', pickup_longitude='-73.971497', pickup_latitude='40.791321', dropoff_longitude='-73.964478', dropoff_latitude='40.775921'),\n",
       " Row(medallion='237F49C3ECC11F5024B254268F054384', pickup_datetime='2013-01-07 07:35:47', dropoff_datetime='2013-01-07 07:46:00', pickup_longitude='-73.98851', pickup_latitude='40.774307', dropoff_longitude='-73.981094', dropoff_latitude='40.755325'),\n",
       " Row(medallion='3349F919AA8AE5DC9C50A3773EA45BD8', pickup_datetime='2013-01-10 15:42:29', dropoff_datetime='2013-01-10 16:04:02', pickup_longitude='-73.994911', pickup_latitude='40.723221', dropoff_longitude='-73.971558', dropoff_latitude='40.761612'),\n",
       " Row(medallion='3349F919AA8AE5DC9C50A3773EA45BD8', pickup_datetime='2013-01-10 14:27:28', dropoff_datetime='2013-01-10 14:45:21', pickup_longitude='-74.010391', pickup_latitude='40.708702', dropoff_longitude='-73.987846', dropoff_latitude='40.756104'),\n",
       " Row(medallion='4C005EEBAA7BF26B84B21586332488A2', pickup_datetime='2013-01-07 22:09:59', dropoff_datetime='2013-01-07 22:19:50', pickup_longitude='-73.973732', pickup_latitude='40.756287', dropoff_longitude='-73.998413', dropoff_latitude='40.756832'),\n",
       " Row(medallion='7D99C30FCE69B1A9DD27E2AEAC9BFA0C', pickup_datetime='2013-01-07 17:18:16', dropoff_datetime='2013-01-07 17:20:55', pickup_longitude='-73.968925', pickup_latitude='40.767704', dropoff_longitude='-73.96199', dropoff_latitude='40.776566'),\n",
       " Row(medallion='E6FBF80668FE0611AEA44FD9574A7E32', pickup_datetime='2013-01-07 06:08:51', dropoff_datetime='2013-01-07 06:13:14', pickup_longitude='-73.96212', pickup_latitude='40.769737', dropoff_longitude='-73.979561', dropoff_latitude='40.75539'),\n",
       " Row(medallion='0C5296F3C8B16E702F8F2E06F5106552', pickup_datetime='2013-01-07 22:25:46', dropoff_datetime='2013-01-07 22:36:56', pickup_longitude='-73.989708', pickup_latitude='40.756714', dropoff_longitude='-73.977615', dropoff_latitude='40.787575')]"
      ]
     },
     "execution_count": 5,
     "metadata": {},
     "output_type": "execute_result"
    }
   ],
   "source": [
    "df_trip.take(20)"
   ]
  },
  {
   "cell_type": "code",
   "execution_count": 6,
   "id": "fabdb655-02fb-42ad-8695-6e40f8d2428f",
   "metadata": {},
   "outputs": [],
   "source": [
    "#df_trip.count()"
   ]
  },
  {
   "cell_type": "code",
   "execution_count": 7,
   "id": "0c2948d2-8911-44fa-b35d-8ca0f4fdbe5c",
   "metadata": {},
   "outputs": [],
   "source": [
    "df_trip_cleaned = df_trip.dropna(subset=cols)"
   ]
  },
  {
   "cell_type": "code",
   "execution_count": 8,
   "id": "ed96c885-49d3-4fd4-91e9-1601dbf8ff19",
   "metadata": {},
   "outputs": [
    {
     "data": {
      "text/plain": [
       "173176321"
      ]
     },
     "execution_count": 8,
     "metadata": {},
     "output_type": "execute_result"
    }
   ],
   "source": [
    "df_trip_cleaned.count()"
   ]
  },
  {
   "cell_type": "code",
   "execution_count": 9,
   "id": "d7efd448-2715-4b38-8d7a-7bf6c3fb392f",
   "metadata": {},
   "outputs": [],
   "source": [
    "# Convert pcikup and dropoff time to timestamps\n",
    "\n",
    "DATE_FORMAT = 'yyyy-MM-d HH:mm:ss'\n",
    "df_trip_w_ts = (df_trip_cleaned\n",
    "         .withColumn('pickup_ts', unix_timestamp(to_timestamp(col(\"pickup_datetime\"), DATE_FORMAT)))\n",
    "         .withColumn('dropoff_ts', unix_timestamp(to_timestamp(col(\"dropoff_datetime\"), DATE_FORMAT)))\n",
    "        )"
   ]
  },
  {
   "cell_type": "code",
   "execution_count": 10,
   "id": "0cb8bb3c-1f2b-44f8-9c16-d8d1c0ec1d78",
   "metadata": {},
   "outputs": [],
   "source": [
    "#df_pd = df.toPandas()\n",
    "\n",
    "# Create GeoDataFrame for pickup locations\n",
    "#df_pd[\"pickup_geometry\"] = df_pd.apply(lambda row: Point(row[\"pickup_longitude\"], row[\"pickup_latitude\"]), axis=1)\n",
    "#df_pd[\"dropoff_geometry\"] = df_pd.apply(lambda row: Point(row[\"dropoff_longitude\"], row[\"dropoff_latitude\"]), axis=1)\n"
   ]
  },
  {
   "cell_type": "code",
   "execution_count": 11,
   "id": "ef5b8439-f769-4613-9fed-ba48b6b00eae",
   "metadata": {},
   "outputs": [],
   "source": [
    "#df_trip.write.mode('overwrite').parquet(\"../output/test.parquet\")\n",
    "#df_trip = spark.read.load('../output/output.parquet')"
   ]
  },
  {
   "cell_type": "code",
   "execution_count": 12,
   "id": "168739a1-638a-4e3d-85b1-c5e2ac779768",
   "metadata": {},
   "outputs": [
    {
     "name": "stdout",
     "output_type": "stream",
     "text": [
      "+--------------------+-------------------+-------------------+----------------+---------------+-----------------+----------------+\n",
      "|           medallion|    pickup_datetime|   dropoff_datetime|pickup_longitude|pickup_latitude|dropoff_longitude|dropoff_latitude|\n",
      "+--------------------+-------------------+-------------------+----------------+---------------+-----------------+----------------+\n",
      "|89D227B655E5C82AE...|2013-01-01 15:11:48|2013-01-01 15:18:10|      -73.978165|      40.757977|       -73.989838|       40.751171|\n",
      "|0BD7C8F5BA12B88E0...|2013-01-06 00:18:35|2013-01-06 00:22:54|      -74.006683|      40.731781|       -73.994499|        40.75066|\n",
      "|0BD7C8F5BA12B88E0...|2013-01-05 18:49:41|2013-01-05 18:54:23|      -74.004707|       40.73777|       -74.009834|       40.726002|\n",
      "|DFD2202EE08F7A8DC...|2013-01-07 23:54:15|2013-01-07 23:58:20|      -73.974602|      40.759945|       -73.984734|       40.759388|\n",
      "|DFD2202EE08F7A8DC...|2013-01-07 23:25:03|2013-01-07 23:34:24|       -73.97625|      40.748528|       -74.002586|       40.747868|\n",
      "|20D9ECB2CA0767CF7...|2013-01-07 15:27:48|2013-01-07 15:38:37|      -73.966743|      40.764252|       -73.983322|       40.743763|\n",
      "|496644932DF393260...|2013-01-08 11:01:15|2013-01-08 11:08:14|      -73.995804|      40.743977|       -74.007416|       40.744343|\n",
      "|0B57B9633A2FECD3D...|2013-01-07 12:39:18|2013-01-07 13:10:56|      -73.989937|      40.756775|        -73.86525|        40.77063|\n",
      "|2C0E91FF20A856C89...|2013-01-07 18:15:47|2013-01-07 18:20:47|      -73.980072|      40.743137|       -73.982712|       40.735336|\n",
      "|2D4B95E2FA7B2E851...|2013-01-07 15:33:28|2013-01-07 15:49:26|      -73.977936|      40.786983|       -73.952919|        40.80637|\n",
      "|E12F6AF991172EAC3...|2013-01-08 13:11:52|2013-01-08 13:19:50|      -73.982452|      40.773167|       -73.964134|       40.773815|\n",
      "|E12F6AF991172EAC3...|2013-01-08 09:50:05|2013-01-08 10:02:54|       -73.99556|      40.749294|       -73.988686|       40.759052|\n",
      "|78FFD9CD0CDA541F3...|2013-01-10 12:07:08|2013-01-10 12:17:29|      -73.971497|      40.791321|       -73.964478|       40.775921|\n",
      "|237F49C3ECC11F502...|2013-01-07 07:35:47|2013-01-07 07:46:00|       -73.98851|      40.774307|       -73.981094|       40.755325|\n",
      "|3349F919AA8AE5DC9...|2013-01-10 15:42:29|2013-01-10 16:04:02|      -73.994911|      40.723221|       -73.971558|       40.761612|\n",
      "|3349F919AA8AE5DC9...|2013-01-10 14:27:28|2013-01-10 14:45:21|      -74.010391|      40.708702|       -73.987846|       40.756104|\n",
      "|4C005EEBAA7BF26B8...|2013-01-07 22:09:59|2013-01-07 22:19:50|      -73.973732|      40.756287|       -73.998413|       40.756832|\n",
      "|7D99C30FCE69B1A9D...|2013-01-07 17:18:16|2013-01-07 17:20:55|      -73.968925|      40.767704|        -73.96199|       40.776566|\n",
      "|E6FBF80668FE0611A...|2013-01-07 06:08:51|2013-01-07 06:13:14|       -73.96212|      40.769737|       -73.979561|        40.75539|\n",
      "|0C5296F3C8B16E702...|2013-01-07 22:25:46|2013-01-07 22:36:56|      -73.989708|      40.756714|       -73.977615|       40.787575|\n",
      "+--------------------+-------------------+-------------------+----------------+---------------+-----------------+----------------+\n",
      "only showing top 20 rows\n",
      "\n"
     ]
    }
   ],
   "source": [
    "df_trip.show()"
   ]
  },
  {
   "cell_type": "code",
   "execution_count": 13,
   "id": "fcee672bd4982637",
   "metadata": {
    "ExecuteTime": {
     "end_time": "2025-02-27T05:17:46.660044Z",
     "start_time": "2025-02-27T05:17:39.088670Z"
    }
   },
   "outputs": [],
   "source": [
    "# Load spatial data of NY\n",
    "\n",
    "# First we use geopandas to read the geojson\n",
    "gdf = gpd.read_file('../data/nyc-boroughs.geojson')\n",
    "\n",
    "# Convert geom to WKT\n",
    "gdf['geom'] = gdf['geometry'].apply(lambda geom: geom.wkt if geom else None)\n",
    "\n",
    "# geopandas df to pandas df\n",
    "pdf = gdf.astype(str)\n",
    "\n",
    "# pandas df to spark df\n",
    "df_geom = spark.createDataFrame(pdf)\n",
    "\n",
    "# Convert WKT to geom (format) which is used for intersections\n",
    "df_geom = df_geom.withColumn(\"geom\", expr(\"ST_GeomFromWKT(geom)\"))"
   ]
  },
  {
   "cell_type": "code",
   "execution_count": 14,
   "id": "fc42a8e1-aa20-49aa-ba5c-60b4f82a8c60",
   "metadata": {},
   "outputs": [],
   "source": [
    "# Helper function to convert long and lat to Point\n",
    "\n",
    "udf_to_point = udf(lambda lon, lat: Point(lon, lat).wkt if lon is not None and lat is not None else '')"
   ]
  },
  {
   "cell_type": "code",
   "execution_count": 15,
   "id": "2c720e97-dcab-4978-a85c-badbeb3b7709",
   "metadata": {},
   "outputs": [],
   "source": [
    "# Trip df to WKT -> geom \n",
    "\n",
    "df_trip_w_points = (df_trip_w_ts\n",
    "     .withColumn('pickup_point', udf_to_point(col('pickup_longitude'), col('pickup_latitude')))\n",
    "     .withColumn('dropoff_point', udf_to_point(col('dropoff_longitude'), col('dropoff_latitude')))\n",
    "     .withColumn('geom_pickup', expr('ST_GeomFromWKT(pickup_point)'))\n",
    "     .withColumn('geom_dropoff', expr('ST_GeomFromWKT(dropoff_point)'))\n",
    "    )"
   ]
  },
  {
   "cell_type": "code",
   "execution_count": 16,
   "id": "ea577339-9fd2-4748-8537-8768000ef45d",
   "metadata": {},
   "outputs": [
    {
     "data": {
      "text/plain": [
       "Row(medallion='89D227B655E5C82AECF13C3F540D4CF4', pickup_datetime='2013-01-01 15:11:48', dropoff_datetime='2013-01-01 15:18:10', pickup_longitude='-73.978165', pickup_latitude='40.757977', dropoff_longitude='-73.989838', dropoff_latitude='40.751171', pickup_ts=1357053108, dropoff_ts=1357053490, pickup_point='POINT (-73.978165 40.757977)', dropoff_point='POINT (-73.989838 40.751171)', geom_pickup=<POINT (-73.978 40.758)>, geom_dropoff=<POINT (-73.99 40.751)>)"
      ]
     },
     "execution_count": 16,
     "metadata": {},
     "output_type": "execute_result"
    }
   ],
   "source": [
    "df_trip_w_points.first()"
   ]
  },
  {
   "cell_type": "code",
   "execution_count": 17,
   "id": "80779dd9-86ac-4d7e-8b1e-ce2038339ff3",
   "metadata": {},
   "outputs": [],
   "source": [
    "# Join geospatial data to trip pickup locations\n",
    "\n",
    "df_trip_w_pickup = df_geom.alias('geo').join(\n",
    "    df_trip_w_points.alias('travel'),\n",
    "    expr('ST_Intersects(geo.geom, travel.geom_pickup)'),\n",
    "    'inner'\n",
    ")"
   ]
  },
  {
   "cell_type": "code",
   "execution_count": 18,
   "id": "cb2571fa-a99b-48b2-99f1-a0c9a6b23dcd",
   "metadata": {},
   "outputs": [],
   "source": [
    "# Distinguish pickup borough\n",
    "df_trip_w_pickup = df_trip_w_pickup.withColumn('pickup_borough', col('borough'))\n",
    "\n",
    "# Remove excess columns\n",
    "df_trip_w_pickup = df_trip_w_pickup.drop(\"geometry\", \"@id\", \"geom\", \"borough\", \"boroughCode\")"
   ]
  },
  {
   "cell_type": "code",
   "execution_count": 19,
   "id": "0d8a75bd-ca7a-4e8e-9fef-ef085471aa14",
   "metadata": {},
   "outputs": [],
   "source": [
    "# Join geospatial data to trip dropoff locations\n",
    "\n",
    "df_trip_w_pickup_n_dropoff = df_geom.alias('geo').join(\n",
    "    df_trip_w_pickup.alias('travel'),\n",
    "    expr('ST_Intersects(geo.geom, travel.geom_dropoff)'),\n",
    "    'inner'\n",
    ")"
   ]
  },
  {
   "cell_type": "code",
   "execution_count": 20,
   "id": "b9cf98cb-c783-4515-90e8-13059c64821f",
   "metadata": {},
   "outputs": [],
   "source": [
    "# Distinguish dropoff borough\n",
    "df_trip_w_pickup_n_dropoff = df_trip_w_pickup_n_dropoff.withColumn('dropoff_borough', col('borough'))\n",
    "\n",
    "# Remove excess columns\n",
    "df_trip_w_pickup_n_dropoff = df_trip_w_pickup_n_dropoff.drop(\"geometry\", \"@id\", \"geom\", \"borough\", \"boroughCode\")"
   ]
  },
  {
   "cell_type": "code",
   "execution_count": 21,
   "id": "36384370-f9e2-4882-a9c0-4e82905e6273",
   "metadata": {},
   "outputs": [
    {
     "data": {
      "text/plain": [
       "Row(medallion='89D227B655E5C82AECF13C3F540D4CF4', pickup_datetime='2013-01-01 15:11:48', dropoff_datetime='2013-01-01 15:18:10', pickup_longitude='-73.978165', pickup_latitude='40.757977', dropoff_longitude='-73.989838', dropoff_latitude='40.751171')"
      ]
     },
     "execution_count": 21,
     "metadata": {},
     "output_type": "execute_result"
    }
   ],
   "source": [
    "df_trip.first()"
   ]
  },
  {
   "cell_type": "code",
   "execution_count": null,
   "id": "3f4ec82a-8587-4870-9f16-7844198decec",
   "metadata": {},
   "outputs": [],
   "source": [
    "# Test that the solution works\n",
    "\n",
    "df_trip_w_pickup_n_dropoff.first()"
   ]
  },
  {
   "cell_type": "code",
   "execution_count": null,
   "id": "c0a106d8-a2aa-411b-b50d-30a69f5fb55d",
   "metadata": {},
   "outputs": [],
   "source": [
    "# Pruning the final df to reduce data load\n",
    "\n",
    "df_final = df_trip_w_pickup_n_dropoff_n_ts.select(\"medallion\", \"pickup_borough\", \"dropoff_borough\", \"pickup_ts\", \"dropoff_ts\")"
   ]
  },
  {
   "cell_type": "code",
   "execution_count": null,
   "id": "6c90b80f-e0db-4e62-97fd-06973ecce989",
   "metadata": {},
   "outputs": [],
   "source": [
    "df_final.show()"
   ]
  },
  {
   "cell_type": "code",
   "execution_count": null,
   "id": "bb4421cfa7b11ef4",
   "metadata": {
    "ExecuteTime": {
     "end_time": "2025-02-27T05:18:02.733560Z",
     "start_time": "2025-02-27T05:15:08.696507Z"
    }
   },
   "outputs": [],
   "source": [
    "# Save the result to parquet to use later for queries\n",
    "\n",
    "df_final.write.mode('overwrite').parquet(\"../output/output.parquet\")"
   ]
  }
 ],
 "metadata": {
  "kernelspec": {
   "display_name": "Python 3 (ipykernel)",
   "language": "python",
   "name": "python3"
  },
  "language_info": {
   "codemirror_mode": {
    "name": "ipython",
    "version": 3
   },
   "file_extension": ".py",
   "mimetype": "text/x-python",
   "name": "python",
   "nbconvert_exporter": "python",
   "pygments_lexer": "ipython3",
   "version": "3.11.10"
  }
 },
 "nbformat": 4,
 "nbformat_minor": 5
}
