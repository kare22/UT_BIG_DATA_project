{
 "cells": [
  {
   "cell_type": "markdown",
   "id": "8f48efcf-cc38-4f99-8427-6d9234a01562",
   "metadata": {},
   "source": [
    "# Data enrichment"
   ]
  },
  {
   "cell_type": "markdown",
   "id": "830b41fa-1f4c-450b-ae9f-3addfe014d14",
   "metadata": {},
   "source": [
    "* Join prickup and dropoff coordinates with location name\n",
    "* Convert datetimes to timestamps\n",
    "* Save the result in `../output/output.parquet`"
   ]
  },
  {
   "cell_type": "code",
   "execution_count": 1,
   "id": "28c6727ab8b783bf",
   "metadata": {
    "ExecuteTime": {
     "end_time": "2025-02-27T05:17:37.498548Z",
     "start_time": "2025-02-27T05:17:37.300599Z"
    }
   },
   "outputs": [],
   "source": [
    "from pyspark.sql import SparkSession\n",
    "from sedona.utils import SedonaKryoRegistrator\n",
    "from pyspark.sql.functions import col, udf, unix_timestamp, to_timestamp\n",
    "from pyspark.sql.functions import expr\n",
    "from pyspark.sql.types import StructType, StructField, StringType, DoubleType, IntegerType\n",
    "\n",
    "import geopandas as gpd\n",
    "from shapely import Point"
   ]
  },
  {
   "cell_type": "code",
   "execution_count": 2,
   "id": "d2f90d322d54ef95",
   "metadata": {
    "ExecuteTime": {
     "end_time": "2025-02-27T05:17:39.029845Z",
     "start_time": "2025-02-27T05:17:37.511049Z"
    }
   },
   "outputs": [],
   "source": [
    "# Setup SparkSession and add Sedona\n",
    "# Sedona enables us to use PostGIS like functions to find intersections\n",
    "\n",
    "sedona_jar = '/home/jovyan/jars/sedona-spark-shaded-3.0_2.12-1.6.1.jar'\n",
    "geotools_jar = '/home/jovyan/jars/geotools-wrapper-1.7.0-28.5.jar'\n",
    "spark = (\n",
    "    SparkSession.builder\n",
    "        .config(\"spark.jars\", f\"{sedona_jar},{geotools_jar}\") \n",
    "        .config(\"spark.serializer\", \"org.apache.spark.serializer.KryoSerializer\")\n",
    "        .config(\"spark.kryo.registrator\", SedonaKryoRegistrator.getName)\n",
    "        .config(\"spark.sql.extensions\", \"org.apache.sedona.sql.SedonaSqlExtensions\")\n",
    "        .appName('NYC Taxi')    \n",
    "        .getOrCreate()\n",
    ")"
   ]
  },
  {
   "cell_type": "code",
   "execution_count": 3,
   "id": "eb55cfd0-44d5-40fb-8230-d6f591931d01",
   "metadata": {},
   "outputs": [],
   "source": [
    "# Load trip data\n",
    "\n",
    "# StructField third argumen True -> can have NULL values (as some long/lat's are NULL)\n",
    "# Instead of infer we define data types to ensure data integrity\n",
    "schema = StructType([\n",
    "    StructField(\"medallion\", StringType(), True),\n",
    "    StructField(\"hack_license\", StringType(), True),\n",
    "    StructField(\"vendor_id\", StringType(), True),\n",
    "    StructField(\"rate_code\", IntegerType(), True),\n",
    "    StructField(\"store_and_fwd_flag\", StringType(), True),\n",
    "    StructField(\"pickup_datetime\", StringType(), True),\n",
    "    StructField(\"dropoff_datetime\", StringType(), True),\n",
    "    StructField(\"passenger_count\", IntegerType(), True),\n",
    "    StructField(\"pickup_longitude\", StringType(), True),\n",
    "    StructField(\"pickup_latitude\", StringType(), True),\n",
    "    StructField(\"dropoff_longitude\", StringType(), True),\n",
    "    StructField(\"dropoff_latitude\", StringType(), True)\n",
    "])\n",
    "\n",
    "df_trip = spark.read.csv('../data/Sample NYC Data.csv', header=True, schema=schema)\n",
    "\n",
    "# Select only the data we need to optimize memory usage\n",
    "df_trip = df_trip.selectExpr(\"medallion\", \"pickup_datetime\", \"dropoff_datetime\", \"pickup_longitude\", \"pickup_latitude\", \"dropoff_longitude\", \"dropoff_latitude\")"
   ]
  },
  {
   "cell_type": "code",
   "execution_count": 4,
   "id": "168739a1-638a-4e3d-85b1-c5e2ac779768",
   "metadata": {},
   "outputs": [
    {
     "name": "stdout",
     "output_type": "stream",
     "text": [
      "+--------------------+---------------+----------------+----------------+---------------+-----------------+----------------+\n",
      "|           medallion|pickup_datetime|dropoff_datetime|pickup_longitude|pickup_latitude|dropoff_longitude|dropoff_latitude|\n",
      "+--------------------+---------------+----------------+----------------+---------------+-----------------+----------------+\n",
      "|89D227B655E5C82AE...| 01-01-13 15:11|  01-01-13 15:18|      -73.978165|      40.757977|       -73.989838|       40.751171|\n",
      "|0BD7C8F5BA12B88E0...| 06-01-13 00:18|  06-01-13 00:22|      -74.006683|      40.731781|       -73.994499|        40.75066|\n",
      "|0BD7C8F5BA12B88E0...| 05-01-13 18:49|  05-01-13 18:54|      -74.004707|       40.73777|       -74.009834|       40.726002|\n",
      "|DFD2202EE08F7A8DC...| 07-01-13 23:54|  07-01-13 23:58|      -73.974602|      40.759945|       -73.984734|       40.759388|\n",
      "|DFD2202EE08F7A8DC...| 07-01-13 23:25|  07-01-13 23:34|       -73.97625|      40.748528|       -74.002586|       40.747868|\n",
      "|20D9ECB2CA0767CF7...| 07-01-13 15:27|  07-01-13 15:38|      -73.966743|      40.764252|       -73.983322|       40.743763|\n",
      "|496644932DF393260...| 08-01-13 11:01|  08-01-13 11:08|      -73.995804|      40.743977|       -74.007416|       40.744343|\n",
      "|0B57B9633A2FECD3D...| 07-01-13 12:39|  07-01-13 13:10|      -73.989937|      40.756775|        -73.86525|        40.77063|\n",
      "|2C0E91FF20A856C89...| 07-01-13 18:15|  07-01-13 18:20|      -73.980072|      40.743137|       -73.982712|       40.735336|\n",
      "|2D4B95E2FA7B2E851...| 07-01-13 15:33|  07-01-13 15:49|      -73.977936|      40.786983|       -73.952919|        40.80637|\n",
      "|E12F6AF991172EAC3...| 08-01-13 13:11|  08-01-13 13:19|      -73.982452|      40.773167|       -73.964134|       40.773815|\n",
      "|E12F6AF991172EAC3...| 08-01-13 09:50|  08-01-13 10:02|       -73.99556|      40.749294|       -73.988686|       40.759052|\n",
      "|78FFD9CD0CDA541F3...| 10-01-13 12:07|  10-01-13 12:17|      -73.971497|      40.791321|       -73.964478|       40.775921|\n",
      "|237F49C3ECC11F502...| 07-01-13 07:35|  07-01-13 07:46|       -73.98851|      40.774307|       -73.981094|       40.755325|\n",
      "|3349F919AA8AE5DC9...| 10-01-13 15:42|  10-01-13 16:04|      -73.994911|      40.723221|       -73.971558|       40.761612|\n",
      "|3349F919AA8AE5DC9...| 10-01-13 14:27|  10-01-13 14:45|      -74.010391|      40.708702|       -73.987846|       40.756104|\n",
      "|4C005EEBAA7BF26B8...| 07-01-13 22:09|  07-01-13 22:19|      -73.973732|      40.756287|       -73.998413|       40.756832|\n",
      "|7D99C30FCE69B1A9D...| 07-01-13 17:18|  07-01-13 17:20|      -73.968925|      40.767704|        -73.96199|       40.776566|\n",
      "|E6FBF80668FE0611A...| 07-01-13 06:08|  07-01-13 06:13|       -73.96212|      40.769737|       -73.979561|        40.75539|\n",
      "|0C5296F3C8B16E702...| 07-01-13 22:25|  07-01-13 22:36|      -73.989708|      40.756714|       -73.977615|       40.787575|\n",
      "+--------------------+---------------+----------------+----------------+---------------+-----------------+----------------+\n",
      "only showing top 20 rows\n",
      "\n"
     ]
    }
   ],
   "source": [
    "df_trip.show()"
   ]
  },
  {
   "cell_type": "code",
   "execution_count": 5,
   "id": "fcee672bd4982637",
   "metadata": {
    "ExecuteTime": {
     "end_time": "2025-02-27T05:17:46.660044Z",
     "start_time": "2025-02-27T05:17:39.088670Z"
    }
   },
   "outputs": [],
   "source": [
    "# Load spatial data of NY\n",
    "\n",
    "# First we use geopandas to read the geojson\n",
    "gdf = gpd.read_file('../data/nyc-boroughs.geojson')\n",
    "\n",
    "# Convert geom to WKT\n",
    "gdf['geom'] = gdf['geometry'].apply(lambda geom: geom.wkt if geom else None)\n",
    "\n",
    "# geopandas df to pandas df\n",
    "pdf = gdf.astype(str)\n",
    "\n",
    "# pandas df to spark df\n",
    "df_geom = spark.createDataFrame(pdf)\n",
    "\n",
    "# Convert WKT to geom (format) which is used for intersections\n",
    "df_geom = df_geom.withColumn(\"geom\", expr(\"ST_GeomFromWKT(geom)\"))"
   ]
  },
  {
   "cell_type": "code",
   "execution_count": 6,
   "id": "fc42a8e1-aa20-49aa-ba5c-60b4f82a8c60",
   "metadata": {},
   "outputs": [],
   "source": [
    "# Helper function to convert long and lat to Point\n",
    "\n",
    "udf_to_point = udf(lambda lon, lat: Point(lon, lat).wkt if lon is not None and lat is not None else '')"
   ]
  },
  {
   "cell_type": "code",
   "execution_count": 7,
   "id": "2c720e97-dcab-4978-a85c-badbeb3b7709",
   "metadata": {},
   "outputs": [],
   "source": [
    "# Trip df to WKT -> geom \n",
    "\n",
    "df_trip_w_points = (df_trip\n",
    "     .withColumn('pickup_point', udf_to_point(col('pickup_longitude'), col('pickup_latitude')))\n",
    "     .withColumn('dropoff_point', udf_to_point(col('dropoff_longitude'), col('dropoff_latitude')))\n",
    "     .withColumn('geom_pickup', expr('ST_GeomFromWKT(pickup_point)'))\n",
    "     .withColumn('geom_dropoff', expr('ST_GeomFromWKT(dropoff_point)'))\n",
    "    )"
   ]
  },
  {
   "cell_type": "code",
   "execution_count": 8,
   "id": "ea577339-9fd2-4748-8537-8768000ef45d",
   "metadata": {},
   "outputs": [
    {
     "data": {
      "text/plain": [
       "Row(medallion='89D227B655E5C82AECF13C3F540D4CF4', pickup_datetime='01-01-13 15:11', dropoff_datetime='01-01-13 15:18', pickup_longitude='-73.978165', pickup_latitude='40.757977', dropoff_longitude='-73.989838', dropoff_latitude='40.751171', pickup_point='POINT (-73.978165 40.757977)', dropoff_point='POINT (-73.989838 40.751171)', geom_pickup=<POINT (-73.978 40.758)>, geom_dropoff=<POINT (-73.99 40.751)>)"
      ]
     },
     "execution_count": 8,
     "metadata": {},
     "output_type": "execute_result"
    }
   ],
   "source": [
    "df_trip_w_points.first()"
   ]
  },
  {
   "cell_type": "code",
   "execution_count": 9,
   "id": "80779dd9-86ac-4d7e-8b1e-ce2038339ff3",
   "metadata": {},
   "outputs": [],
   "source": [
    "# Join geospatial data to trip pickup locations\n",
    "\n",
    "df_trip_w_pickup = df_geom.alias('geo').join(\n",
    "    df_trip_w_points.alias('travel'),\n",
    "    expr('ST_Intersects(geo.geom, travel.geom_pickup)'),\n",
    "    'inner'\n",
    ")"
   ]
  },
  {
   "cell_type": "code",
   "execution_count": 10,
   "id": "cb2571fa-a99b-48b2-99f1-a0c9a6b23dcd",
   "metadata": {},
   "outputs": [],
   "source": [
    "# Distinguish pickup borough\n",
    "df_trip_w_pickup = df_trip_w_pickup.withColumn('pickup_borough', col('borough'))\n",
    "\n",
    "# Remove excess columns\n",
    "df_trip_w_pickup = df_trip_w_pickup.drop(\"geometry\", \"@id\", \"geom\", \"borough\", \"boroughCode\")"
   ]
  },
  {
   "cell_type": "code",
   "execution_count": 11,
   "id": "0d8a75bd-ca7a-4e8e-9fef-ef085471aa14",
   "metadata": {},
   "outputs": [],
   "source": [
    "# Join geospatial data to trip dropoff locations\n",
    "\n",
    "df_trip_w_pickup_n_dropoff = df_geom.alias('geo').join(\n",
    "    df_trip_w_pickup.alias('travel'),\n",
    "    expr('ST_Intersects(geo.geom, travel.geom_dropoff)'),\n",
    "    'inner'\n",
    ")"
   ]
  },
  {
   "cell_type": "code",
   "execution_count": 12,
   "id": "b9cf98cb-c783-4515-90e8-13059c64821f",
   "metadata": {},
   "outputs": [],
   "source": [
    "# Distinguish dropoff borough\n",
    "df_trip_w_pickup_n_dropoff = df_trip_w_pickup_n_dropoff.withColumn('dropoff_borough', col('borough'))\n",
    "\n",
    "# Remove excess columns\n",
    "df_trip_w_pickup_n_dropoff = df_trip_w_pickup_n_dropoff.drop(\"geometry\", \"@id\", \"geom\", \"borough\", \"boroughCode\")"
   ]
  },
  {
   "cell_type": "code",
   "execution_count": 13,
   "id": "3f4ec82a-8587-4870-9f16-7844198decec",
   "metadata": {},
   "outputs": [
    {
     "data": {
      "text/plain": [
       "Row(medallion='F32C996F49594F21C3C14A9E1821A81A', pickup_datetime='13-01-13 03:10', dropoff_datetime='13-01-13 03:37', pickup_longitude='-74.074799', pickup_latitude='40.645111', dropoff_longitude='-74.177147', dropoff_latitude='40.540531', pickup_point='POINT (-74.074799 40.645111)', dropoff_point='POINT (-74.177147 40.540531)', geom_pickup=<POINT (-74.075 40.645)>, geom_dropoff=<POINT (-74.177 40.541)>, pickup_borough='Staten Island', dropoff_borough='Staten Island')"
      ]
     },
     "execution_count": 13,
     "metadata": {},
     "output_type": "execute_result"
    }
   ],
   "source": [
    "# Test that the solution works\n",
    "\n",
    "df_trip_w_pickup_n_dropoff.first()"
   ]
  },
  {
   "cell_type": "code",
   "execution_count": 14,
   "id": "0004f5df-d332-4314-b7cb-4d2ca5cd9a2a",
   "metadata": {},
   "outputs": [],
   "source": [
    "# Convert pcikup and dropoff time to timestamps\n",
    "\n",
    "DATE_FORMAT = 'dd-MM-yy HH:mm'\n",
    "df_trip_w_pickup_n_dropoff_n_ts = (df_trip_w_pickup_n_dropoff\n",
    "         .withColumn('pickup_ts', unix_timestamp(to_timestamp(col(\"pickup_datetime\"), DATE_FORMAT)))\n",
    "         .withColumn('dropoff_ts', unix_timestamp(to_timestamp(col(\"dropoff_datetime\"), DATE_FORMAT)))\n",
    "        )"
   ]
  },
  {
   "cell_type": "code",
   "execution_count": 15,
   "id": "c0a106d8-a2aa-411b-b50d-30a69f5fb55d",
   "metadata": {},
   "outputs": [],
   "source": [
    "# Pruning the final df to reduce data load\n",
    "\n",
    "df_final = df_trip_w_pickup_n_dropoff_n_ts.select(\"medallion\", \"pickup_borough\", \"dropoff_borough\", \"pickup_ts\", \"dropoff_ts\")"
   ]
  },
  {
   "cell_type": "code",
   "execution_count": 16,
   "id": "6c90b80f-e0db-4e62-97fd-06973ecce989",
   "metadata": {},
   "outputs": [
    {
     "name": "stdout",
     "output_type": "stream",
     "text": [
      "+--------------------+--------------+---------------+----------+----------+\n",
      "|           medallion|pickup_borough|dropoff_borough| pickup_ts|dropoff_ts|\n",
      "+--------------------+--------------+---------------+----------+----------+\n",
      "|F32C996F49594F21C...| Staten Island|  Staten Island|1358046600|1358048220|\n",
      "|AB89F24DEC0C91478...|     Manhattan|  Staten Island|1358047980|1358049540|\n",
      "|125A1E8783A1DE113...|     Manhattan|  Staten Island|1358046900|1358048400|\n",
      "|5ADE47CF8F60E045E...|     Manhattan|  Staten Island|1358070300|1358071980|\n",
      "|772B7A41B65FF59FA...|     Manhattan|  Staten Island|1358070300|1358072040|\n",
      "|889230A3561FAED35...|     Manhattan|  Staten Island|1358061600|1358063940|\n",
      "|CE9AD89BCD75060B0...|     Manhattan|  Staten Island|1358041260|1358043420|\n",
      "|71AEBB5F4EC620B12...|     Manhattan|  Staten Island|1358041260|1358044680|\n",
      "|7BA812A3FE9F443B6...|     Manhattan|  Staten Island|1358072160|1358074320|\n",
      "|46C0D5EB24E9138C2...|     Manhattan|  Staten Island|1358081340|1358083980|\n",
      "|9B5FB0AA7D3FA6A55...|        Queens|  Staten Island|1358056200|1358058540|\n",
      "|85F656CD4438F2961...|        Queens|  Staten Island|1358084340|1358086920|\n",
      "|333D72A3E9C09AD9E...|      Brooklyn|       Brooklyn|1357031940|1357032060|\n",
      "|F79B8B6D1304C70CD...|      Brooklyn|       Brooklyn|1358062320|1358062440|\n",
      "|27A6269E995D8AA00...|      Brooklyn|       Brooklyn|1358078580|1358078880|\n",
      "|9EEC071CA6E824674...|      Brooklyn|       Brooklyn|1358083740|1358084400|\n",
      "|1AABA654E5ABF4F25...|      Brooklyn|       Brooklyn|1358089440|1358090700|\n",
      "|6570BDD6EBB5FFE50...|      Brooklyn|       Brooklyn|1358073840|1358075280|\n",
      "|1CF607FFD9094FFDF...|     Manhattan|       Brooklyn|1358050740|1358052900|\n",
      "|6EE7647F7BB67B5B5...|     Manhattan|       Brooklyn|1358046240|1358047800|\n",
      "+--------------------+--------------+---------------+----------+----------+\n",
      "only showing top 20 rows\n",
      "\n"
     ]
    }
   ],
   "source": [
    "df_final.show()"
   ]
  },
  {
   "cell_type": "code",
   "execution_count": 17,
   "id": "bb4421cfa7b11ef4",
   "metadata": {
    "ExecuteTime": {
     "end_time": "2025-02-27T05:18:02.733560Z",
     "start_time": "2025-02-27T05:15:08.696507Z"
    }
   },
   "outputs": [],
   "source": [
    "# Save the result to parquet to use later for queries\n",
    "\n",
    "df_final.write.mode('overwrite').parquet(\"../output/output.parquet\")"
   ]
  }
 ],
 "metadata": {
  "kernelspec": {
   "display_name": "Python 3 (ipykernel)",
   "language": "python",
   "name": "python3"
  },
  "language_info": {
   "codemirror_mode": {
    "name": "ipython",
    "version": 3
   },
   "file_extension": ".py",
   "mimetype": "text/x-python",
   "name": "python",
   "nbconvert_exporter": "python",
   "pygments_lexer": "ipython3",
   "version": "3.11.10"
  }
 },
 "nbformat": 4,
 "nbformat_minor": 5
}
