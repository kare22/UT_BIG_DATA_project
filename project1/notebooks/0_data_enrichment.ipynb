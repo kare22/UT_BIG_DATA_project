{
 "cells": [
  {
   "cell_type": "code",
   "execution_count": 1,
   "id": "28c6727ab8b783bf",
   "metadata": {
    "ExecuteTime": {
     "end_time": "2025-02-27T05:17:37.498548Z",
     "start_time": "2025-02-27T05:17:37.300599Z"
    }
   },
   "outputs": [],
   "source": [
    "from pyspark.sql import SparkSession\n",
    "from sedona.utils import SedonaKryoRegistrator\n",
    "from pyspark.sql.functions import col, udf\n",
    "from pyspark.sql.functions import expr\n",
    "\n",
    "import geopandas as gpd\n",
    "from shapely import Point"
   ]
  },
  {
   "cell_type": "code",
   "execution_count": 2,
   "id": "d2f90d322d54ef95",
   "metadata": {
    "ExecuteTime": {
     "end_time": "2025-02-27T05:17:39.029845Z",
     "start_time": "2025-02-27T05:17:37.511049Z"
    }
   },
   "outputs": [],
   "source": [
    "# Setup SparkSession and add Sedona\n",
    "# Sedona enables us to use PostGIS like functions to find intersections\n",
    "\n",
    "sedona_jar = '/home/jovyan/jars/sedona-spark-shaded-3.0_2.12-1.6.1.jar'\n",
    "geotools_jar = '/home/jovyan/jars/geotools-wrapper-1.7.0-28.5.jar'\n",
    "spark = (\n",
    "    SparkSession.builder\n",
    "        .config(\"spark.jars\", f\"{sedona_jar},{geotools_jar}\") \n",
    "        .config(\"spark.serializer\", \"org.apache.spark.serializer.KryoSerializer\")\n",
    "        .config(\"spark.kryo.registrator\", SedonaKryoRegistrator.getName)\n",
    "        .config(\"spark.sql.extensions\", \"org.apache.sedona.sql.SedonaSqlExtensions\")\n",
    "        .appName('NYC Taxi')    \n",
    "        .getOrCreate()\n",
    ")"
   ]
  },
  {
   "cell_type": "code",
   "execution_count": 3,
   "id": "eb55cfd0-44d5-40fb-8230-d6f591931d01",
   "metadata": {},
   "outputs": [],
   "source": [
    "# Load trip data\n",
    "\n",
    "df_trip = spark.read.csv('../data/Sample NYC Data.csv', header=True, inferSchema=True)"
   ]
  },
  {
   "cell_type": "code",
   "execution_count": 4,
   "id": "fcee672bd4982637",
   "metadata": {
    "ExecuteTime": {
     "end_time": "2025-02-27T05:17:46.660044Z",
     "start_time": "2025-02-27T05:17:39.088670Z"
    }
   },
   "outputs": [],
   "source": [
    "# Load spatial data of NY\n",
    "\n",
    "# First we use geopandas to read the geojson\n",
    "gdf = gpd.read_file('../data/nyc-boroughs.geojson')\n",
    "\n",
    "# Convert geom to WKT\n",
    "gdf['geom'] = gdf['geometry'].apply(lambda geom: geom.wkt if geom else None)\n",
    "\n",
    "# geopandas df to pandas df\n",
    "pdf = gdf.astype(str)\n",
    "\n",
    "# pandas df to spark df\n",
    "df_geom = spark.createDataFrame(pdf)\n",
    "\n",
    "# Convert WKT to geom (format) which is used for intersections\n",
    "df_geom = df_geom.withColumn(\"geom\", expr(\"ST_GeomFromWKT(geom)\"))"
   ]
  },
  {
   "cell_type": "code",
   "execution_count": 5,
   "id": "fc42a8e1-aa20-49aa-ba5c-60b4f82a8c60",
   "metadata": {},
   "outputs": [],
   "source": [
    "# Helper function to convert long and lat to Point\n",
    "\n",
    "udf_to_point = udf(lambda lon, lat: Point(lon, lat).wkt if lon is not None and lat is not None else '')"
   ]
  },
  {
   "cell_type": "code",
   "execution_count": 6,
   "id": "2c720e97-dcab-4978-a85c-badbeb3b7709",
   "metadata": {},
   "outputs": [],
   "source": [
    "# Trip df to WKT -> geom \n",
    "\n",
    "df_trip_w_points = (df_trip\n",
    "     .withColumn('pickup_point', udf_to_point(col('pickup_longitude'), col('pickup_latitude')))\n",
    "     .withColumn('dropoff_point', udf_to_point(col('dropoff_longitude'), col('dropoff_latitude')))\n",
    "     .withColumn('geom_pickup', expr('ST_GeomFromWKT(pickup_point)'))\n",
    "     .withColumn('geom_dropoff', expr('ST_GeomFromWKT(dropoff_point)'))\n",
    "    )"
   ]
  },
  {
   "cell_type": "code",
   "execution_count": 7,
   "id": "80779dd9-86ac-4d7e-8b1e-ce2038339ff3",
   "metadata": {},
   "outputs": [],
   "source": [
    "# Join geospatial data to trip pickup locations\n",
    "\n",
    "df_trip_w_prickup = df_geom.alias('geo').join(\n",
    "    df_trip_w_points.alias('travel'),\n",
    "    expr('ST_Intersects(geo.geom, travel.geom_pickup)'),\n",
    "    'inner'\n",
    ")"
   ]
  },
  {
   "cell_type": "code",
   "execution_count": 8,
   "id": "cb2571fa-a99b-48b2-99f1-a0c9a6b23dcd",
   "metadata": {},
   "outputs": [],
   "source": [
    "# Distinguish pickup borough\n",
    "df_trip_w_prickup = df_trip_w_prickup.withColumn('pickup_borough', col('borough'))\n",
    "\n",
    "# Remove excess columns\n",
    "df_trip_w_prickup = df_trip_w_prickup.drop(\"geometry\", \"@id\", \"geom\", \"borough\", \"boroughCode\")"
   ]
  },
  {
   "cell_type": "code",
   "execution_count": 9,
   "id": "0d8a75bd-ca7a-4e8e-9fef-ef085471aa14",
   "metadata": {},
   "outputs": [],
   "source": [
    "# Join geospatial data to trip dropoff locations\n",
    "\n",
    "df_trip_w_prickup_n_dropoff = df_geom.alias('geo').join(\n",
    "    df_trip_w_prickup.alias('travel'),\n",
    "    expr('ST_Intersects(geo.geom, travel.geom_dropoff)'),\n",
    "    'inner'\n",
    ")"
   ]
  },
  {
   "cell_type": "code",
   "execution_count": 10,
   "id": "b9cf98cb-c783-4515-90e8-13059c64821f",
   "metadata": {},
   "outputs": [],
   "source": [
    "# Distinguish dropoff borough\n",
    "df_trip_w_prickup_n_dropoff = df_trip_w_prickup_n_dropoff.withColumn('dropoff_borough', col('borough'))\n",
    "\n",
    "# Remove excess columns\n",
    "df_trip_w_prickup_n_dropoff = df_trip_w_prickup_n_dropoff.drop(\"geometry\", \"@id\", \"geom\", \"borough\", \"boroughCode\")"
   ]
  },
  {
   "cell_type": "code",
   "execution_count": 11,
   "id": "3f4ec82a-8587-4870-9f16-7844198decec",
   "metadata": {},
   "outputs": [
    {
     "data": {
      "text/plain": [
       "Row(medallion='F32C996F49594F21C3C14A9E1821A81A', hack_license='04BF366C306B7476F390E96B5E3717E2', vendor_id='VTS', rate_code=1, store_and_fwd_flag=None, pickup_datetime='13-01-13 03:10', dropoff_datetime='13-01-13 03:37', passenger_count=2, pickup_longitude=-74.074799, pickup_latitude=40.645111, dropoff_longitude=-74.177147, dropoff_latitude=40.540531, pickup_point='POINT (-74.074799 40.645111)', dropoff_point='POINT (-74.177147 40.540531)', geom_pickup=<POINT (-74.075 40.645)>, geom_dropoff=<POINT (-74.177 40.541)>, pickup_borough='Staten Island', dropoff_borough='Staten Island')"
      ]
     },
     "execution_count": 11,
     "metadata": {},
     "output_type": "execute_result"
    }
   ],
   "source": [
    "# Test that the solution works\n",
    "\n",
    "df_trip_w_prickup_n_dropoff.first()"
   ]
  },
  {
   "cell_type": "code",
   "execution_count": 12,
   "id": "7441170a-8f9a-487b-93f9-7802791b8dcd",
   "metadata": {},
   "outputs": [],
   "source": [
    "# Remove columns that were used for intersection\n",
    "\n",
    "df_save = df_trip_w_prickup_n_dropoff.drop(\"pickup_point\", \"dropoff_point\", \"geom_pickup\", \"geom_dropoff\")"
   ]
  },
  {
   "cell_type": "code",
   "execution_count": 13,
   "id": "bb4421cfa7b11ef4",
   "metadata": {
    "ExecuteTime": {
     "end_time": "2025-02-27T05:18:02.733560Z",
     "start_time": "2025-02-27T05:15:08.696507Z"
    }
   },
   "outputs": [],
   "source": [
    "# Save the result to parquet to use later for queries\n",
    "\n",
    "df_save.write.parquet(\"../output/output.parquet\")"
   ]
  }
 ],
 "metadata": {
  "kernelspec": {
   "display_name": "Python 3 (ipykernel)",
   "language": "python",
   "name": "python3"
  },
  "language_info": {
   "codemirror_mode": {
    "name": "ipython",
    "version": 3
   },
   "file_extension": ".py",
   "mimetype": "text/x-python",
   "name": "python",
   "nbconvert_exporter": "python",
   "pygments_lexer": "ipython3",
   "version": "3.11.10"
  }
 },
 "nbformat": 4,
 "nbformat_minor": 5
}
