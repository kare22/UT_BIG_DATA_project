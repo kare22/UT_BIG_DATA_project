{
 "cells": [
  {
   "cell_type": "code",
   "execution_count": 1,
   "id": "initial_id",
   "metadata": {},
   "outputs": [],
   "source": [
    "from pyspark.sql import SparkSession\n",
    "from pyspark.sql.functions import col, to_timestamp, unix_timestamp, lag, sum, avg\n",
    "from pyspark.sql.window import Window"
   ]
  },
  {
   "cell_type": "code",
   "execution_count": 2,
   "id": "5b663a03-bb26-4a76-9724-ab0faf69b7fc",
   "metadata": {},
   "outputs": [],
   "source": [
    "spark = (\n",
    "    SparkSession.builder\n",
    "        .appName('NYC Taxi query 2')\n",
    "        .getOrCreate()\n",
    ")"
   ]
  },
  {
   "cell_type": "code",
   "execution_count": 3,
   "id": "3a704e8a-b9a2-46f1-ab63-3c23d9526e57",
   "metadata": {},
   "outputs": [],
   "source": [
    "df = spark.read.load('../output/output.parquet')"
   ]
  },
  {
   "cell_type": "code",
   "execution_count": 4,
   "id": "3f67e576-dcdd-4ff2-8290-99bb7cc74e47",
   "metadata": {},
   "outputs": [],
   "source": [
    "# Can be moved to 0_data_enrichment\n",
    "\n",
    "DATE_FORMAT = 'dd-MM-yy HH:mm'\n",
    "df_ts = (df\n",
    "         .withColumn('pickup_ts', unix_timestamp(to_timestamp(col(\"pickup_datetime\"), DATE_FORMAT)))\n",
    "         .withColumn('dropoff_ts', unix_timestamp(to_timestamp(col(\"dropoff_datetime\"), DATE_FORMAT)))\n",
    "        )"
   ]
  },
  {
   "cell_type": "code",
   "execution_count": 5,
   "id": "0bc8cffa-36f9-4ec9-9a46-11c5bb5b0a72",
   "metadata": {},
   "outputs": [],
   "source": [
    "window = Window.partitionBy('medallion').orderBy('pickup_ts')\n",
    "\n",
    "df_ts = (df_ts\n",
    "         .withColumn('dropoff_ts_prev', lag('dropoff_ts').over(window)) # lag() returns previous window row value*\n",
    "         .withColumn('idle_time', col('pickup_ts') - col('dropoff_ts_prev'))\n",
    "        )\n",
    "\n",
    "df_time_to_next = df_ts.groupBy('dropoff_borough').agg(\n",
    "    avg(col('idle_time')).alias('avg_time_for_next_ride')\n",
    ")"
   ]
  },
  {
   "cell_type": "code",
   "execution_count": 6,
   "id": "3661074b-2d2a-4ce8-b7b6-133ccf5faccd",
   "metadata": {},
   "outputs": [
    {
     "name": "stdout",
     "output_type": "stream",
     "text": [
      "+---------------+----------------------+\n",
      "|dropoff_borough|avg_time_for_next_ride|\n",
      "+---------------+----------------------+\n",
      "|         Queens|     5043.346613545817|\n",
      "|       Brooklyn|    5372.8348909657325|\n",
      "|  Staten Island|                6390.0|\n",
      "|      Manhattan|    2204.6238589486093|\n",
      "|          Bronx|     6753.784615384616|\n",
      "+---------------+----------------------+\n",
      "\n"
     ]
    }
   ],
   "source": [
    "df_time_to_next.show()"
   ]
  }
 ],
 "metadata": {
  "kernelspec": {
   "display_name": "Python 3 (ipykernel)",
   "language": "python",
   "name": "python3"
  },
  "language_info": {
   "codemirror_mode": {
    "name": "ipython",
    "version": 3
   },
   "file_extension": ".py",
   "mimetype": "text/x-python",
   "name": "python",
   "nbconvert_exporter": "python",
   "pygments_lexer": "ipython3",
   "version": "3.11.10"
  }
 },
 "nbformat": 4,
 "nbformat_minor": 5
}
