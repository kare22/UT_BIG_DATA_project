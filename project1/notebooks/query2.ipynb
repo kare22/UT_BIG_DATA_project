{
 "cells": [
  {
   "cell_type": "code",
   "execution_count": 1,
   "id": "28c6727ab8b783bf",
   "metadata": {
    "ExecuteTime": {
     "end_time": "2025-02-27T05:17:37.498548Z",
     "start_time": "2025-02-27T05:17:37.300599Z"
    }
   },
   "outputs": [],
   "source": [
    "from pyspark.sql import SparkSession\n",
    "from pyspark.sql.functions import col, unix_timestamp, lag, sum, avg\n",
    "from pyspark.sql.window import Window"
   ]
  },
  {
   "cell_type": "code",
   "execution_count": 2,
   "id": "d2f90d322d54ef95",
   "metadata": {
    "ExecuteTime": {
     "end_time": "2025-02-27T05:17:39.029845Z",
     "start_time": "2025-02-27T05:17:37.511049Z"
    }
   },
   "outputs": [],
   "source": [
    "spark = (\n",
    "    SparkSession.builder\n",
    "        .appName('NYC Taxy')    \n",
    "        .getOrCreate()\n",
    ")"
   ]
  },
  {
   "cell_type": "code",
   "execution_count": 5,
   "id": "fcee672bd4982637",
   "metadata": {
    "ExecuteTime": {
     "end_time": "2025-02-27T05:17:46.660044Z",
     "start_time": "2025-02-27T05:17:39.088670Z"
    }
   },
   "outputs": [],
   "source": [
    "trip_data = spark.read.csv('../data/trip_data/trip_data_1.csv', header=True, inferSchema=True)\n",
    "trip_fare = spark.read.csv('../data/trip_fare/trip_fare_1.csv', header=True, inferSchema=True)\n",
    "\n",
    "# Remove whitespace from column names\n",
    "trip_data = trip_data.toDF(*[col_name.strip() for col_name in trip_data.columns])\n",
    "trip_fare = trip_fare.toDF(*[col_name.strip() for col_name in trip_fare.columns])"
   ]
  },
  {
   "cell_type": "code",
   "execution_count": 6,
   "id": "585b235305a20ffe",
   "metadata": {
    "ExecuteTime": {
     "end_time": "2025-02-27T05:17:46.668578Z",
     "start_time": "2025-02-27T05:17:46.666516Z"
    }
   },
   "outputs": [
    {
     "name": "stdout",
     "output_type": "stream",
     "text": [
      "trip_data || trip_fare\n",
      "=== || ===\n",
      "medallion || medallion\n",
      "hack_license || hack_license\n",
      "vendor_id || vendor_id\n",
      "rate_code || pickup_datetime\n",
      "store_and_fwd_flag || payment_type\n",
      "pickup_datetime || fare_amount\n",
      "dropoff_datetime || surcharge\n",
      "passenger_count || mta_tax\n",
      "trip_time_in_secs || tip_amount\n",
      "trip_distance || tolls_amount\n",
      "pickup_longitude || total_amount\n",
      "pickup_latitude || \n",
      "dropoff_longitude || \n",
      "dropoff_latitude || \n"
     ]
    }
   ],
   "source": [
    "from itertools import zip_longest\n",
    "\n",
    "print('trip_data', '||', 'trip_fare')\n",
    "print('===', '||', '===')\n",
    "for cols in zip_longest(trip_data.columns, trip_fare.columns, fillvalue=''):\n",
    "    print(cols[0], '||', cols[1])"
   ]
  },
  {
   "cell_type": "code",
   "execution_count": 7,
   "id": "2310a8772a17fa69",
   "metadata": {
    "ExecuteTime": {
     "end_time": "2025-02-27T05:18:02.451150Z",
     "start_time": "2025-02-27T05:17:46.738070Z"
    }
   },
   "outputs": [
    {
     "name": "stdout",
     "output_type": "stream",
     "text": [
      "+--------------------+-----------------+------------------+-------------------+\n",
      "|           medallion|  total_trip_time|   total_idle_time|        utilization|\n",
      "+--------------------+-----------------+------------------+-------------------+\n",
      "|0038EF45118925A51...|609.1419406575782| 1210.392943063352| 0.3347789295536281|\n",
      "|00BD5D1AD3A96C997...|695.9139784946236|  968.010752688172| 0.4182364535203076|\n",
      "|01A2F4366180AEB43...|670.1421736158578| 828.4401913875598|0.44718407827675827|\n",
      "|01D13A056D9A26F84...|676.9428238039674| 963.9206534422403|  0.412552801126424|\n",
      "|01F24976B8E3FF46A...|779.4729411764706|            535.32| 0.5928484377768273|\n",
      "|024E99A049B748C44...|957.7852348993289|1440.4026845637584|0.39937872554781295|\n",
      "|025B4E80E8A06FDB0...|875.8581235697941|1296.7242562929061| 0.4031415018772017|\n",
      "|026B27179DE85CFDC...|690.6886120996442| 845.1316725978647| 0.4497196833389138|\n",
      "|02B196981B24858BC...|729.7250361794501|1392.2431259044863| 0.3438906620836402|\n",
      "|02C49A409C2DC66B1...|            634.3|             713.7|0.47054896142433233|\n",
      "|02EB69D2058D3F6F9...|677.6069094304388| 809.9084967320262|0.45552933880432783|\n",
      "|02EBF943439BE7166...|709.1616766467066| 879.7005988023952|0.44633300670837417|\n",
      "|0318F7BBB8FF48688...|654.6725352112676| 788.7394366197183|0.45355903095414085|\n",
      "|0398E30B94A30D36B...|691.1845730027549|1053.5537190082644| 0.3961537246976348|\n",
      "|03A6307BA4258D122...|792.1286370597244|1175.0995405819297|0.40266230733302194|\n",
      "|03F2B14F5C52CC104...|703.0128205128206|1248.2051282051282|0.36029435921022374|\n",
      "|0545C6C1D0CDD7406...|          678.145| 870.4335714285714| 0.4379144930143311|\n",
      "|05B8494B15C1FCADD...|669.1934566145093| 688.1564722617354|0.49301469162674744|\n",
      "|0646CC81D58EFCE89...|617.0084507042253|1090.8910798122065|0.36126741630853154|\n",
      "|0652FAF3DE4984E9A...| 732.686660698299|1009.1396598030439|0.42064277710961034|\n",
      "+--------------------+-----------------+------------------+-------------------+\n",
      "only showing top 20 rows\n",
      "\n"
     ]
    }
   ],
   "source": [
    "# Join trip_data and trip_fare on medallion, hack_license, pickup_datetime\n",
    "df_join = trip_data.join(trip_fare, on=[\"medallion\", \"hack_license\", \"pickup_datetime\"], how=\"inner\")\n",
    "\n",
    "# Add pickup and dropoff as timestamps\n",
    "df_ts = (df_join.withColumn(\"ts_pickup\", unix_timestamp(col(\"pickup_datetime\")))\n",
    "      .withColumn(\"ts_dropoff\", unix_timestamp(col(\"dropoff_datetime\"))))\n",
    "\n",
    "window_spec = Window.partitionBy(\"medallion\").orderBy(\"ts_pickup\")\n",
    "\n",
    "# Add previous delivery dropoff timestamp using lag function\n",
    "# lag() returns previous window row value\n",
    "df_ts = df_ts.withColumn(\"prev_ts_dropoff\", lag(\"ts_dropoff\").over(window_spec))\n",
    "\n",
    "df_ts = df_ts.withColumn(\"idle_time\", col(\"ts_pickup\") - col(\"prev_ts_dropoff\"))\n",
    "\n",
    "HOURS_4 = 4 * 60 * 60 # 14400 seconds\n",
    "# Remove neg idle_time and idle_time > 4h\n",
    "df_ts_wo_exceptions = df_ts.filter((col(\"idle_time\") > 0) & (col(\"idle_time\") <= 14400))\n",
    "\n",
    "# Group by taxi (using medallion col)\n",
    "df_util = df_ts_wo_exceptions.groupBy(\"medallion\").agg(\n",
    "    avg(col(\"trip_time_in_secs\")).alias(\"total_trip_time\"),\n",
    "    avg(col(\"idle_time\")).alias(\"total_idle_time\")\n",
    ")\n",
    "\n",
    "# Calculate utilization col\n",
    "df_util = df_util.withColumn(\n",
    "    \"utilization\", col(\"total_trip_time\") / (col(\"total_trip_time\") + col(\"total_idle_time\"))\n",
    ")\n",
    "\n",
    "df_util.show()"
   ]
  },
  {
   "cell_type": "code",
   "execution_count": 8,
   "id": "2cd991fa5efbb4c3",
   "metadata": {
    "ExecuteTime": {
     "end_time": "2025-02-27T05:19:39.913395Z",
     "start_time": "2025-02-27T05:19:24.228358Z"
    }
   },
   "outputs": [],
   "source": [
    "#df_util.select('medallion', 'utilization', 'total_trip_time', 'total_idle_time').write.mode('overwrite').option('header', True).csv('./utilization.csv')"
   ]
  },
  {
   "cell_type": "code",
   "execution_count": 5,
   "id": "bb4421cfa7b11ef4",
   "metadata": {
    "ExecuteTime": {
     "end_time": "2025-02-27T05:18:02.733560Z",
     "start_time": "2025-02-27T05:15:08.696507Z"
    }
   },
   "outputs": [],
   "source": [
    "\n"
   ]
  }
 ],
 "metadata": {
  "kernelspec": {
   "display_name": "Python 3 (ipykernel)",
   "language": "python",
   "name": "python3"
  },
  "language_info": {
   "codemirror_mode": {
    "name": "ipython",
    "version": 3
   },
   "file_extension": ".py",
   "mimetype": "text/x-python",
   "name": "python",
   "nbconvert_exporter": "python",
   "pygments_lexer": "ipython3",
   "version": "3.11.10"
  }
 },
 "nbformat": 4,
 "nbformat_minor": 5
}
