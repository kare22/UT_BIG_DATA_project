{
 "cells": [
  {
   "cell_type": "markdown",
   "id": "22adf81d-f884-407d-87b6-a4b99697d762",
   "metadata": {},
   "source": [
    "# Queries"
   ]
  },
  {
   "cell_type": "markdown",
   "id": "9f077cfb-3e7d-4294-b5f8-79ea40b638bd",
   "metadata": {},
   "source": [
    "NB! Run `0_data_enrichment.ipynb` first to get the `../output/output.parquet` file!"
   ]
  },
  {
   "cell_type": "code",
   "execution_count": 15,
   "id": "initial_id",
   "metadata": {},
   "outputs": [],
   "source": [
    "from pyspark.sql import SparkSession\n",
    "from pyspark.sql.functions import col, to_timestamp, unix_timestamp, lag, sum, avg, round\n",
    "from pyspark.sql.window import Window"
   ]
  },
  {
   "cell_type": "code",
   "execution_count": 2,
   "id": "5b663a03-bb26-4a76-9724-ab0faf69b7fc",
   "metadata": {},
   "outputs": [],
   "source": [
    "spark = (\n",
    "    SparkSession.builder\n",
    "        .appName('NYC Taxi queries')\n",
    "        .getOrCreate()\n",
    ")"
   ]
  },
  {
   "cell_type": "code",
   "execution_count": 3,
   "id": "3a704e8a-b9a2-46f1-ab63-3c23d9526e57",
   "metadata": {},
   "outputs": [],
   "source": [
    "df = spark.read.load('../output/output.parquet')"
   ]
  },
  {
   "cell_type": "code",
   "execution_count": 5,
   "id": "0904361a-ca4b-4ce4-8928-9d2d980b5d33",
   "metadata": {},
   "outputs": [
    {
     "name": "stdout",
     "output_type": "stream",
     "text": [
      "+--------------------+--------------+---------------+----------+----------+\n",
      "|           medallion|pickup_borough|dropoff_borough| pickup_ts|dropoff_ts|\n",
      "+--------------------+--------------+---------------+----------+----------+\n",
      "|FFE1AB76511357473...| Staten Island|         Queens|1358097060|1358098260|\n",
      "|7FA4613170593EB05...|      Brooklyn|      Manhattan|1358064540|1358065560|\n",
      "|F1EF8290A54338B13...|      Brooklyn|         Queens|1357373760|1357374600|\n",
      "|590D90160BD7C2673...|      Brooklyn|      Manhattan|1357597260|1357598280|\n",
      "|70D0498946F93A8DB...|      Brooklyn|      Manhattan|1358071620|1358073420|\n",
      "|2FEA0AF4B4BDD3A9B...|      Brooklyn|      Manhattan|1358071800|1358073180|\n",
      "|E520117674DF8949E...|      Brooklyn|         Queens|1358068560|1358070000|\n",
      "|F5F6C2E6AC24A2DB6...|      Brooklyn|         Queens|1358061060|1358061900|\n",
      "|B6D017202CE202513...|      Brooklyn|         Queens|1358052060|1358053020|\n",
      "|47537578B06C874F6...|      Brooklyn|      Manhattan|1358059140|1358060040|\n",
      "|38010D372ED4B3999...|      Brooklyn|      Manhattan|1358060100|1358061240|\n",
      "|8A85629DAF5BC8D0E...|      Brooklyn|      Manhattan|1358068620|1358069760|\n",
      "|DF3B186B9D2C9AF56...|      Brooklyn|      Manhattan|1358072400|1358073480|\n",
      "|C5E51C3EC50905FC8...|      Brooklyn|      Manhattan|1358059860|1358061300|\n",
      "|BE8510A528238ACE6...|      Brooklyn|      Manhattan|1358066220|1358067840|\n",
      "|F6BB15B0F863D58E2...|      Brooklyn|      Manhattan|1358046720|1358048160|\n",
      "|C2BE20999D1EB335D...|      Brooklyn|       Brooklyn|1358072640|1358073780|\n",
      "|2C2E087DC43A9B8A3...|      Brooklyn|      Manhattan|1358058480|1358059680|\n",
      "|FB92F691B7E933E64...|      Brooklyn|      Manhattan|1358044020|1358045340|\n",
      "|716EC9ABAB6F82141...|      Brooklyn|      Manhattan|1358060940|1358062380|\n",
      "+--------------------+--------------+---------------+----------+----------+\n",
      "only showing top 20 rows\n",
      "\n"
     ]
    }
   ],
   "source": [
    "df.show()"
   ]
  },
  {
   "cell_type": "code",
   "execution_count": 6,
   "id": "0bc8cffa-36f9-4ec9-9a46-11c5bb5b0a72",
   "metadata": {},
   "outputs": [],
   "source": [
    "# Preprocessing for query 1 and 2\n",
    "\n",
    "# Order by prickup_ts to get sequential trips\n",
    "# Group by medallion (per taxi)\n",
    "window = Window.partitionBy('medallion').orderBy('pickup_ts')\n",
    "\n",
    "df_ts = (df\n",
    "         .withColumn('dropoff_ts_prev', lag('dropoff_ts').over(window)) # lag() returns previous window row value*\n",
    "         .withColumn('idle_time', col('pickup_ts') - col('dropoff_ts_prev'))\n",
    "         .withColumn('trip_time', col('dropoff_ts') - col('pickup_ts'))\n",
    "        )\n",
    "\n",
    "# Remove neg idle_time and idle_time > 4h\n",
    "HOURS_4 = 4 * 60 * 60 # 14400 seconds\n",
    "df_ts_wo_exceptions = df_ts.filter((col('idle_time') > 0) & (col('idle_time') <= 14400))"
   ]
  },
  {
   "cell_type": "markdown",
   "id": "6109418d-08d4-40a6-8c33-51f735b276b5",
   "metadata": {},
   "source": [
    "## Query 1"
   ]
  },
  {
   "cell_type": "code",
   "execution_count": 7,
   "id": "1baaa2c5-c7b8-4ad1-ba1e-3fa62635c731",
   "metadata": {},
   "outputs": [],
   "source": [
    "# Group by taxi (using medallion col)\n",
    "df_medal = df_ts_wo_exceptions.groupBy('medallion').agg(\n",
    "    avg(col('trip_time')).alias('total_trip_time'),\n",
    "    avg(col('idle_time')).alias('total_idle_time')\n",
    ")\n",
    "\n",
    "# Calculate utilization col\n",
    "df_util = df_medal.withColumn(\n",
    "    'utilization', col('total_trip_time') / (col('total_trip_time') + col('total_idle_time'))\n",
    ")"
   ]
  },
  {
   "cell_type": "code",
   "execution_count": 13,
   "id": "f236f88c-721e-44a6-835f-92b275236245",
   "metadata": {},
   "outputs": [
    {
     "name": "stdout",
     "output_type": "stream",
     "text": [
      "+--------------------+-----------------+------------------+-------------------+\n",
      "|           medallion|  total_trip_time|   total_idle_time|        utilization|\n",
      "+--------------------+-----------------+------------------+-------------------+\n",
      "|000318C2E3E638158...|649.0909090909091| 654.5454545454545|0.49790794979079506|\n",
      "|002E3B405B6ABEA23...|886.6666666666666|1793.3333333333333| 0.3308457711442786|\n",
      "|0030AD2648D81EE87...|           1440.0|             720.0| 0.6666666666666666|\n",
      "|0036961468659D0BF...|603.5294117647059|1161.1764705882354|0.34199999999999997|\n",
      "|0038EF45118925A51...|517.8947368421053| 795.7894736842105| 0.3942307692307693|\n",
      "|003EEA559FA618008...|643.6363636363636|1756.3636363636363| 0.2681818181818182|\n",
      "|0053334C798EC6C8E...|833.3333333333334|2493.3333333333335|  0.250501002004008|\n",
      "|005DED7D6E6C45441...|            895.0|             980.0|0.47733333333333333|\n",
      "|005F00B38F46E2100...|            715.2|            1687.2| 0.2977022977022977|\n",
      "|00790C7BAD30B7A9E...|           663.75|            1582.5|0.29549248747913187|\n",
      "|0094A03FFE6BAFBE0...|           1080.0|             600.0| 0.6428571428571429|\n",
      "|009D3CCA83486B03F...|683.5714285714286|1461.4285714285713|0.31868131868131866|\n",
      "|00BD5D1AD3A96C997...|            664.0|             836.0|0.44266666666666665|\n",
      "|00FB3D49C3DE5E002...|            570.0|             607.5| 0.4840764331210191|\n",
      "|012B65864B3BE97D6...|           1240.0|            2120.0|0.36904761904761907|\n",
      "|012F172C0351A4767...|            570.0|1564.6153846153845|  0.267027027027027|\n",
      "|01389E9CF7758ECAC...|            720.0|            2730.0|0.20869565217391303|\n",
      "|019AFB33C3153481B...|            756.0|            1344.0|               0.36|\n",
      "|01BD10395EF30144C...|            495.0|             742.5|                0.4|\n",
      "|01C905F5CF4CD4D36...|572.3076923076923| 641.5384615384615| 0.4714828897338403|\n",
      "+--------------------+-----------------+------------------+-------------------+\n",
      "only showing top 20 rows\n",
      "\n"
     ]
    }
   ],
   "source": [
    "df_util.show()"
   ]
  },
  {
   "cell_type": "markdown",
   "id": "d9342805-8d94-4b88-84b4-3b5431ce8253",
   "metadata": {},
   "source": [
    "## Query 2"
   ]
  },
  {
   "cell_type": "code",
   "execution_count": 20,
   "id": "9c9198ac-0ee9-463e-917e-0302cbc4d2a2",
   "metadata": {},
   "outputs": [],
   "source": [
    "# calculates the average idle time before the next ride per destination borough in seconds\n",
    "df_time_to_next = df_ts_wo_exceptions.groupBy('dropoff_borough').agg(\n",
    "    round(avg(col('idle_time')) / 1000, 2).alias('avg_time_for_next_ride_secs')\n",
    ")"
   ]
  },
  {
   "cell_type": "code",
   "execution_count": 21,
   "id": "3661074b-2d2a-4ce8-b7b6-133ccf5faccd",
   "metadata": {},
   "outputs": [
    {
     "name": "stdout",
     "output_type": "stream",
     "text": [
      "+---------------+---------------------------+\n",
      "|dropoff_borough|avg_time_for_next_ride_secs|\n",
      "+---------------+---------------------------+\n",
      "|         Queens|                       2.07|\n",
      "|       Brooklyn|                       1.96|\n",
      "|      Manhattan|                       1.15|\n",
      "|          Bronx|                       2.24|\n",
      "|  Staten Island|                       1.28|\n",
      "+---------------+---------------------------+\n",
      "\n"
     ]
    }
   ],
   "source": [
    "df_time_to_next.show()"
   ]
  },
  {
   "cell_type": "markdown",
   "id": "b51a282d-8629-4379-86b1-03ec3e6d7553",
   "metadata": {},
   "source": [
    "## Query 3"
   ]
  },
  {
   "cell_type": "code",
   "execution_count": 22,
   "id": "fa7ca403-25da-4424-8be1-76baa9ef58f5",
   "metadata": {},
   "outputs": [],
   "source": [
    "# exclude columns that have null values and count rows that have same dropoff and pickup borough\n",
    "c_trips_end_start_loc_same = df.where(\n",
    "    (col(\"pickup_borough\").isNotNull()) & \n",
    "    (col(\"dropoff_borough\").isNotNull()) & \n",
    "    (col(\"pickup_borough\") == col(\"dropoff_borough\"))\n",
    ").count()"
   ]
  },
  {
   "cell_type": "code",
   "execution_count": 23,
   "id": "24ec6567-c84c-40c9-8509-fb6fbb40aaae",
   "metadata": {},
   "outputs": [
    {
     "data": {
      "text/plain": [
       "86074"
      ]
     },
     "execution_count": 23,
     "metadata": {},
     "output_type": "execute_result"
    }
   ],
   "source": [
    "c_trips_end_start_loc_same"
   ]
  },
  {
   "cell_type": "markdown",
   "id": "1ad28cfd-3d77-493c-9241-48c274d6cb75",
   "metadata": {},
   "source": [
    "## Query 4"
   ]
  },
  {
   "cell_type": "code",
   "execution_count": 24,
   "id": "7a7a8da9-4112-4a07-ad0a-4b913d43b32d",
   "metadata": {},
   "outputs": [],
   "source": [
    "# exclude null columns with null values and count rows that have different dropoff and pickup borough\n",
    "c_trips_end_start_loc_not_same = df.where(\n",
    "    (col(\"pickup_borough\").isNotNull()) & \n",
    "    (col(\"dropoff_borough\").isNotNull()) & \n",
    "    (col(\"pickup_borough\") != col(\"dropoff_borough\"))\n",
    ").count()"
   ]
  },
  {
   "cell_type": "code",
   "execution_count": 25,
   "id": "f43012d3-9f1e-40e6-8351-87bea3639493",
   "metadata": {},
   "outputs": [
    {
     "data": {
      "text/plain": [
       "11433"
      ]
     },
     "execution_count": 25,
     "metadata": {},
     "output_type": "execute_result"
    }
   ],
   "source": [
    "c_trips_end_start_loc_not_same"
   ]
  },
  {
   "cell_type": "markdown",
   "id": "ef2c4c4d-f3d4-4bc2-bc1e-8fad4fbc9df0",
   "metadata": {},
   "source": [
    "## Miscellaneous"
   ]
  },
  {
   "cell_type": "code",
   "execution_count": 26,
   "id": "31066b64-7dd6-4694-ad2e-d64aa6ad98fc",
   "metadata": {},
   "outputs": [
    {
     "name": "stdout",
     "output_type": "stream",
     "text": [
      "Number of trips with location: 97507\n"
     ]
    }
   ],
   "source": [
    "print(f\"Number of trips with location: {df.count()}\")"
   ]
  },
  {
   "cell_type": "code",
   "execution_count": 15,
   "id": "097b1b8c-3f55-42eb-bccc-d55d675ac874",
   "metadata": {},
   "outputs": [
    {
     "name": "stdout",
     "output_type": "stream",
     "text": [
      "Q3+Q4 equals total sum? True\n"
     ]
    }
   ],
   "source": [
    "# validate that number of trips in query 3 and query 4 match the total \n",
    "is_count_eq = df.count() == c_trips_end_start_loc_same + c_trips_end_start_loc_not_same\n",
    "print(f\"Q3+Q4 equals total sum? {is_count_eq}\")"
   ]
  }
 ],
 "metadata": {
  "kernelspec": {
   "display_name": "Python 3 (ipykernel)",
   "language": "python",
   "name": "python3"
  },
  "language_info": {
   "codemirror_mode": {
    "name": "ipython",
    "version": 3
   },
   "file_extension": ".py",
   "mimetype": "text/x-python",
   "name": "python",
   "nbconvert_exporter": "python",
   "pygments_lexer": "ipython3",
   "version": "3.11.10"
  }
 },
 "nbformat": 4,
 "nbformat_minor": 5
}
