{
 "cells": [
  {
   "cell_type": "code",
   "execution_count": 1,
   "id": "28c6727ab8b783bf",
   "metadata": {
    "ExecuteTime": {
     "end_time": "2025-02-27T05:17:37.498548Z",
     "start_time": "2025-02-27T05:17:37.300599Z"
    }
   },
   "outputs": [],
   "source": [
    "from pyspark.sql import SparkSession\n",
    "from pyspark.sql.functions import col, to_timestamp, unix_timestamp, lag, sum, avg\n",
    "from pyspark.sql.window import Window"
   ]
  },
  {
   "cell_type": "code",
   "execution_count": 2,
   "id": "d2f90d322d54ef95",
   "metadata": {
    "ExecuteTime": {
     "end_time": "2025-02-27T05:17:39.029845Z",
     "start_time": "2025-02-27T05:17:37.511049Z"
    }
   },
   "outputs": [],
   "source": [
    "spark = (\n",
    "    SparkSession.builder\n",
    "        .appName('NYC Taxi query 1')\n",
    "        .getOrCreate()\n",
    ")"
   ]
  },
  {
   "cell_type": "code",
   "execution_count": 3,
   "id": "95f2ec9a-fdb0-4c3e-9284-be52bd93993a",
   "metadata": {},
   "outputs": [],
   "source": [
    "# Load trip data\n",
    "\n",
    "# Can use both output file or original\n",
    "df = spark.read.csv('../data/Sample NYC Data.csv', header=True, inferSchema=True)"
   ]
  },
  {
   "cell_type": "code",
   "execution_count": 4,
   "id": "1ad0b7d6-8171-4607-99ee-84c38975f112",
   "metadata": {},
   "outputs": [],
   "source": [
    "DATE_FORMAT = 'dd-MM-yy HH:mm'\n",
    "df_ts = (df\n",
    "         .withColumn('pickup_ts', unix_timestamp(to_timestamp(col(\"pickup_datetime\"), DATE_FORMAT)))\n",
    "         .withColumn('dropoff_ts', unix_timestamp(to_timestamp(col(\"dropoff_datetime\"), DATE_FORMAT)))\n",
    "        )\n",
    "\n",
    "window = Window.partitionBy('medallion').orderBy('pickup_ts')\n",
    "\n",
    "df_ts = (df_ts\n",
    "         .withColumn('dropoff_ts_prev', lag('dropoff_ts').over(window)) # lag() returns previous window row value\n",
    "         .withColumn('idle_time', col('pickup_ts') - col('dropoff_ts_prev'))\n",
    "         .withColumn('trip_time', col('dropoff_ts') - col('pickup_ts'))\n",
    "        )\n",
    "\n",
    "# Remove neg idle_time and idle_time > 4h\n",
    "HOURS_4 = 4 * 60 * 60 # 14400 seconds\n",
    "df_ts_wo_exceptions = df_ts.filter((col('idle_time') > 0) & (col('idle_time') <= 14400))\n",
    "\n",
    "\n",
    "# Group by taxi (using medallion col)\n",
    "df_util = df_ts_wo_exceptions.groupBy('medallion').agg(\n",
    "    avg(col('trip_time')).alias('total_trip_time'),\n",
    "    avg(col('idle_time')).alias('total_idle_time')\n",
    ")\n",
    "\n",
    "# Calculate utilization col\n",
    "df_util = df_util.withColumn(\n",
    "    'utilization', col('total_trip_time') / (col('total_trip_time') + col('total_idle_time'))\n",
    ")\n"
   ]
  },
  {
   "cell_type": "code",
   "execution_count": 5,
   "id": "2cd991fa5efbb4c3",
   "metadata": {
    "ExecuteTime": {
     "end_time": "2025-02-27T05:19:39.913395Z",
     "start_time": "2025-02-27T05:19:24.228358Z"
    }
   },
   "outputs": [
    {
     "name": "stdout",
     "output_type": "stream",
     "text": [
      "+--------------------+-----------------+------------------+-------------------+\n",
      "|           medallion|  total_trip_time|   total_idle_time|        utilization|\n",
      "+--------------------+-----------------+------------------+-------------------+\n",
      "|000318C2E3E638158...|589.0909090909091| 790.9090909090909|0.42687747035573126|\n",
      "|002B4CFC5B8920A87...|711.4285714285714|1264.2857142857142| 0.3600867678958785|\n",
      "|002E3B405B6ABEA23...|886.6666666666666|1793.3333333333333| 0.3308457711442786|\n",
      "|0030AD2648D81EE87...|           1440.0|             720.0| 0.6666666666666666|\n",
      "|0035520A854E4F276...|            655.0|            1240.0|0.34564643799472294|\n",
      "|0036961468659D0BF...|603.5294117647059|1161.1764705882354|0.34199999999999997|\n",
      "|003889E315BFDD985...|            457.5|            1185.0| 0.2785388127853881|\n",
      "|0038EF45118925A51...|517.8947368421053| 795.7894736842105| 0.3942307692307693|\n",
      "|003D87DB553C6F00F...|            500.0|             507.5|0.49627791563275436|\n",
      "|003EEA559FA618008...|643.6363636363636|1756.3636363636363| 0.2681818181818182|\n",
      "|0053334C798EC6C8E...|            750.0|            2244.0|  0.250501002004008|\n",
      "|005DED7D6E6C45441...|            895.0|             980.0|0.47733333333333333|\n",
      "|005F00B38F46E2100...|            715.2|            1687.2| 0.2977022977022977|\n",
      "|00790C7BAD30B7A9E...|           663.75|            1582.5|0.29549248747913187|\n",
      "|0081EFFCBB2AD30F9...|726.3157894736842|1762.1052631578948| 0.2918781725888324|\n",
      "|00891E0B23CDA09C3...|592.9411764705883| 585.8823529411765| 0.5029940119760479|\n",
      "|0094A03FFE6BAFBE0...|           1080.0|             600.0| 0.6428571428571429|\n",
      "|009D3CCA83486B03F...|683.5714285714286|1461.4285714285713|0.31868131868131866|\n",
      "|00A49907F0F143BD4...|           1012.5|            3675.0|              0.216|\n",
      "|00A74F4CAB098B3A3...|701.5384615384615|            1350.0|0.34195725534308213|\n",
      "+--------------------+-----------------+------------------+-------------------+\n",
      "only showing top 20 rows\n",
      "\n"
     ]
    }
   ],
   "source": [
    "df_util.show()"
   ]
  }
 ],
 "metadata": {
  "kernelspec": {
   "display_name": "Python 3 (ipykernel)",
   "language": "python",
   "name": "python3"
  },
  "language_info": {
   "codemirror_mode": {
    "name": "ipython",
    "version": 3
   },
   "file_extension": ".py",
   "mimetype": "text/x-python",
   "name": "python",
   "nbconvert_exporter": "python",
   "pygments_lexer": "ipython3",
   "version": "3.11.10"
  }
 },
 "nbformat": 4,
 "nbformat_minor": 5
}
